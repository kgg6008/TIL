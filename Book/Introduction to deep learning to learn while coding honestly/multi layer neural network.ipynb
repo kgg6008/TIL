{
 "cells": [
  {
   "cell_type": "code",
   "execution_count": 1,
   "metadata": {},
   "outputs": [],
   "source": [
    "import numpy as np\n",
    "import matplotlib.pyplot as plt\n",
    "\n",
    "\n",
    "class SingleLayer:\n",
    "    def __init__(self, lr=.1, l1=0, l2=0):\n",
    "        self.w = None\n",
    "        self.b = None\n",
    "        self.losses = []\n",
    "        self.val_losses=[]\n",
    "        self.w_history = []\n",
    "        self.lr = lr\n",
    "        self.l1 = l1\n",
    "        self.l2 = l2\n",
    "        \n",
    "    def forward(self, x):\n",
    "        return np.dot(x, self.w) + self.b\n",
    "    \n",
    "    def backward(self, x, err):\n",
    "#         return x*err, err\n",
    "        m = len(x)\n",
    "        w_grad = np.dot(x.T, err) / m\n",
    "        b_grad = np.sum(err) / m\n",
    "        return w_grad, b_grad\n",
    "    \n",
    "\n",
    "    def fit(self, x, y, epochs=100, x_val=None, y_val=None):\n",
    "        y = y.reshape(-1, 1)\n",
    "        y_val = y_val.reshape(-1, 1)\n",
    "        m=len(x)\n",
    "        self.w = np.random.rand(x.shape[1],1)\n",
    "        self.b = np.random.rand()\n",
    "        self.w_history.append(self.w.copy())\n",
    "        for i in range(epochs):\n",
    "            z = self.forward(x)\n",
    "            a = self.activation(z)\n",
    "            err = -(y-a)\n",
    "            w_grad, b_grad = self.backward(x, err)\n",
    "            w_grad += (self.l1*np.sign(self.w) + self.l2*self.w) / m\n",
    "            self.w -= self.lr * w_grad\n",
    "            self.b -= self.lr * b_grad\n",
    "            self.w_history.append(self.w.copy())\n",
    "            a = np.clip(a, 1e-10, 1-1e-10)\n",
    "            loss = np.sum(-(y*np.log(a) + (1-y)*np.log(1-a)))\n",
    "            self.losses.append((loss + self.reg_loss()) / m)\n",
    "            self.update_val_losses(x_val, y_val)\n",
    "            \n",
    "            \n",
    "    def activation(self, z):\n",
    "        return 1 / (1+np.exp(-z))\n",
    "    \n",
    "    def predict(self, x):\n",
    "        return self.forward(x) > 0\n",
    "    \n",
    "    def score(self, x, y):\n",
    "        return np.mean(self.predict(x)==y.reshape(-1, 1))\n",
    "    \n",
    "    def update_val_losses(self, x_val, y_val):\n",
    "        if x_val is None or y_val is None:\n",
    "            return\n",
    "        z = self.forward(x_val)\n",
    "        a = self.activation(z)\n",
    "        a = np.clip(a, 1e-10, 1-1e-10)\n",
    "        val_loss = np.sum(-(y_val*np.log(a) + (1-y_val)*np.log(1-a)))\n",
    "        self.val_losses.append((val_loss + self.reg_loss())/ len(y_val))\n",
    "        \n",
    "    def reg_loss(self):\n",
    "        return self.l1*np.sum(np.abs(self.w)) + self.l2/2*np.sum(self.w**2)"
   ]
  },
  {
   "cell_type": "code",
   "execution_count": 2,
   "metadata": {},
   "outputs": [],
   "source": [
    "from sklearn.datasets import load_breast_cancer\n",
    "from sklearn.model_selection import train_test_split\n",
    "\n",
    "cancer = load_breast_cancer()\n",
    "x = cancer.data\n",
    "y = cancer.target\n",
    "x_train_all, x_test, y_train_all, y_test = train_test_split(x, y, stratify=y, \n",
    "                                                           test_size=.2, random_state=42)\n",
    "x_train, x_val, y_train, y_val = train_test_split(x_train_all, y_train_all,\n",
    "                                                 stratify=y_train_all, test_size=.2, random_state=42)"
   ]
  },
  {
   "cell_type": "code",
   "execution_count": 3,
   "metadata": {},
   "outputs": [
    {
     "name": "stdout",
     "output_type": "stream",
     "text": [
      "(364, 30) (91, 30)\n"
     ]
    }
   ],
   "source": [
    "print(x_train.shape, x_val.shape)"
   ]
  },
  {
   "cell_type": "code",
   "execution_count": 4,
   "metadata": {},
   "outputs": [],
   "source": [
    "from sklearn.preprocessing import StandardScaler\n",
    "scaler = StandardScaler()\n",
    "scaler.fit(x_train)\n",
    "x_train_scaled = scaler.transform(x_train)\n",
    "x_val_scaled = scaler.transform(x_val)"
   ]
  },
  {
   "cell_type": "code",
   "execution_count": 5,
   "metadata": {},
   "outputs": [],
   "source": [
    "single_layer = SingleLayer(l2=.01)\n",
    "single_layer.fit(x_train_scaled, y_train, x_val=x_val_scaled, y_val=y_val, epochs=10000)"
   ]
  },
  {
   "cell_type": "code",
   "execution_count": 6,
   "metadata": {},
   "outputs": [
    {
     "data": {
      "text/plain": [
       "0.978021978021978"
      ]
     },
     "execution_count": 6,
     "metadata": {},
     "output_type": "execute_result"
    }
   ],
   "source": [
    "single_layer.score(x_val_scaled, y_val)"
   ]
  },
  {
   "cell_type": "code",
   "execution_count": 7,
   "metadata": {},
   "outputs": [
    {
     "data": {
      "image/png": "[encoded data removed]",
      "text/plain": [
       "<Figure size 432x288 with 1 Axes>"
      ]
     },
     "metadata": {
      "needs_background": "light"
     },
     "output_type": "display_data"
    }
   ],
   "source": [
    "%matplotlib inline\n",
    "plt.plot(single_layer.losses)\n",
    "plt.plot(single_layer.val_losses)\n",
    "plt.legend(['train_loss','val_loss'])\n",
    "plt.ylim(0, .3)\n",
    "plt.show()"
   ]
  },
  {
   "cell_type": "code",
   "execution_count": 8,
   "metadata": {},
   "outputs": [
    {
     "data": {
      "image/png": "[encoded data removed]",
      "text/plain": [
       "<Figure size 432x288 with 1 Axes>"
      ]
     },
     "metadata": {
      "needs_background": "light"
     },
     "output_type": "display_data"
    }
   ],
   "source": [
    "w2 = []; w3 = []\n",
    "for w in single_layer.w_history:\n",
    "    w2.append(w[2])\n",
    "    w3.append(w[3])\n",
    "\n",
    "plt.plot(w2, w3)\n",
    "plt.plot(w2[-1], w3[-1], 'ro')\n",
    "plt.show()"
   ]
  },
  {
   "cell_type": "code",
   "execution_count": 12,
   "metadata": {},
   "outputs": [],
   "source": [
    "class DualLayer(SingleLayer):\n",
    "    def __init__(self, units=10, lr=.1, l1=0, l2=0):\n",
    "        self.units =units\n",
    "        self.w1 = None\n",
    "        self.b1 = None\n",
    "        self.w2 =None\n",
    "        self.b2 = None\n",
    "        self.a1 = None\n",
    "        self.losses = []\n",
    "        self.val_losses = []\n",
    "        self.lr = lr\n",
    "        self.l1 = l1\n",
    "        self.l2 = l2\n",
    "        \n",
    "    def forward(self, x):\n",
    "        z1 = np.dot(x, self.w1) + self.b1\n",
    "        self.a1 = self.activation(z1)\n",
    "        z2 = np.dot(self.a1, self.w2) + self.b2\n",
    "        return z2\n",
    "    \n",
    "    def backward(self, x, err):\n",
    "        m = len(x)\n",
    "        w2_grad = np.dot(self.a1.T, err) / m\n",
    "        b2_grad = np.sum(err) / m\n",
    "        \n",
    "        err_to_hidden = np.dot(err, self.w2.T) * self.a1 * (1- self.a1)\n",
    "        \n",
    "        w1_grad = np.dot(x.T, err_to_hidden) / m\n",
    "        b1_grad = np.sum(err_to_hidden, axis=0) / m\n",
    "        return w1_grad, b1_grad, w2_grad, b2_grad\n",
    "    \n",
    "    def init_weights(self, n_features):\n",
    "        self.w1 = np.random.rand(n_features, self.units)\n",
    "        self.b1 = np.random.rand(self.units)\n",
    "        self.w2 = np.random.rand(self.units, 1)\n",
    "        self.b2 = np.random.rand()\n",
    "        \n",
    "    def fit(self, x, y, epochs= 100, x_val= None, y_val=None):\n",
    "        y = y.reshape(-1, 1)\n",
    "        y_val = y_val.reshape(-1, 1)\n",
    "        m = len(x)\n",
    "        self.init_weights(x.shape[1])\n",
    "        \n",
    "        for i in range(epochs):\n",
    "            a = self.training(x, y, m)\n",
    "            a = np.clip(a, 1e-10, 1-1e-10)\n",
    "            loss = np.sum(-(y*np.log(a) + (1-y)*np.log(1-a)))\n",
    "            self.losses.append((loss + self.reg_loss())/m)\n",
    "            self.update_val_losses(x_val, y_val)\n",
    "            \n",
    "    def training(self, x, y, m):\n",
    "        z = self.forward(x)\n",
    "        a = self.activation(z)\n",
    "        err = -(y-a)\n",
    "        \n",
    "        w1_grad, b1_grad, w2_grad, b2_grad = self.backward(x, err)\n",
    "        w1_grad += (self.l1 * np.sign(self.w1) + self.l2 * self.w1) / m\n",
    "        w2_grad += (self.l1 * np.sign(self.w2) + self.l2 * self.w2) / m\n",
    "        \n",
    "        self.w1 -= self.lr*w1_grad\n",
    "        self.b1 -= self.lr*b1_grad\n",
    "        \n",
    "        self.w2 -= self.lr*w2_grad\n",
    "        self.b2 -= self.lr*b2_grad\n",
    "        \n",
    "        return a\n",
    "    \n",
    "    def reg_loss(self):\n",
    "        return self.l1 * (np.sum(np.abs(self.w1)) + np.sum(np.abs(self.w2))) + \\\n",
    "            self.l2 / 2 * (np.sum(self.w1**2)  + np.sum(self.w2**2))\n",
    "        "
   ]
  },
  {
   "cell_type": "code",
   "execution_count": 13,
   "metadata": {},
   "outputs": [],
   "source": [
    "dual_layer = DualLayer(l2=.01)\n",
    "dual_layer.fit(x_train_scaled, y_train, x_val=x_val_scaled, y_val=y_val, epochs=20000)"
   ]
  },
  {
   "cell_type": "code",
   "execution_count": 14,
   "metadata": {},
   "outputs": [
    {
     "data": {
      "text/plain": [
       "0.978021978021978"
      ]
     },
     "execution_count": 14,
     "metadata": {},
     "output_type": "execute_result"
    }
   ],
   "source": [
    "dual_layer.score(x_val_scaled, y_val)"
   ]
  },
  {
   "cell_type": "code",
   "execution_count": 15,
   "metadata": {},
   "outputs": [
    {
     "data": {
      "image/png": "[encoded data removed]",
      "text/plain": [
       "<Figure size 432x288 with 1 Axes>"
      ]
     },
     "metadata": {
      "needs_background": "light"
     },
     "output_type": "display_data"
    }
   ],
   "source": [
    "plt.ylim(0, .3)\n",
    "plt.plot(dual_layer.losses)\n",
    "plt.plot(dual_layer.val_losses)\n",
    "plt.ylabel('loss')\n",
    "plt.xlabel('epoch')\n",
    "plt.legend(['train loss', 'val loss'])\n",
    "plt.show()"
   ]
  },
  {
   "cell_type": "code",
   "execution_count": 16,
   "metadata": {},
   "outputs": [],
   "source": [
    "class RandomInitNetwork(DualLayer):\n",
    "    def init_weights(self, n_features):\n",
    "        self.w1 = np.random.normal(0, 1, (n_features, self.units))\n",
    "        self.b1 = np.zeros(self.units)\n",
    "        self.w2 = np.random.normal(0, 1, (self.units, 1))\n",
    "        self.b2 = 0"
   ]
  },
  {
   "cell_type": "code",
   "execution_count": 17,
   "metadata": {},
   "outputs": [],
   "source": [
    "random_init_net = RandomInitNetwork(l2=.01)\n",
    "random_init_net.fit(x_train_scaled, y_train, x_val=x_val_scaled, y_val=y_val, epochs=20000)"
   ]
  },
  {
   "cell_type": "code",
   "execution_count": 18,
   "metadata": {},
   "outputs": [
    {
     "data": {
      "image/png": "[encoded data removed]",
      "text/plain": [
       "<Figure size 432x288 with 1 Axes>"
      ]
     },
     "metadata": {
      "needs_background": "light"
     },
     "output_type": "display_data"
    }
   ],
   "source": [
    "plt.ylim(0, .3)\n",
    "plt.plot(random_init_net.losses)\n",
    "plt.plot(random_init_net.val_losses)\n",
    "plt.ylabel('loss')\n",
    "plt.xlabel('epoch')\n",
    "plt.legend(['train loss', 'val loss'])\n",
    "plt.show()"
   ]
  },
  {
   "cell_type": "code",
   "execution_count": 39,
   "metadata": {},
   "outputs": [],
   "source": [
    "class MinibatchNetwork(RandomInitNetwork):\n",
    "    \n",
    "    def __init__(self, units = 10, batch_size=32, lr = .1, l1=0, l2=0):\n",
    "        super().__init__(units, lr, l1,l2)\n",
    "        self.batch_size= batch_size\n",
    "        \n",
    "    def fit(self, x, y, epochs=100, x_val=None, y_val=None):\n",
    "        y = y.reshape(-1, 1)\n",
    "        y_val = y_val.reshape(-1, 1)\n",
    "        self.init_weights(x.shape[1])\n",
    "        np.random.seed(42)\n",
    "        \n",
    "        for i in range(epochs):\n",
    "            loss = 0\n",
    "            \n",
    "            for x_batch, y_batch in self.gen_batch(x,y):\n",
    "                y_batch = y_batch.reshape(-1, 1)\n",
    "                m = len(x_batch)\n",
    "                a = self.training(x_batch, y_batch, m)\n",
    "                a= np.clip(a, 1e-10, 1-1e-10)\n",
    "                loss += np.sum(-(y_batch*np.log(a) + (1-y_batch)*np.log(1-a)))\n",
    "            self.losses.append((loss + self.reg_loss()) / len(x))\n",
    "            self.update_val_losses(x_val, y_val)\n",
    "            \n",
    "    def gen_batch(self, x, y):\n",
    "        length = len(x)\n",
    "        bins = length // self.batch_size\n",
    "        if length % self.batch_size:\n",
    "            bins += 1\n",
    "        indexes = np.random.permutation(np.arange(len(x)))\n",
    "        x = x[indexes]\n",
    "        y = y[indexes]\n",
    "        for i in range(bins):\n",
    "            start = self.batch_size * i\n",
    "            end = self.batch_size * (i + 1)\n",
    "            yield x[start:end], y[start:end]"
   ]
  },
  {
   "cell_type": "code",
   "execution_count": 40,
   "metadata": {},
   "outputs": [
    {
     "data": {
      "text/plain": [
       "0.978021978021978"
      ]
     },
     "execution_count": 40,
     "metadata": {},
     "output_type": "execute_result"
    }
   ],
   "source": [
    "minibatch_net = MinibatchNetwork(l2=.01, batch_size=32)\n",
    "minibatch_net.fit(x_train_scaled, y_train, x_val=x_val_scaled, y_val=y_val, epochs=500)\n",
    "minibatch_net.score(x_val_scaled, y_val)"
   ]
  },
  {
   "cell_type": "code",
   "execution_count": 41,
   "metadata": {},
   "outputs": [
    {
     "data": {
      "image/png": "[encoded data removed]",
      "text/plain": [
       "<Figure size 432x288 with 1 Axes>"
      ]
     },
     "metadata": {
      "needs_background": "light"
     },
     "output_type": "display_data"
    }
   ],
   "source": [
    "plt.plot(minibatch_net.losses)\n",
    "plt.plot(minibatch_net.val_losses)\n",
    "plt.ylabel('loss')\n",
    "plt.xlabel('epoch')\n",
    "plt.legend(['train loss', 'val loss'])\n",
    "plt.show()"
   ]
  },
  {
   "cell_type": "code",
   "execution_count": 42,
   "metadata": {},
   "outputs": [
    {
     "data": {
      "text/plain": [
       "0.978021978021978"
      ]
     },
     "execution_count": 42,
     "metadata": {},
     "output_type": "execute_result"
    }
   ],
   "source": [
    "minibatch_net_128 = MinibatchNetwork(l2=.01, batch_size=128)\n",
    "minibatch_net_128.fit(x_train_scaled, y_train, x_val=x_val_scaled, y_val=y_val, epochs=500)\n",
    "minibatch_net_128.score(x_val_scaled, y_val)"
   ]
  },
  {
   "cell_type": "code",
   "execution_count": 43,
   "metadata": {},
   "outputs": [
    {
     "data": {
      "image/png": "[encoded data removed]",
      "text/plain": [
       "<Figure size 432x288 with 1 Axes>"
      ]
     },
     "metadata": {
      "needs_background": "light"
     },
     "output_type": "display_data"
    }
   ],
   "source": [
    "plt.plot(minibatch_net.losses)\n",
    "plt.plot(minibatch_net.val_losses)\n",
    "plt.plot(minibatch_net_128.losses)\n",
    "plt.plot(minibatch_net_128.val_losses)\n",
    "plt.ylabel('loss')\n",
    "plt.xlabel('epoch')\n",
    "plt.legend(['train loss(32)', 'val loss(32)', 'train loss(128)', 'val loss(128)'])\n",
    "plt.show()"
   ]
  },
  {
   "cell_type": "code",
   "execution_count": 44,
   "metadata": {},
   "outputs": [],
   "source": [
    "from sklearn.neural_network import MLPClassifier\n",
    "mlp = MLPClassifier(hidden_layer_sizes=(10,), activation='logistic',\n",
    "                   solver='sgd', alpha=.01, batch_size=32,\n",
    "                   learning_rate_init=.1, max_iter=500)"
   ]
  },
  {
   "cell_type": "code",
   "execution_count": 45,
   "metadata": {},
   "outputs": [
    {
     "data": {
      "text/plain": [
       "0.989010989010989"
      ]
     },
     "execution_count": 45,
     "metadata": {},
     "output_type": "execute_result"
    }
   ],
   "source": [
    "mlp.fit(x_train_scaled, y_train)\n",
    "mlp.score(x_val_scaled, y_val)"
   ]
  },
  {
   "cell_type": "code",
   "execution_count": 27,
   "metadata": {},
   "outputs": [],
   "source": [
    "import numpy as np\n",
    "\n",
    "class MulyiClassNetwork:\n",
    "    \n",
    "    def __init__(self, units=10, batch_size=32, learning_rate=.1, l1=0, l2=0):\n",
    "        self.units = units\n",
    "        self.batch_size = batch_size\n",
    "        self.w1, self.w2, self.b1, self.b2, self.a1 = [None] * 5\n",
    "        self.losses = []\n",
    "        self.val_losses = []\n",
    "        self.lr = learning_rate\n",
    "        self.l1 = l1\n",
    "        self.l2 = l2\n",
    "        \n",
    "    def forpass(self, x):\n",
    "        z1 = np.dot(x, self.w1) + self.b1\n",
    "        self.a1 = self.sigmoid(z1)\n",
    "        z2 = np.dot(self.a1, self.w2) + self.b2\n",
    "        return z2\n",
    "    \n",
    "    def backpass(self, x, err):\n",
    "        m = len(x)\n",
    "        w2_grad = np.dot(self.a1.T, err) / m\n",
    "        b2_grad = np.sum(err) / m\n",
    "\n",
    "        err_to_hidden = np.dot(err, self.w2.T) * self.a1 * (1 - self.a1)\n",
    "        \n",
    "        w1_grad = np.dot(x.T, err_to_hidden)/m\n",
    "        b1_grad = np.sum(err_to_hidden, axis=0)/m\n",
    "        \n",
    "        return w1_grad, b1_grad, w2_grad, b2_grad\n",
    "    \n",
    "    def sigmoid(self, z):\n",
    "        return 1 / (1 + np.exp(-z))\n",
    "    \n",
    "    def softmax(self, z):\n",
    "        exp_z = np.exp(z)\n",
    "        \n",
    "        return exp_z / np.sum(exp_z, axis = 1).reshape(-1, 1)\n",
    "    \n",
    "    def init_weights(self, n_features, n_classes):\n",
    "        self.w1 = np.random.normal(0, 1, (n_features, self.units))\n",
    "        self.b1 = np.random.normal(0, 1, (self.units,))\n",
    "        self.w2 = np.random.normal(0, 1, (self.units, n_classes))\n",
    "        self.b2 = np.random.normal(0, 1, (n_classes,))\n",
    "        \n",
    "    def fit(self, x, y, epochs=100, x_val=None, y_val = None):\n",
    "        np.random.seed(42)\n",
    "        self.init_weights(x.shape[1], y.shape[1])\n",
    "        for i in range(epochs):\n",
    "            loss = 0\n",
    "            print('.', end='')\n",
    "            for x_batch, y_batch in self.gen_batch(x,y):\n",
    "                a = self.training(x_batch, y_batch)\n",
    "                a = np.clip(a, 1e-10, 1 - 1e-10)\n",
    "                loss += np.sum(-y_batch*np.log(a))\n",
    "            self.losses.append((loss + self.reg_loss())/ len(x))\n",
    "            self.update_val_loss(x_val, y_val)\n",
    "            \n",
    "    def gen_batch(self, x, y):\n",
    "        length = len(x)\n",
    "        bins = length // self.batch_size\n",
    "        if length % self.batch_size:\n",
    "            bins += 1\n",
    "        indexes = np.random.permutation(np.arange(len(x)))\n",
    "        x = x[indexes]\n",
    "        y = y[indexes]\n",
    "        for i in range(bins):\n",
    "            start = self.batch_size * i\n",
    "            end = self.batch_size * (i+1)\n",
    "            yield x[start: end], y[start: end]\n",
    "            \n",
    "    def training(self, x, y):\n",
    "        m = len(x)\n",
    "        z = self.forpass(x)\n",
    "        a = self.softmax(z)\n",
    "        \n",
    "        err = -(y-a)\n",
    "        w1_grad, b1_grad, w2_grad, b2_grad = self.backpass(x, err)\n",
    "        \n",
    "        w1_grad += (self.l1 * np.sign(self.w1) + self.l2*self.w1) / m\n",
    "        w2_grad += (self.l1 * np.sign(self.w2) + self.l2*self.w2) / m\n",
    "        \n",
    "        self.w1 -= self.lr * w1_grad\n",
    "        self.b1 -= self.lr * b1_grad\n",
    "        \n",
    "        self.w2 -= self.lr * w2_grad\n",
    "        self.b2 -= self.lr * b2_grad\n",
    "        \n",
    "        return a\n",
    "    \n",
    "    def predict(self, x):\n",
    "        return np.argmax(self.forpass(x), axis = 1)\n",
    "    \n",
    "    def score(self, x, y):\n",
    "        return np.mean(self.predict(x) == np.argmax(y, axis = 1))\n",
    "    \n",
    "    def reg_loss(self):\n",
    "        return self.l1 * (np.sum(np.abs(self.w1)) + np.sum(np.abs(self.w2))) + \\\n",
    "                         self.l2 / 2 * (np.sum(self.w1**2) + np.sum(self.w2**2))\n",
    "    \n",
    "    def update_val_loss(self, x_val, y_val):\n",
    "        z = self.forpass(x_val)\n",
    "        a = self.softmax(z)\n",
    "        a = np.clip(a, 1e-10, 1-1e-10)\n",
    "        val_loss = np.sum(-y_val*np.log(a))\n",
    "        self.val_losses.append((val_loss + self.reg_loss()) / len(y_val))\n",
    "        \n",
    "        "
   ]
  },
  {
   "cell_type": "code",
   "execution_count": 2,
   "metadata": {},
   "outputs": [
    {
     "name": "stderr",
     "output_type": "stream",
     "text": [
      "/Users/h/opt/anaconda3/lib/python3.7/importlib/_bootstrap.py:219: RuntimeWarning: numpy.ufunc size changed, may indicate binary incompatibility. Expected 216, got 192\n",
      "  return f(*args, **kwds)\n",
      "/Users/h/opt/anaconda3/lib/python3.7/importlib/_bootstrap.py:219: RuntimeWarning: numpy.ufunc size changed, may indicate binary incompatibility. Expected 192 from C header, got 216 from PyObject\n",
      "  return f(*args, **kwds)\n",
      "/Users/h/opt/anaconda3/lib/python3.7/importlib/_bootstrap.py:219: RuntimeWarning: numpy.ufunc size changed, may indicate binary incompatibility. Expected 192 from C header, got 216 from PyObject\n",
      "  return f(*args, **kwds)\n",
      "/Users/h/opt/anaconda3/lib/python3.7/importlib/_bootstrap.py:219: RuntimeWarning: numpy.ufunc size changed, may indicate binary incompatibility. Expected 192 from C header, got 216 from PyObject\n",
      "  return f(*args, **kwds)\n",
      "/Users/h/opt/anaconda3/lib/python3.7/importlib/_bootstrap.py:219: RuntimeWarning: numpy.ufunc size changed, may indicate binary incompatibility. Expected 192 from C header, got 216 from PyObject\n",
      "  return f(*args, **kwds)\n"
     ]
    }
   ],
   "source": [
    "import tensorflow as tf"
   ]
  },
  {
   "cell_type": "code",
   "execution_count": 4,
   "metadata": {},
   "outputs": [
    {
     "data": {
      "text/plain": [
       "'2.1.0'"
      ]
     },
     "execution_count": 4,
     "metadata": {},
     "output_type": "execute_result"
    }
   ],
   "source": [
    "tf.__version__"
   ]
  },
  {
   "cell_type": "code",
   "execution_count": 5,
   "metadata": {},
   "outputs": [],
   "source": [
    "(x_train_all, y_train_all), (x_test, y_test) = tf.keras.datasets.fashion_mnist.load_data()"
   ]
  },
  {
   "cell_type": "code",
   "execution_count": 7,
   "metadata": {},
   "outputs": [
    {
     "data": {
      "text/plain": [
       "(60000, 28, 28)"
      ]
     },
     "execution_count": 7,
     "metadata": {},
     "output_type": "execute_result"
    }
   ],
   "source": [
    "x_train_all.shape"
   ]
  },
  {
   "cell_type": "code",
   "execution_count": 8,
   "metadata": {},
   "outputs": [
    {
     "data": {
      "text/plain": [
       "(60000,)"
      ]
     },
     "execution_count": 8,
     "metadata": {},
     "output_type": "execute_result"
    }
   ],
   "source": [
    "y_train_all.shape"
   ]
  },
  {
   "cell_type": "code",
   "execution_count": 9,
   "metadata": {},
   "outputs": [
    {
     "data": {
      "image/png": "[encoded data removed]",
      "text/plain": [
       "<Figure size 432x288 with 1 Axes>"
      ]
     },
     "metadata": {
      "needs_background": "light"
     },
     "output_type": "display_data"
    }
   ],
   "source": [
    "%matplotlib inline\n",
    "\n",
    "import matplotlib.pyplot as plt\n",
    "plt.imshow(x_train_all[0], cmap='gray')\n",
    "plt.show()"
   ]
  },
  {
   "cell_type": "code",
   "execution_count": 10,
   "metadata": {},
   "outputs": [],
   "source": [
    "class_names = ['티셔츠/윗도리', '바지', '스웨터', '드레스', '코트',\n",
    "               '샌들','셔츠', '스니커즈', '가방', '앵글부츠']"
   ]
  },
  {
   "cell_type": "code",
   "execution_count": 11,
   "metadata": {},
   "outputs": [
    {
     "name": "stdout",
     "output_type": "stream",
     "text": [
      "앵글부츠\n"
     ]
    }
   ],
   "source": [
    "print(class_names[y_train_all[0]])"
   ]
  },
  {
   "cell_type": "code",
   "execution_count": 12,
   "metadata": {},
   "outputs": [
    {
     "data": {
      "text/plain": [
       "array([6000, 6000, 6000, 6000, 6000, 6000, 6000, 6000, 6000, 6000])"
      ]
     },
     "execution_count": 12,
     "metadata": {},
     "output_type": "execute_result"
    }
   ],
   "source": [
    "np.bincount(y_train_all)"
   ]
  },
  {
   "cell_type": "code",
   "execution_count": 14,
   "metadata": {},
   "outputs": [],
   "source": [
    "from sklearn.model_selection import train_test_split\n",
    "x_train, x_val, y_train, y_val = train_test_split(x_train_all, y_train_all, stratify= y_train_all, test_size=.2, random_state=42)"
   ]
  },
  {
   "cell_type": "code",
   "execution_count": 15,
   "metadata": {},
   "outputs": [
    {
     "data": {
      "text/plain": [
       "array([4800, 4800, 4800, 4800, 4800, 4800, 4800, 4800, 4800, 4800])"
      ]
     },
     "execution_count": 15,
     "metadata": {},
     "output_type": "execute_result"
    }
   ],
   "source": [
    "np.bincount(y_train)"
   ]
  },
  {
   "cell_type": "code",
   "execution_count": 16,
   "metadata": {},
   "outputs": [],
   "source": [
    "x_train = x_train/255\n",
    "x_val = x_val / 255"
   ]
  },
  {
   "cell_type": "code",
   "execution_count": 17,
   "metadata": {},
   "outputs": [],
   "source": [
    "x_train = x_train.reshape(-1, 784)\n",
    "x_val = x_val.reshape(-1, 784)"
   ]
  },
  {
   "cell_type": "code",
   "execution_count": 18,
   "metadata": {},
   "outputs": [
    {
     "data": {
      "text/plain": [
       "(48000, 784)"
      ]
     },
     "execution_count": 18,
     "metadata": {},
     "output_type": "execute_result"
    }
   ],
   "source": [
    "x_train.shape"
   ]
  },
  {
   "cell_type": "code",
   "execution_count": 19,
   "metadata": {},
   "outputs": [],
   "source": [
    "y_train_encoded = tf.keras.utils.to_categorical(y_train)\n",
    "y_val_encoded = tf.keras.utils.to_categorical(y_val)"
   ]
  },
  {
   "cell_type": "code",
   "execution_count": 21,
   "metadata": {},
   "outputs": [
    {
     "name": "stdout",
     "output_type": "stream",
     "text": [
      "6 [0. 0. 0. 0. 0. 0. 1. 0. 0. 0.]\n"
     ]
    }
   ],
   "source": [
    "print(y_train[0], y_train_encoded[0])"
   ]
  },
  {
   "cell_type": "code",
   "execution_count": 28,
   "metadata": {},
   "outputs": [
    {
     "name": "stdout",
     "output_type": "stream",
     "text": [
      "........................................"
     ]
    }
   ],
   "source": [
    "fc = MulyiClassNetwork(units=100, batch_size=256)\n",
    "fc.fit(x_train, y_train_encoded, x_val=x_val, y_val=y_val_encoded, epochs=40)"
   ]
  },
  {
   "cell_type": "code",
   "execution_count": 29,
   "metadata": {},
   "outputs": [
    {
     "data": {
      "image/png": "[encoded data removed]",
      "text/plain": [
       "<Figure size 432x288 with 1 Axes>"
      ]
     },
     "metadata": {
      "needs_background": "light"
     },
     "output_type": "display_data"
    }
   ],
   "source": [
    "plt.plot(fc.losses)\n",
    "plt.plot(fc.val_losses)\n",
    "plt.legend(['train_loss', 'val_loss'])\n",
    "plt.show()"
   ]
  },
  {
   "cell_type": "code",
   "execution_count": 30,
   "metadata": {},
   "outputs": [
    {
     "data": {
      "text/plain": [
       "0.8185833333333333"
      ]
     },
     "execution_count": 30,
     "metadata": {},
     "output_type": "execute_result"
    }
   ],
   "source": [
    "fc.score(x_val, y_val_encoded)"
   ]
  },
  {
   "cell_type": "code",
   "execution_count": 43,
   "metadata": {},
   "outputs": [
    {
     "name": "stdout",
     "output_type": "stream",
     "text": [
      "(1000,) (1000,)\n"
     ]
    }
   ],
   "source": [
    "#by keras\n",
    "x_train_for_test_tf = np.random.rand(1000)\n",
    "y_train_for_test_tf = 2 * x_train_for_test_tf + np.random.normal(0,1,[len(x_train_for_test_tf)])\n",
    "print(x_train_for_test_tf.shape, y_train_for_test_tf.shape)\n",
    "w = tf.Variable(tf.zeros(shape=(1)))\n",
    "b = tf.Variable(tf.zeros(shape=(1)))\n",
    "\n",
    "optimizer = tf.optimizers.SGD(lr = .01)\n",
    "num_epochs = 10\n",
    "for step in range(num_epochs):\n",
    "    with tf.GradientTape() as tape:\n",
    "        z_net = w * x_train_for_test_tf + b\n",
    "        \n",
    "        z_net = tf.reshape(z_net,[-1])\n",
    "\n",
    "        sqr_errors = tf.square(y_train_for_test_tf - z_net)\n",
    "        mean_cost = tf.reduce_mean(sqr_errors)\n",
    "    grads = tape.gradient(mean_cost, [w,b])\n",
    "    optimizer.apply_gradients(zip(grads, [w,b]))"
   ]
  },
  {
   "cell_type": "code",
   "execution_count": 44,
   "metadata": {},
   "outputs": [
    {
     "name": "stdout",
     "output_type": "stream",
     "text": [
      "Train on 48000 samples\n",
      "Epoch 1/10\n",
      "48000/48000 [==============================] - 1s 24us/sample - loss: nan\n",
      "Epoch 2/10\n",
      "48000/48000 [==============================] - 1s 21us/sample - loss: nan\n",
      "Epoch 3/10\n",
      "48000/48000 [==============================] - 1s 23us/sample - loss: nan\n",
      "Epoch 4/10\n",
      "48000/48000 [==============================] - 1s 23us/sample - loss: nan\n",
      "Epoch 5/10\n",
      "48000/48000 [==============================] - 1s 21us/sample - loss: nan\n",
      "Epoch 6/10\n",
      "48000/48000 [==============================] - 1s 21us/sample - loss: nan\n",
      "Epoch 7/10\n",
      "48000/48000 [==============================] - 1s 21us/sample - loss: nan\n",
      "Epoch 8/10\n",
      "48000/48000 [==============================] - 1s 22us/sample - loss: nan\n",
      "Epoch 9/10\n",
      "48000/48000 [==============================] - 1s 24us/sample - loss: nan\n",
      "Epoch 10/10\n",
      "48000/48000 [==============================] - 1s 24us/sample - loss: nan\n"
     ]
    },
    {
     "data": {
      "text/plain": [
       "<tensorflow.python.keras.callbacks.History at 0x18efab910>"
      ]
     },
     "execution_count": 44,
     "metadata": {},
     "output_type": "execute_result"
    }
   ],
   "source": [
    "model = tf.keras.models.Sequential()\n",
    "model.add(tf.keras.layers.Dense(1))\n",
    "model.compile(optimizer='sgd', loss='mse')\n",
    "model.fit(x_train, y_train, epochs=10)"
   ]
  },
  {
   "cell_type": "code",
   "execution_count": 45,
   "metadata": {},
   "outputs": [],
   "source": [
    "from tensorflow.keras import Sequential\n",
    "from tensorflow.keras.layers import Dense\n",
    "model = Sequential()"
   ]
  },
  {
   "cell_type": "code",
   "execution_count": 46,
   "metadata": {},
   "outputs": [],
   "source": [
    "model.add(Dense(100, activation='sigmoid', input_shape=(784,)))\n",
    "model.add(Dense(10, activation='softmax'))"
   ]
  },
  {
   "cell_type": "code",
   "execution_count": 47,
   "metadata": {},
   "outputs": [],
   "source": [
    "model.compile(optimizer='sgd', loss='categorical_crossentropy', metrics=['accuracy'])"
   ]
  },
  {
   "cell_type": "code",
   "execution_count": 48,
   "metadata": {
    "scrolled": true
   },
   "outputs": [
    {
     "name": "stdout",
     "output_type": "stream",
     "text": [
      "Train on 48000 samples, validate on 12000 samples\n",
      "Epoch 1/40\n",
      "48000/48000 [==============================] - 2s 40us/sample - loss: 1.3666 - accuracy: 0.6422 - val_loss: 0.9601 - val_accuracy: 0.7285\n",
      "Epoch 2/40\n",
      "48000/48000 [==============================] - 2s 36us/sample - loss: 0.8416 - accuracy: 0.7431 - val_loss: 0.7495 - val_accuracy: 0.7602\n",
      "Epoch 3/40\n",
      "48000/48000 [==============================] - 2s 36us/sample - loss: 0.7103 - accuracy: 0.7666 - val_loss: 0.6620 - val_accuracy: 0.7810\n",
      "Epoch 4/40\n",
      "48000/48000 [==============================] - 2s 37us/sample - loss: 0.6443 - accuracy: 0.7816 - val_loss: 0.6100 - val_accuracy: 0.7946\n",
      "Epoch 5/40\n",
      "48000/48000 [==============================] - 2s 36us/sample - loss: 0.6022 - accuracy: 0.7943 - val_loss: 0.5745 - val_accuracy: 0.8040\n",
      "Epoch 6/40\n",
      "48000/48000 [==============================] - 2s 37us/sample - loss: 0.5719 - accuracy: 0.8042 - val_loss: 0.5490 - val_accuracy: 0.8108\n",
      "Epoch 7/40\n",
      "48000/48000 [==============================] - 2s 35us/sample - loss: 0.5492 - accuracy: 0.8119 - val_loss: 0.5284 - val_accuracy: 0.8172\n",
      "Epoch 8/40\n",
      "48000/48000 [==============================] - 2s 37us/sample - loss: 0.5314 - accuracy: 0.8177 - val_loss: 0.5115 - val_accuracy: 0.8230\n",
      "Epoch 9/40\n",
      "48000/48000 [==============================] - 2s 37us/sample - loss: 0.5170 - accuracy: 0.8233 - val_loss: 0.4994 - val_accuracy: 0.8273\n",
      "Epoch 10/40\n",
      "48000/48000 [==============================] - 2s 36us/sample - loss: 0.5047 - accuracy: 0.8265 - val_loss: 0.4890 - val_accuracy: 0.8302\n",
      "Epoch 11/40\n",
      "48000/48000 [==============================] - 2s 37us/sample - loss: 0.4945 - accuracy: 0.8289 - val_loss: 0.4790 - val_accuracy: 0.8323\n",
      "Epoch 12/40\n",
      "48000/48000 [==============================] - 2s 40us/sample - loss: 0.4857 - accuracy: 0.8307 - val_loss: 0.4719 - val_accuracy: 0.8340\n",
      "Epoch 13/40\n",
      "48000/48000 [==============================] - 2s 40us/sample - loss: 0.4777 - accuracy: 0.8341 - val_loss: 0.4636 - val_accuracy: 0.8378\n",
      "Epoch 14/40\n",
      "48000/48000 [==============================] - 2s 40us/sample - loss: 0.4708 - accuracy: 0.8366 - val_loss: 0.4573 - val_accuracy: 0.8408\n",
      "Epoch 15/40\n",
      "48000/48000 [==============================] - 2s 40us/sample - loss: 0.4645 - accuracy: 0.8379 - val_loss: 0.4513 - val_accuracy: 0.8417\n",
      "Epoch 16/40\n",
      "48000/48000 [==============================] - 2s 37us/sample - loss: 0.4586 - accuracy: 0.8394 - val_loss: 0.4461 - val_accuracy: 0.8435\n",
      "Epoch 17/40\n",
      "48000/48000 [==============================] - 2s 36us/sample - loss: 0.4534 - accuracy: 0.8418 - val_loss: 0.4430 - val_accuracy: 0.8432\n",
      "Epoch 18/40\n",
      "48000/48000 [==============================] - 2s 37us/sample - loss: 0.4486 - accuracy: 0.8431 - val_loss: 0.4374 - val_accuracy: 0.8462\n",
      "Epoch 19/40\n",
      "48000/48000 [==============================] - 2s 37us/sample - loss: 0.4441 - accuracy: 0.8445 - val_loss: 0.4326 - val_accuracy: 0.8468\n",
      "Epoch 20/40\n",
      "48000/48000 [==============================] - 2s 38us/sample - loss: 0.4397 - accuracy: 0.8455 - val_loss: 0.4297 - val_accuracy: 0.8474\n",
      "Epoch 21/40\n",
      "48000/48000 [==============================] - 2s 35us/sample - loss: 0.4359 - accuracy: 0.8472 - val_loss: 0.4299 - val_accuracy: 0.8461\n",
      "Epoch 22/40\n",
      "48000/48000 [==============================] - 2s 40us/sample - loss: 0.4322 - accuracy: 0.8480 - val_loss: 0.4245 - val_accuracy: 0.8491\n",
      "Epoch 23/40\n",
      "48000/48000 [==============================] - 2s 43us/sample - loss: 0.4287 - accuracy: 0.8492 - val_loss: 0.4226 - val_accuracy: 0.8493\n",
      "Epoch 24/40\n",
      "48000/48000 [==============================] - 2s 42us/sample - loss: 0.4255 - accuracy: 0.8500 - val_loss: 0.4169 - val_accuracy: 0.8549\n",
      "Epoch 25/40\n",
      "48000/48000 [==============================] - 2s 39us/sample - loss: 0.4226 - accuracy: 0.8512 - val_loss: 0.4142 - val_accuracy: 0.8532\n",
      "Epoch 26/40\n",
      "48000/48000 [==============================] - 2s 38us/sample - loss: 0.4193 - accuracy: 0.8514 - val_loss: 0.4110 - val_accuracy: 0.8553\n",
      "Epoch 27/40\n",
      "48000/48000 [==============================] - 2s 37us/sample - loss: 0.4163 - accuracy: 0.8533 - val_loss: 0.4109 - val_accuracy: 0.8555\n",
      "Epoch 28/40\n",
      "48000/48000 [==============================] - 2s 37us/sample - loss: 0.4138 - accuracy: 0.8550 - val_loss: 0.4075 - val_accuracy: 0.8566\n",
      "Epoch 29/40\n",
      "48000/48000 [==============================] - 2s 38us/sample - loss: 0.4115 - accuracy: 0.8554 - val_loss: 0.4062 - val_accuracy: 0.8578\n",
      "Epoch 30/40\n",
      "48000/48000 [==============================] - 2s 37us/sample - loss: 0.4090 - accuracy: 0.8562 - val_loss: 0.4031 - val_accuracy: 0.8568\n",
      "Epoch 31/40\n",
      "48000/48000 [==============================] - 2s 37us/sample - loss: 0.4065 - accuracy: 0.8562 - val_loss: 0.4015 - val_accuracy: 0.8577\n",
      "Epoch 32/40\n",
      "48000/48000 [==============================] - 2s 37us/sample - loss: 0.4042 - accuracy: 0.8581 - val_loss: 0.3995 - val_accuracy: 0.8592\n",
      "Epoch 33/40\n",
      "48000/48000 [==============================] - 2s 38us/sample - loss: 0.4021 - accuracy: 0.8586 - val_loss: 0.3974 - val_accuracy: 0.8612\n",
      "Epoch 34/40\n",
      "48000/48000 [==============================] - 2s 38us/sample - loss: 0.3999 - accuracy: 0.8588 - val_loss: 0.3959 - val_accuracy: 0.8607\n",
      "Epoch 35/40\n",
      "48000/48000 [==============================] - 2s 38us/sample - loss: 0.3978 - accuracy: 0.8601 - val_loss: 0.3936 - val_accuracy: 0.8622\n",
      "Epoch 36/40\n",
      "48000/48000 [==============================] - 2s 41us/sample - loss: 0.3958 - accuracy: 0.8605 - val_loss: 0.3924 - val_accuracy: 0.8602\n",
      "Epoch 37/40\n",
      "48000/48000 [==============================] - 2s 44us/sample - loss: 0.3939 - accuracy: 0.8605 - val_loss: 0.3903 - val_accuracy: 0.8623\n",
      "Epoch 38/40\n",
      "48000/48000 [==============================] - 2s 39us/sample - loss: 0.3922 - accuracy: 0.8622 - val_loss: 0.3900 - val_accuracy: 0.8607\n",
      "Epoch 39/40\n",
      "48000/48000 [==============================] - 2s 40us/sample - loss: 0.3903 - accuracy: 0.8621 - val_loss: 0.3893 - val_accuracy: 0.8607\n",
      "Epoch 40/40\n",
      "48000/48000 [==============================] - 2s 40us/sample - loss: 0.3886 - accuracy: 0.8627 - val_loss: 0.3863 - val_accuracy: 0.8618\n"
     ]
    }
   ],
   "source": [
    "history = model.fit(x_train, y_train_encoded, epochs=40, validation_data=(x_val,y_val_encoded))"
   ]
  },
  {
   "cell_type": "code",
   "execution_count": 49,
   "metadata": {},
   "outputs": [
    {
     "name": "stdout",
     "output_type": "stream",
     "text": [
      "dict_keys(['loss', 'accuracy', 'val_loss', 'val_accuracy'])\n"
     ]
    }
   ],
   "source": [
    "print(history.history.keys())"
   ]
  },
  {
   "cell_type": "code",
   "execution_count": 50,
   "metadata": {},
   "outputs": [
    {
     "data": {
      "image/png": "[encoded data removed]",
      "text/plain": [
       "<Figure size 432x288 with 1 Axes>"
      ]
     },
     "metadata": {
      "needs_background": "light"
     },
     "output_type": "display_data"
    }
   ],
   "source": [
    "plt.plot(history.history['loss'])\n",
    "plt.plot(history.history['val_loss'])\n",
    "plt.legend(['train_loss', 'val_loss'])\n",
    "plt.show()"
   ]
  },
  {
   "cell_type": "code",
   "execution_count": 51,
   "metadata": {},
   "outputs": [
    {
     "data": {
      "image/png": "[encoded data removed]",
      "text/plain": [
       "<Figure size 432x288 with 1 Axes>"
      ]
     },
     "metadata": {
      "needs_background": "light"
     },
     "output_type": "display_data"
    }
   ],
   "source": [
    "plt.plot(history.history['accuracy'])\n",
    "plt.plot(history.history['val_accuracy'])\n",
    "plt.legend(['train_accuracy', 'val_accuracy'])\n",
    "plt.show()"
   ]
  },
  {
   "cell_type": "code",
   "execution_count": 52,
   "metadata": {},
   "outputs": [
    {
     "name": "stdout",
     "output_type": "stream",
     "text": [
      "12000/12000 [==============================] - 0s 23us/sample - loss: 0.3863 - accuracy: 0.8618\n"
     ]
    },
    {
     "data": {
      "text/plain": [
       "[0.3862546974817912, 0.86175]"
      ]
     },
     "execution_count": 52,
     "metadata": {},
     "output_type": "execute_result"
    }
   ],
   "source": [
    "model.evaluate(x_val, y_val_encoded)"
   ]
  },
  {
   "cell_type": "code",
   "execution_count": null,
   "metadata": {},
   "outputs": [],
   "source": []
  }
 ],
 "metadata": {
  "kernelspec": {
   "display_name": "Python 3",
   "language": "python",
   "name": "python3"
  },
  "language_info": {
   "codemirror_mode": {
    "name": "ipython",
    "version": 3
   },
   "file_extension": ".py",
   "mimetype": "text/x-python",
   "name": "python",
   "nbconvert_exporter": "python",
   "pygments_lexer": "ipython3",
   "version": "3.7.4"
  }
 },
 "nbformat": 4,
 "nbformat_minor": 4
}
