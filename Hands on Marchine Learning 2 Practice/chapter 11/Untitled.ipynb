{
 "cells": [
  {
   "cell_type": "code",
   "execution_count": 1,
   "metadata": {},
   "outputs": [],
   "source": [
    "import tensorflow as tf"
   ]
  },
  {
   "cell_type": "code",
   "execution_count": 2,
   "metadata": {},
   "outputs": [],
   "source": [
    "cifar_10 = tf.keras.datasets.cifar10"
   ]
  },
  {
   "cell_type": "code",
   "execution_count": 3,
   "metadata": {},
   "outputs": [
    {
     "name": "stdout",
     "output_type": "stream",
     "text": [
      "Downloading data from https://www.cs.toronto.edu/~kriz/cifar-10-python.tar.gz\n",
      "170500096/170498071 [==============================] - 50s 0us/step\n"
     ]
    }
   ],
   "source": [
    "(X_train, y_train), (X_test, y_test) = cifar_10.load_data()"
   ]
  },
  {
   "cell_type": "code",
   "execution_count": 15,
   "metadata": {},
   "outputs": [
    {
     "data": {
      "text/plain": [
       "(50000, 1)"
      ]
     },
     "execution_count": 15,
     "metadata": {},
     "output_type": "execute_result"
    }
   ],
   "source": [
    "X_train.shape\n",
    "y_train.shape"
   ]
  },
  {
   "cell_type": "code",
   "execution_count": 60,
   "metadata": {},
   "outputs": [],
   "source": [
    "X_means = X_train.mean(axis=0)\n",
    "X_stds = X_train.std(axis=0)"
   ]
  },
  {
   "cell_type": "code",
   "execution_count": 62,
   "metadata": {},
   "outputs": [],
   "source": [
    "X_train_scaled = (X_train - X_means) / X_stds\n",
    "X_test_scaled = (X_test - X_means) / X_stds"
   ]
  },
  {
   "cell_type": "code",
   "execution_count": 5,
   "metadata": {},
   "outputs": [
    {
     "data": {
      "text/plain": [
       "(10000, 32, 32, 3)"
      ]
     },
     "execution_count": 5,
     "metadata": {},
     "output_type": "execute_result"
    }
   ],
   "source": [
    "X_test.shape"
   ]
  },
  {
   "cell_type": "code",
   "execution_count": 63,
   "metadata": {},
   "outputs": [],
   "source": [
    "model = tf.keras.models.Sequential()"
   ]
  },
  {
   "cell_type": "code",
   "execution_count": 64,
   "metadata": {},
   "outputs": [],
   "source": [
    "model.add(tf.keras.layers.Flatten(input_shape = [32,32,3]))"
   ]
  },
  {
   "cell_type": "code",
   "execution_count": 65,
   "metadata": {},
   "outputs": [],
   "source": [
    "for _ in range(20):\n",
    "    model.add(tf.keras.layers.Dense(100, activation='elu', kernel_initializer='he_normal'))"
   ]
  },
  {
   "cell_type": "code",
   "execution_count": 66,
   "metadata": {},
   "outputs": [],
   "source": [
    "model.add(tf.keras.layers.Dense(10, activation='softmax'))"
   ]
  },
  {
   "cell_type": "code",
   "execution_count": 67,
   "metadata": {},
   "outputs": [],
   "source": [
    "optimizer = tf.keras.optimizers.Nadam(lr=.001, beta_1=.9, beta_2=.999)"
   ]
  },
  {
   "cell_type": "code",
   "execution_count": 68,
   "metadata": {},
   "outputs": [],
   "source": [
    "checkpoint_cb = tf.keras.callbacks.ModelCheckpoint('./cifar10_model_1.h5', save_best_only=True)\n",
    "early_stopping_cb = tf.keras.callbacks.EarlyStopping(patience=10, restore_best_weights=True)"
   ]
  },
  {
   "cell_type": "code",
   "execution_count": 69,
   "metadata": {},
   "outputs": [],
   "source": [
    "import os\n",
    "if  os.path.isdir('mylog'):\n",
    "    os.mkdir('my_log')"
   ]
  },
  {
   "cell_type": "code",
   "execution_count": 70,
   "metadata": {},
   "outputs": [],
   "source": [
    "tensorboard_cb = tf.keras.callbacks.TensorBoard('./my_log/460_B')"
   ]
  },
  {
   "cell_type": "code",
   "execution_count": 71,
   "metadata": {},
   "outputs": [
    {
     "name": "stdout",
     "output_type": "stream",
     "text": [
      "Model: \"sequential_4\"\n",
      "_________________________________________________________________\n",
      "Layer (type)                 Output Shape              Param #   \n",
      "=================================================================\n",
      "flatten_5 (Flatten)          (None, 3072)              0         \n",
      "_________________________________________________________________\n",
      "dense_84 (Dense)             (None, 100)               307300    \n",
      "_________________________________________________________________\n",
      "dense_85 (Dense)             (None, 100)               10100     \n",
      "_________________________________________________________________\n",
      "dense_86 (Dense)             (None, 100)               10100     \n",
      "_________________________________________________________________\n",
      "dense_87 (Dense)             (None, 100)               10100     \n",
      "_________________________________________________________________\n",
      "dense_88 (Dense)             (None, 100)               10100     \n",
      "_________________________________________________________________\n",
      "dense_89 (Dense)             (None, 100)               10100     \n",
      "_________________________________________________________________\n",
      "dense_90 (Dense)             (None, 100)               10100     \n",
      "_________________________________________________________________\n",
      "dense_91 (Dense)             (None, 100)               10100     \n",
      "_________________________________________________________________\n",
      "dense_92 (Dense)             (None, 100)               10100     \n",
      "_________________________________________________________________\n",
      "dense_93 (Dense)             (None, 100)               10100     \n",
      "_________________________________________________________________\n",
      "dense_94 (Dense)             (None, 100)               10100     \n",
      "_________________________________________________________________\n",
      "dense_95 (Dense)             (None, 100)               10100     \n",
      "_________________________________________________________________\n",
      "dense_96 (Dense)             (None, 100)               10100     \n",
      "_________________________________________________________________\n",
      "dense_97 (Dense)             (None, 100)               10100     \n",
      "_________________________________________________________________\n",
      "dense_98 (Dense)             (None, 100)               10100     \n",
      "_________________________________________________________________\n",
      "dense_99 (Dense)             (None, 100)               10100     \n",
      "_________________________________________________________________\n",
      "dense_100 (Dense)            (None, 100)               10100     \n",
      "_________________________________________________________________\n",
      "dense_101 (Dense)            (None, 100)               10100     \n",
      "_________________________________________________________________\n",
      "dense_102 (Dense)            (None, 100)               10100     \n",
      "_________________________________________________________________\n",
      "dense_103 (Dense)            (None, 100)               10100     \n",
      "_________________________________________________________________\n",
      "dense_104 (Dense)            (None, 10)                1010      \n",
      "=================================================================\n",
      "Total params: 500,210\n",
      "Trainable params: 500,210\n",
      "Non-trainable params: 0\n",
      "_________________________________________________________________\n"
     ]
    }
   ],
   "source": [
    "model.summary()"
   ]
  },
  {
   "cell_type": "code",
   "execution_count": 72,
   "metadata": {},
   "outputs": [],
   "source": [
    "model.compile(loss='sparse_categorical_crossentropy',\n",
    "             optimizer = optimizer,\n",
    "             metrics=['accuracy'])"
   ]
  },
  {
   "cell_type": "code",
   "execution_count": 73,
   "metadata": {
    "scrolled": true
   },
   "outputs": [
    {
     "name": "stdout",
     "output_type": "stream",
     "text": [
      "Train on 45000 samples, validate on 5000 samples\n",
      "Epoch 1/100\n",
      "45000/45000 [==============================] - 15s 335us/sample - loss: 1.9374 - accuracy: 0.2994 - val_loss: 1.8425 - val_accuracy: 0.3462\n",
      "Epoch 2/100\n",
      "45000/45000 [==============================] - 12s 260us/sample - loss: 1.7104 - accuracy: 0.3853 - val_loss: 1.8515 - val_accuracy: 0.3576\n",
      "Epoch 3/100\n",
      "45000/45000 [==============================] - 12s 261us/sample - loss: 1.6224 - accuracy: 0.4196 - val_loss: 1.6711 - val_accuracy: 0.4202\n",
      "Epoch 4/100\n",
      "45000/45000 [==============================] - 12s 265us/sample - loss: 1.5620 - accuracy: 0.4454 - val_loss: 1.6346 - val_accuracy: 0.4310\n",
      "Epoch 5/100\n",
      "45000/45000 [==============================] - 12s 270us/sample - loss: 1.5192 - accuracy: 0.4595 - val_loss: 1.5632 - val_accuracy: 0.4572\n",
      "Epoch 6/100\n",
      "45000/45000 [==============================] - 12s 268us/sample - loss: 1.4821 - accuracy: 0.4761 - val_loss: 1.5893 - val_accuracy: 0.4332\n",
      "Epoch 7/100\n",
      "45000/45000 [==============================] - 12s 264us/sample - loss: 1.4356 - accuracy: 0.4902 - val_loss: 1.5997 - val_accuracy: 0.4494\n",
      "Epoch 8/100\n",
      "45000/45000 [==============================] - 12s 268us/sample - loss: 1.4334 - accuracy: 0.4939 - val_loss: 1.5239 - val_accuracy: 0.4578\n",
      "Epoch 9/100\n",
      "45000/45000 [==============================] - 12s 266us/sample - loss: 1.3666 - accuracy: 0.5168 - val_loss: 1.4967 - val_accuracy: 0.4734\n",
      "Epoch 10/100\n",
      "45000/45000 [==============================] - 12s 266us/sample - loss: 1.3392 - accuracy: 0.5279 - val_loss: 1.5068 - val_accuracy: 0.4872\n",
      "Epoch 11/100\n",
      "45000/45000 [==============================] - 12s 268us/sample - loss: 1.3362 - accuracy: 0.5310 - val_loss: 1.4988 - val_accuracy: 0.4748\n",
      "Epoch 12/100\n",
      "45000/45000 [==============================] - 12s 269us/sample - loss: 1.2858 - accuracy: 0.5481 - val_loss: 1.5042 - val_accuracy: 0.4786\n",
      "Epoch 13/100\n",
      "45000/45000 [==============================] - 12s 268us/sample - loss: 1.2679 - accuracy: 0.5551 - val_loss: 1.5076 - val_accuracy: 0.4914\n",
      "Epoch 14/100\n",
      "45000/45000 [==============================] - 12s 269us/sample - loss: 32.7251 - accuracy: 0.5404 - val_loss: 1.6118 - val_accuracy: 0.4434\n",
      "Epoch 15/100\n",
      "45000/45000 [==============================] - 12s 270us/sample - loss: 1.3183 - accuracy: 0.5292 - val_loss: 1.4960 - val_accuracy: 0.4800\n",
      "Epoch 16/100\n",
      "45000/45000 [==============================] - 12s 269us/sample - loss: 1.2375 - accuracy: 0.5619 - val_loss: 1.4755 - val_accuracy: 0.4976\n",
      "Epoch 17/100\n",
      "45000/45000 [==============================] - 12s 266us/sample - loss: 1.2036 - accuracy: 0.5747 - val_loss: 1.4977 - val_accuracy: 0.4922\n",
      "Epoch 18/100\n",
      "45000/45000 [==============================] - 12s 266us/sample - loss: 1.1787 - accuracy: 0.5820 - val_loss: 1.5218 - val_accuracy: 0.4970\n",
      "Epoch 19/100\n",
      "45000/45000 [==============================] - 12s 268us/sample - loss: 1.1546 - accuracy: 0.5942 - val_loss: 1.4957 - val_accuracy: 0.5082\n",
      "Epoch 20/100\n",
      "45000/45000 [==============================] - 12s 267us/sample - loss: 1.1385 - accuracy: 0.5999 - val_loss: 1.5490 - val_accuracy: 0.4960\n",
      "Epoch 21/100\n",
      "45000/45000 [==============================] - 12s 268us/sample - loss: 1.1201 - accuracy: 0.6062 - val_loss: 1.5528 - val_accuracy: 0.4898\n",
      "Epoch 22/100\n",
      "45000/45000 [==============================] - 12s 268us/sample - loss: 1.1043 - accuracy: 0.6124 - val_loss: 1.5166 - val_accuracy: 0.5034\n",
      "Epoch 23/100\n",
      "45000/45000 [==============================] - 12s 267us/sample - loss: 1.0928 - accuracy: 0.6164 - val_loss: 1.5116 - val_accuracy: 0.4986\n",
      "Epoch 24/100\n",
      "45000/45000 [==============================] - 12s 266us/sample - loss: 1.0819 - accuracy: 0.6187 - val_loss: 1.5000 - val_accuracy: 0.5000\n",
      "Epoch 25/100\n",
      "45000/45000 [==============================] - 12s 270us/sample - loss: 1.0794 - accuracy: 0.6228 - val_loss: 1.5642 - val_accuracy: 0.4944\n",
      "Epoch 26/100\n",
      "45000/45000 [==============================] - 12s 263us/sample - loss: 1.0729 - accuracy: 0.6272 - val_loss: 1.5747 - val_accuracy: 0.4916\n"
     ]
    },
    {
     "data": {
      "text/plain": [
       "<tensorflow.python.keras.callbacks.History at 0x7fbb93307750>"
      ]
     },
     "execution_count": 73,
     "metadata": {},
     "output_type": "execute_result"
    }
   ],
   "source": [
    "model.fit(X_train_scaled,y_train, epochs=100, validation_split=.1, callbacks=[checkpoint_cb, early_stopping_cb, tensorboard_cb])"
   ]
  },
  {
   "cell_type": "code",
   "execution_count": null,
   "metadata": {},
   "outputs": [],
   "source": [
    "model"
   ]
  }
 ],
 "metadata": {
  "kernelspec": {
   "display_name": "Python 3",
   "language": "python",
   "name": "python3"
  },
  "language_info": {
   "codemirror_mode": {
    "name": "ipython",
    "version": 3
   },
   "file_extension": ".py",
   "mimetype": "text/x-python",
   "name": "python",
   "nbconvert_exporter": "python",
   "pygments_lexer": "ipython3",
   "version": "3.7.4"
  }
 },
 "nbformat": 4,
 "nbformat_minor": 4
}
