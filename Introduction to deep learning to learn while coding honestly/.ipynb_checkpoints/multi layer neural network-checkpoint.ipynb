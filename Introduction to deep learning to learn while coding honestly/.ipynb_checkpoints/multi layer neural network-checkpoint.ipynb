{
 "cells": [
  {
   "cell_type": "code",
   "execution_count": 1,
   "metadata": {},
   "outputs": [],
   "source": [
    "import numpy as np\n",
    "import matplotlib.pyplot as plt\n",
    "\n",
    "\n",
    "class SingleLayer:\n",
    "    def __init__(self, lr=.1, l1=0, l2=0):\n",
    "        self.w = None\n",
    "        self.b = None\n",
    "        self.losses = []\n",
    "        self.val_losses=[]\n",
    "        self.w_history = []\n",
    "        self.lr = lr\n",
    "        self.l1 = l1\n",
    "        self.l2 = l2\n",
    "        \n",
    "    def forward(self, x):\n",
    "        return np.dot(x, self.w) + self.b\n",
    "    \n",
    "    def backward(self, x, err):\n",
    "#         return x*err, err\n",
    "        m = len(x)\n",
    "        w_grad = np.dot(x.T, err) / m\n",
    "        b_grad = np.sum(err) / m\n",
    "        return w_grad, b_grad\n",
    "    \n",
    "\n",
    "    def fit(self, x, y, epochs=100, x_val=None, y_val=None):\n",
    "        y = y.reshape(-1, 1)\n",
    "        y_val = y_val.reshape(-1, 1)\n",
    "        m=len(x)\n",
    "        self.w = np.random.rand(x.shape[1],1)\n",
    "        self.b = np.random.rand()\n",
    "        self.w_history.append(self.w.copy())\n",
    "        for i in range(epochs):\n",
    "            z = self.forward(x)\n",
    "            a = self.activation(z)\n",
    "            err = -(y-a)\n",
    "            w_grad, b_grad = self.backward(x, err)\n",
    "            w_grad += (self.l1*np.sign(self.w) + self.l2*self.w) / m\n",
    "            self.w -= self.lr * w_grad\n",
    "            self.b -= self.lr * b_grad\n",
    "            self.w_history.append(self.w.copy())\n",
    "            a = np.clip(a, 1e-10, 1-1e-10)\n",
    "            loss = np.sum(-(y*np.log(a) + (1-y)*np.log(1-a)))\n",
    "            self.losses.append((loss + self.reg_loss()) / m)\n",
    "            self.update_val_losses(x_val, y_val)\n",
    "            \n",
    "            \n",
    "    def activation(self, z):\n",
    "        return 1 / (1+np.exp(-z))\n",
    "    \n",
    "    def predict(self, x):\n",
    "        return self.forward(x) > 0\n",
    "    \n",
    "    def score(self, x, y):\n",
    "        return np.mean(self.predict(x)==y.reshape(-1, 1))\n",
    "    \n",
    "    def update_val_losses(self, x_val, y_val):\n",
    "        if x_val is None or y_val is None:\n",
    "            return\n",
    "        z = self.forward(x_val)\n",
    "        a = self.activation(z)\n",
    "        a = np.clip(a, 1e-10, 1-1e-10)\n",
    "        val_loss = np.sum(-(y_val*np.log(a) + (1-y_val)*np.log(1-a)))\n",
    "        self.val_losses.append((val_loss + self.reg_loss())/ len(y_val))\n",
    "        \n",
    "    def reg_loss(self):\n",
    "        return self.l1*np.sum(np.abs(self.w)) + self.l2/2*np.sum(self.w**2)"
   ]
  },
  {
   "cell_type": "code",
   "execution_count": 2,
   "metadata": {},
   "outputs": [],
   "source": [
    "from sklearn.datasets import load_breast_cancer\n",
    "from sklearn.model_selection import train_test_split\n",
    "\n",
    "cancer = load_breast_cancer()\n",
    "x = cancer.data\n",
    "y = cancer.target\n",
    "x_train_all, x_test, y_train_all, y_test = train_test_split(x, y, stratify=y, \n",
    "                                                           test_size=.2, random_state=42)\n",
    "x_train, x_val, y_train, y_val = train_test_split(x_train_all, y_train_all,\n",
    "                                                 stratify=y_train_all, test_size=.2, random_state=42)"
   ]
  },
  {
   "cell_type": "code",
   "execution_count": 3,
   "metadata": {},
   "outputs": [
    {
     "name": "stdout",
     "output_type": "stream",
     "text": [
      "(364, 30) (91, 30)\n"
     ]
    }
   ],
   "source": [
    "print(x_train.shape, x_val.shape)"
   ]
  },
  {
   "cell_type": "code",
   "execution_count": 4,
   "metadata": {},
   "outputs": [],
   "source": [
    "from sklearn.preprocessing import StandardScaler\n",
    "scaler = StandardScaler()\n",
    "scaler.fit(x_train)\n",
    "x_train_scaled = scaler.transform(x_train)\n",
    "x_val_scaled = scaler.transform(x_val)"
   ]
  },
  {
   "cell_type": "code",
   "execution_count": 5,
   "metadata": {},
   "outputs": [],
   "source": [
    "single_layer = SingleLayer(l2=.01)\n",
    "single_layer.fit(x_train_scaled, y_train, x_val=x_val_scaled, y_val=y_val, epochs=10000)"
   ]
  },
  {
   "cell_type": "code",
   "execution_count": 6,
   "metadata": {},
   "outputs": [
    {
     "data": {
      "text/plain": [
       "0.978021978021978"
      ]
     },
     "execution_count": 6,
     "metadata": {},
     "output_type": "execute_result"
    }
   ],
   "source": [
    "single_layer.score(x_val_scaled, y_val)"
   ]
  },
  {
   "cell_type": "code",
   "execution_count": 7,
   "metadata": {},
   "outputs": [
    {
     "data": {
      "image/png": "[encoded data removed]",
      "text/plain": [
       "<Figure size 432x288 with 1 Axes>"
      ]
     },
     "metadata": {
      "needs_background": "light"
     },
     "output_type": "display_data"
    }
   ],
   "source": [
    "%matplotlib inline\n",
    "plt.plot(single_layer.losses)\n",
    "plt.plot(single_layer.val_losses)\n",
    "plt.legend(['train_loss','val_loss'])\n",
    "plt.ylim(0, .3)\n",
    "plt.show()"
   ]
  },
  {
   "cell_type": "code",
   "execution_count": 8,
   "metadata": {},
   "outputs": [
    {
     "data": {
      "image/png": "[encoded data removed]",
      "text/plain": [
       "<Figure size 432x288 with 1 Axes>"
      ]
     },
     "metadata": {
      "needs_background": "light"
     },
     "output_type": "display_data"
    }
   ],
   "source": [
    "w2 = []; w3 = []\n",
    "for w in single_layer.w_history:\n",
    "    w2.append(w[2])\n",
    "    w3.append(w[3])\n",
    "\n",
    "plt.plot(w2, w3)\n",
    "plt.plot(w2[-1], w3[-1], 'ro')\n",
    "plt.show()"
   ]
  },
  {
   "cell_type": "code",
   "execution_count": 12,
   "metadata": {},
   "outputs": [],
   "source": [
    "class DualLayer(SingleLayer):\n",
    "    def __init__(self, units=10, lr=.1, l1=0, l2=0):\n",
    "        self.units =units\n",
    "        self.w1 = None\n",
    "        self.b1 = None\n",
    "        self.w2 =None\n",
    "        self.b2 = None\n",
    "        self.a1 = None\n",
    "        self.losses = []\n",
    "        self.val_losses = []\n",
    "        self.lr = lr\n",
    "        self.l1 = l1\n",
    "        self.l2 = l2\n",
    "        \n",
    "    def forward(self, x):\n",
    "        z1 = np.dot(x, self.w1) + self.b1\n",
    "        self.a1 = self.activation(z1)\n",
    "        z2 = np.dot(self.a1, self.w2) + self.b2\n",
    "        return z2\n",
    "    \n",
    "    def backward(self, x, err):\n",
    "        m = len(x)\n",
    "        w2_grad = np.dot(self.a1.T, err) / m\n",
    "        b2_grad = np.sum(err) / m\n",
    "        \n",
    "        err_to_hidden = np.dot(err, self.w2.T) * self.a1 * (1- self.a1)\n",
    "        \n",
    "        w1_grad = np.dot(x.T, err_to_hidden) / m\n",
    "        b1_grad = np.sum(err_to_hidden, axis=0) / m\n",
    "        return w1_grad, b1_grad, w2_grad, b2_grad\n",
    "    \n",
    "    def init_weights(self, n_features):\n",
    "        self.w1 = np.random.rand(n_features, self.units)\n",
    "        self.b1 = np.random.rand(self.units)\n",
    "        self.w2 = np.random.rand(self.units, 1)\n",
    "        self.b2 = np.random.rand()\n",
    "        \n",
    "    def fit(self, x, y, epochs= 100, x_val= None, y_val=None):\n",
    "        y = y.reshape(-1, 1)\n",
    "        y_val = y_val.reshape(-1, 1)\n",
    "        m = len(x)\n",
    "        self.init_weights(x.shape[1])\n",
    "        \n",
    "        for i in range(epochs):\n",
    "            a = self.training(x, y, m)\n",
    "            a = np.clip(a, 1e-10, 1-1e-10)\n",
    "            loss = np.sum(-(y*np.log(a) + (1-y)*np.log(1-a)))\n",
    "            self.losses.append((loss + self.reg_loss())/m)\n",
    "            self.update_val_losses(x_val, y_val)\n",
    "            \n",
    "    def training(self, x, y, m):\n",
    "        z = self.forward(x)\n",
    "        a = self.activation(z)\n",
    "        err = -(y-a)\n",
    "        \n",
    "        w1_grad, b1_grad, w2_grad, b2_grad = self.backward(x, err)\n",
    "        w1_grad += (self.l1 * np.sign(self.w1) + self.l2 * self.w1) / m\n",
    "        w2_grad += (self.l1 * np.sign(self.w2) + self.l2 * self.w2) / m\n",
    "        \n",
    "        self.w1 -= self.lr*w1_grad\n",
    "        self.b1 -= self.lr*b1_grad\n",
    "        \n",
    "        self.w2 -= self.lr*w2_grad\n",
    "        self.b2 -= self.lr*b2_grad\n",
    "        \n",
    "        return a\n",
    "    \n",
    "    def reg_loss(self):\n",
    "        return self.l1 * (np.sum(np.abs(self.w1)) + np.sum(np.abs(self.w2))) + \\\n",
    "            self.l2 / 2 * (np.sum(self.w1**2)  + np.sum(self.w2**2))\n",
    "        "
   ]
  },
  {
   "cell_type": "code",
   "execution_count": 13,
   "metadata": {},
   "outputs": [],
   "source": [
    "dual_layer = DualLayer(l2=.01)\n",
    "dual_layer.fit(x_train_scaled, y_train, x_val=x_val_scaled, y_val=y_val, epochs=20000)"
   ]
  },
  {
   "cell_type": "code",
   "execution_count": 14,
   "metadata": {},
   "outputs": [
    {
     "data": {
      "text/plain": [
       "0.978021978021978"
      ]
     },
     "execution_count": 14,
     "metadata": {},
     "output_type": "execute_result"
    }
   ],
   "source": [
    "dual_layer.score(x_val_scaled, y_val)"
   ]
  },
  {
   "cell_type": "code",
   "execution_count": 15,
   "metadata": {},
   "outputs": [
    {
     "data": {
      "image/png": "[encoded data removed]",
      "text/plain": [
       "<Figure size 432x288 with 1 Axes>"
      ]
     },
     "metadata": {
      "needs_background": "light"
     },
     "output_type": "display_data"
    }
   ],
   "source": [
    "plt.ylim(0, .3)\n",
    "plt.plot(dual_layer.losses)\n",
    "plt.plot(dual_layer.val_losses)\n",
    "plt.ylabel('loss')\n",
    "plt.xlabel('epoch')\n",
    "plt.legend(['train loss', 'val loss'])\n",
    "plt.show()"
   ]
  },
  {
   "cell_type": "code",
   "execution_count": 16,
   "metadata": {},
   "outputs": [],
   "source": [
    "class RandomInitNetwork(DualLayer):\n",
    "    def init_weights(self, n_features):\n",
    "        self.w1 = np.random.normal(0, 1, (n_features, self.units))\n",
    "        self.b1 = np.zeros(self.units)\n",
    "        self.w2 = np.random.normal(0, 1, (self.units, 1))\n",
    "        self.b2 = 0"
   ]
  },
  {
   "cell_type": "code",
   "execution_count": 17,
   "metadata": {},
   "outputs": [],
   "source": [
    "random_init_net = RandomInitNetwork(l2=.01)\n",
    "random_init_net.fit(x_train_scaled, y_train, x_val=x_val_scaled, y_val=y_val, epochs=20000)"
   ]
  },
  {
   "cell_type": "code",
   "execution_count": 18,
   "metadata": {},
   "outputs": [
    {
     "data": {
      "image/png": "[encoded data removed]",
      "text/plain": [
       "<Figure size 432x288 with 1 Axes>"
      ]
     },
     "metadata": {
      "needs_background": "light"
     },
     "output_type": "display_data"
    }
   ],
   "source": [
    "plt.ylim(0, .3)\n",
    "plt.plot(random_init_net.losses)\n",
    "plt.plot(random_init_net.val_losses)\n",
    "plt.ylabel('loss')\n",
    "plt.xlabel('epoch')\n",
    "plt.legend(['train loss', 'val loss'])\n",
    "plt.show()"
   ]
  },
  {
   "cell_type": "code",
   "execution_count": 39,
   "metadata": {},
   "outputs": [],
   "source": [
    "class MinibatchNetwork(RandomInitNetwork):\n",
    "    \n",
    "    def __init__(self, units = 10, batch_size=32, lr = .1, l1=0, l2=0):\n",
    "        super().__init__(units, lr, l1,l2)\n",
    "        self.batch_size= batch_size\n",
    "        \n",
    "    def fit(self, x, y, epochs=100, x_val=None, y_val=None):\n",
    "        y = y.reshape(-1, 1)\n",
    "        y_val = y_val.reshape(-1, 1)\n",
    "        self.init_weights(x.shape[1])\n",
    "        np.random.seed(42)\n",
    "        \n",
    "        for i in range(epochs):\n",
    "            loss = 0\n",
    "            \n",
    "            for x_batch, y_batch in self.gen_batch(x,y):\n",
    "                y_batch = y_batch.reshape(-1, 1)\n",
    "                m = len(x_batch)\n",
    "                a = self.training(x_batch, y_batch, m)\n",
    "                a= np.clip(a, 1e-10, 1-1e-10)\n",
    "                loss += np.sum(-(y_batch*np.log(a) + (1-y_batch)*np.log(1-a)))\n",
    "            self.losses.append((loss + self.reg_loss()) / len(x))\n",
    "            self.update_val_losses(x_val, y_val)\n",
    "            \n",
    "    def gen_batch(self, x, y):\n",
    "        length = len(x)\n",
    "        bins = length // self.batch_size\n",
    "        if length % self.batch_size:\n",
    "            bins += 1\n",
    "        indexes = np.random.permutation(np.arange(len(x)))\n",
    "        x = x[indexes]\n",
    "        y = y[indexes]\n",
    "        for i in range(bins):\n",
    "            start = self.batch_size * i\n",
    "            end = self.batch_size * (i + 1)\n",
    "            yield x[start:end], y[start:end]"
   ]
  },
  {
   "cell_type": "code",
   "execution_count": 40,
   "metadata": {},
   "outputs": [
    {
     "data": {
      "text/plain": [
       "0.978021978021978"
      ]
     },
     "execution_count": 40,
     "metadata": {},
     "output_type": "execute_result"
    }
   ],
   "source": [
    "minibatch_net = MinibatchNetwork(l2=.01, batch_size=32)\n",
    "minibatch_net.fit(x_train_scaled, y_train, x_val=x_val_scaled, y_val=y_val, epochs=500)\n",
    "minibatch_net.score(x_val_scaled, y_val)"
   ]
  },
  {
   "cell_type": "code",
   "execution_count": 41,
   "metadata": {},
   "outputs": [
    {
     "data": {
      "image/png": "[encoded data removed]",
      "text/plain": [
       "<Figure size 432x288 with 1 Axes>"
      ]
     },
     "metadata": {
      "needs_background": "light"
     },
     "output_type": "display_data"
    }
   ],
   "source": [
    "plt.plot(minibatch_net.losses)\n",
    "plt.plot(minibatch_net.val_losses)\n",
    "plt.ylabel('loss')\n",
    "plt.xlabel('epoch')\n",
    "plt.legend(['train loss', 'val loss'])\n",
    "plt.show()"
   ]
  },
  {
   "cell_type": "code",
   "execution_count": 42,
   "metadata": {},
   "outputs": [
    {
     "data": {
      "text/plain": [
       "0.978021978021978"
      ]
     },
     "execution_count": 42,
     "metadata": {},
     "output_type": "execute_result"
    }
   ],
   "source": [
    "minibatch_net_128 = MinibatchNetwork(l2=.01, batch_size=128)\n",
    "minibatch_net_128.fit(x_train_scaled, y_train, x_val=x_val_scaled, y_val=y_val, epochs=500)\n",
    "minibatch_net_128.score(x_val_scaled, y_val)"
   ]
  },
  {
   "cell_type": "code",
   "execution_count": 43,
   "metadata": {},
   "outputs": [
    {
     "data": {
      "image/png": "[encoded data removed]",
      "text/plain": [
       "<Figure size 432x288 with 1 Axes>"
      ]
     },
     "metadata": {
      "needs_background": "light"
     },
     "output_type": "display_data"
    }
   ],
   "source": [
    "plt.plot(minibatch_net.losses)\n",
    "plt.plot(minibatch_net.val_losses)\n",
    "plt.plot(minibatch_net_128.losses)\n",
    "plt.plot(minibatch_net_128.val_losses)\n",
    "plt.ylabel('loss')\n",
    "plt.xlabel('epoch')\n",
    "plt.legend(['train loss(32)', 'val loss(32)', 'train loss(128)', 'val loss(128)'])\n",
    "plt.show()"
   ]
  },
  {
   "cell_type": "code",
   "execution_count": 44,
   "metadata": {},
   "outputs": [],
   "source": [
    "from sklearn.neural_network import MLPClassifier\n",
    "mlp = MLPClassifier(hidden_layer_sizes=(10,), activation='logistic',\n",
    "                   solver='sgd', alpha=.01, batch_size=32,\n",
    "                   learning_rate_init=.1, max_iter=500)"
   ]
  },
  {
   "cell_type": "code",
   "execution_count": 45,
   "metadata": {},
   "outputs": [
    {
     "data": {
      "text/plain": [
       "0.989010989010989"
      ]
     },
     "execution_count": 45,
     "metadata": {},
     "output_type": "execute_result"
    }
   ],
   "source": [
    "mlp.fit(x_train_scaled, y_train)\n",
    "mlp.score(x_val_scaled, y_val)"
   ]
  },
  {
   "cell_type": "code",
   "execution_count": null,
   "metadata": {},
   "outputs": [],
   "source": []
  }
 ],
 "metadata": {
  "kernelspec": {
   "display_name": "Python 3",
   "language": "python",
   "name": "python3"
  },
  "language_info": {
   "codemirror_mode": {
    "name": "ipython",
    "version": 3
   },
   "file_extension": ".py",
   "mimetype": "text/x-python",
   "name": "python",
   "nbconvert_exporter": "python",
   "pygments_lexer": "ipython3",
   "version": "3.7.4"
  }
 },
 "nbformat": 4,
 "nbformat_minor": 4
}
