{
 "cells": [
  {
   "cell_type": "markdown",
   "metadata": {},
   "source": [
    "# dacon computer vision practice"
   ]
  },
  {
   "cell_type": "code",
   "execution_count": 2,
   "metadata": {},
   "outputs": [],
   "source": [
    "%matplotlib inline\n",
    "import matplotlib.pyplot as plt\n",
    "import pandas as pd\n",
    "import numpy as np"
   ]
  },
  {
   "cell_type": "code",
   "execution_count": 3,
   "metadata": {},
   "outputs": [],
   "source": [
    "train_data = pd.read_csv('dacon computer vision digit/train.csv')"
   ]
  },
  {
   "cell_type": "code",
   "execution_count": 4,
   "metadata": {},
   "outputs": [
    {
     "data": {
      "text/html": [
       "<div>\n",
       "<style scoped>\n",
       "    .dataframe tbody tr th:only-of-type {\n",
       "        vertical-align: middle;\n",
       "    }\n",
       "\n",
       "    .dataframe tbody tr th {\n",
       "        vertical-align: top;\n",
       "    }\n",
       "\n",
       "    .dataframe thead th {\n",
       "        text-align: right;\n",
       "    }\n",
       "</style>\n",
       "<table border=\"1\" class=\"dataframe\">\n",
       "  <thead>\n",
       "    <tr style=\"text-align: right;\">\n",
       "      <th></th>\n",
       "      <th>id</th>\n",
       "      <th>digit</th>\n",
       "      <th>letter</th>\n",
       "      <th>0</th>\n",
       "      <th>1</th>\n",
       "      <th>2</th>\n",
       "      <th>3</th>\n",
       "      <th>4</th>\n",
       "      <th>5</th>\n",
       "      <th>6</th>\n",
       "      <th>...</th>\n",
       "      <th>774</th>\n",
       "      <th>775</th>\n",
       "      <th>776</th>\n",
       "      <th>777</th>\n",
       "      <th>778</th>\n",
       "      <th>779</th>\n",
       "      <th>780</th>\n",
       "      <th>781</th>\n",
       "      <th>782</th>\n",
       "      <th>783</th>\n",
       "    </tr>\n",
       "  </thead>\n",
       "  <tbody>\n",
       "    <tr>\n",
       "      <th>0</th>\n",
       "      <td>1</td>\n",
       "      <td>5</td>\n",
       "      <td>L</td>\n",
       "      <td>1</td>\n",
       "      <td>1</td>\n",
       "      <td>1</td>\n",
       "      <td>4</td>\n",
       "      <td>3</td>\n",
       "      <td>0</td>\n",
       "      <td>0</td>\n",
       "      <td>...</td>\n",
       "      <td>2</td>\n",
       "      <td>1</td>\n",
       "      <td>0</td>\n",
       "      <td>1</td>\n",
       "      <td>2</td>\n",
       "      <td>4</td>\n",
       "      <td>4</td>\n",
       "      <td>4</td>\n",
       "      <td>3</td>\n",
       "      <td>4</td>\n",
       "    </tr>\n",
       "    <tr>\n",
       "      <th>1</th>\n",
       "      <td>2</td>\n",
       "      <td>0</td>\n",
       "      <td>B</td>\n",
       "      <td>0</td>\n",
       "      <td>4</td>\n",
       "      <td>0</td>\n",
       "      <td>0</td>\n",
       "      <td>4</td>\n",
       "      <td>1</td>\n",
       "      <td>1</td>\n",
       "      <td>...</td>\n",
       "      <td>0</td>\n",
       "      <td>3</td>\n",
       "      <td>0</td>\n",
       "      <td>1</td>\n",
       "      <td>4</td>\n",
       "      <td>1</td>\n",
       "      <td>4</td>\n",
       "      <td>2</td>\n",
       "      <td>1</td>\n",
       "      <td>2</td>\n",
       "    </tr>\n",
       "    <tr>\n",
       "      <th>2</th>\n",
       "      <td>3</td>\n",
       "      <td>4</td>\n",
       "      <td>L</td>\n",
       "      <td>1</td>\n",
       "      <td>1</td>\n",
       "      <td>2</td>\n",
       "      <td>2</td>\n",
       "      <td>1</td>\n",
       "      <td>1</td>\n",
       "      <td>1</td>\n",
       "      <td>...</td>\n",
       "      <td>3</td>\n",
       "      <td>3</td>\n",
       "      <td>3</td>\n",
       "      <td>0</td>\n",
       "      <td>2</td>\n",
       "      <td>0</td>\n",
       "      <td>3</td>\n",
       "      <td>0</td>\n",
       "      <td>2</td>\n",
       "      <td>2</td>\n",
       "    </tr>\n",
       "    <tr>\n",
       "      <th>3</th>\n",
       "      <td>4</td>\n",
       "      <td>9</td>\n",
       "      <td>D</td>\n",
       "      <td>1</td>\n",
       "      <td>2</td>\n",
       "      <td>0</td>\n",
       "      <td>2</td>\n",
       "      <td>0</td>\n",
       "      <td>4</td>\n",
       "      <td>0</td>\n",
       "      <td>...</td>\n",
       "      <td>3</td>\n",
       "      <td>3</td>\n",
       "      <td>2</td>\n",
       "      <td>0</td>\n",
       "      <td>1</td>\n",
       "      <td>4</td>\n",
       "      <td>0</td>\n",
       "      <td>0</td>\n",
       "      <td>1</td>\n",
       "      <td>1</td>\n",
       "    </tr>\n",
       "    <tr>\n",
       "      <th>4</th>\n",
       "      <td>5</td>\n",
       "      <td>6</td>\n",
       "      <td>A</td>\n",
       "      <td>3</td>\n",
       "      <td>0</td>\n",
       "      <td>2</td>\n",
       "      <td>4</td>\n",
       "      <td>0</td>\n",
       "      <td>3</td>\n",
       "      <td>0</td>\n",
       "      <td>...</td>\n",
       "      <td>4</td>\n",
       "      <td>4</td>\n",
       "      <td>3</td>\n",
       "      <td>2</td>\n",
       "      <td>1</td>\n",
       "      <td>3</td>\n",
       "      <td>4</td>\n",
       "      <td>3</td>\n",
       "      <td>1</td>\n",
       "      <td>2</td>\n",
       "    </tr>\n",
       "  </tbody>\n",
       "</table>\n",
       "<p>5 rows × 787 columns</p>\n",
       "</div>"
      ],
      "text/plain": [
       "   id  digit letter  0  1  2  3  4  5  6  ...  774  775  776  777  778  779  \\\n",
       "0   1      5      L  1  1  1  4  3  0  0  ...    2    1    0    1    2    4   \n",
       "1   2      0      B  0  4  0  0  4  1  1  ...    0    3    0    1    4    1   \n",
       "2   3      4      L  1  1  2  2  1  1  1  ...    3    3    3    0    2    0   \n",
       "3   4      9      D  1  2  0  2  0  4  0  ...    3    3    2    0    1    4   \n",
       "4   5      6      A  3  0  2  4  0  3  0  ...    4    4    3    2    1    3   \n",
       "\n",
       "   780  781  782  783  \n",
       "0    4    4    3    4  \n",
       "1    4    2    1    2  \n",
       "2    3    0    2    2  \n",
       "3    0    0    1    1  \n",
       "4    4    3    1    2  \n",
       "\n",
       "[5 rows x 787 columns]"
      ]
     },
     "execution_count": 4,
     "metadata": {},
     "output_type": "execute_result"
    }
   ],
   "source": [
    "train_data.head(5)"
   ]
  },
  {
   "cell_type": "code",
   "execution_count": 7,
   "metadata": {},
   "outputs": [
    {
     "data": {
      "text/plain": [
       "<matplotlib.axes._subplots.AxesSubplot at 0x7fa24783e8d0>"
      ]
     },
     "execution_count": 7,
     "metadata": {},
     "output_type": "execute_result"
    },
    {
     "data": {
      "image/png": "[encoded data removed]",
      "text/plain": [
       "<Figure size 432x288 with 1 Axes>"
      ]
     },
     "metadata": {
      "needs_background": "light"
     },
     "output_type": "display_data"
    }
   ],
   "source": [
    "import seaborn as sns\n",
    "sns.countplot(x='digit', data=train_data)"
   ]
  },
  {
   "cell_type": "code",
   "execution_count": 8,
   "metadata": {},
   "outputs": [
    {
     "data": {
      "text/plain": [
       "<matplotlib.axes._subplots.AxesSubplot at 0x7fa2479163d0>"
      ]
     },
     "execution_count": 8,
     "metadata": {},
     "output_type": "execute_result"
    },
    {
     "data": {
      "image/png": "[encoded data removed]",
      "text/plain": [
       "<Figure size 432x288 with 1 Axes>"
      ]
     },
     "metadata": {
      "needs_background": "light"
     },
     "output_type": "display_data"
    }
   ],
   "source": [
    "sns.countplot(x='letter', data=train_data)"
   ]
  },
  {
   "cell_type": "code",
   "execution_count": 9,
   "metadata": {},
   "outputs": [],
   "source": [
    "X_train_pixel = train_data[train_data.columns[3:]]\n",
    "X_train_letter = train_data[train_data.columns[2]]\n",
    "y_train = train_data[train_data.columns[1]]"
   ]
  },
  {
   "cell_type": "code",
   "execution_count": 10,
   "metadata": {},
   "outputs": [
    {
     "data": {
      "text/html": [
       "<div>\n",
       "<style scoped>\n",
       "    .dataframe tbody tr th:only-of-type {\n",
       "        vertical-align: middle;\n",
       "    }\n",
       "\n",
       "    .dataframe tbody tr th {\n",
       "        vertical-align: top;\n",
       "    }\n",
       "\n",
       "    .dataframe thead th {\n",
       "        text-align: right;\n",
       "    }\n",
       "</style>\n",
       "<table border=\"1\" class=\"dataframe\">\n",
       "  <thead>\n",
       "    <tr style=\"text-align: right;\">\n",
       "      <th></th>\n",
       "      <th>0</th>\n",
       "      <th>1</th>\n",
       "      <th>2</th>\n",
       "      <th>3</th>\n",
       "      <th>4</th>\n",
       "      <th>5</th>\n",
       "      <th>6</th>\n",
       "      <th>7</th>\n",
       "      <th>8</th>\n",
       "      <th>9</th>\n",
       "      <th>...</th>\n",
       "      <th>774</th>\n",
       "      <th>775</th>\n",
       "      <th>776</th>\n",
       "      <th>777</th>\n",
       "      <th>778</th>\n",
       "      <th>779</th>\n",
       "      <th>780</th>\n",
       "      <th>781</th>\n",
       "      <th>782</th>\n",
       "      <th>783</th>\n",
       "    </tr>\n",
       "  </thead>\n",
       "  <tbody>\n",
       "    <tr>\n",
       "      <th>0</th>\n",
       "      <td>1</td>\n",
       "      <td>1</td>\n",
       "      <td>1</td>\n",
       "      <td>4</td>\n",
       "      <td>3</td>\n",
       "      <td>0</td>\n",
       "      <td>0</td>\n",
       "      <td>4</td>\n",
       "      <td>4</td>\n",
       "      <td>3</td>\n",
       "      <td>...</td>\n",
       "      <td>2</td>\n",
       "      <td>1</td>\n",
       "      <td>0</td>\n",
       "      <td>1</td>\n",
       "      <td>2</td>\n",
       "      <td>4</td>\n",
       "      <td>4</td>\n",
       "      <td>4</td>\n",
       "      <td>3</td>\n",
       "      <td>4</td>\n",
       "    </tr>\n",
       "    <tr>\n",
       "      <th>1</th>\n",
       "      <td>0</td>\n",
       "      <td>4</td>\n",
       "      <td>0</td>\n",
       "      <td>0</td>\n",
       "      <td>4</td>\n",
       "      <td>1</td>\n",
       "      <td>1</td>\n",
       "      <td>1</td>\n",
       "      <td>4</td>\n",
       "      <td>2</td>\n",
       "      <td>...</td>\n",
       "      <td>0</td>\n",
       "      <td>3</td>\n",
       "      <td>0</td>\n",
       "      <td>1</td>\n",
       "      <td>4</td>\n",
       "      <td>1</td>\n",
       "      <td>4</td>\n",
       "      <td>2</td>\n",
       "      <td>1</td>\n",
       "      <td>2</td>\n",
       "    </tr>\n",
       "    <tr>\n",
       "      <th>2</th>\n",
       "      <td>1</td>\n",
       "      <td>1</td>\n",
       "      <td>2</td>\n",
       "      <td>2</td>\n",
       "      <td>1</td>\n",
       "      <td>1</td>\n",
       "      <td>1</td>\n",
       "      <td>0</td>\n",
       "      <td>2</td>\n",
       "      <td>1</td>\n",
       "      <td>...</td>\n",
       "      <td>3</td>\n",
       "      <td>3</td>\n",
       "      <td>3</td>\n",
       "      <td>0</td>\n",
       "      <td>2</td>\n",
       "      <td>0</td>\n",
       "      <td>3</td>\n",
       "      <td>0</td>\n",
       "      <td>2</td>\n",
       "      <td>2</td>\n",
       "    </tr>\n",
       "    <tr>\n",
       "      <th>3</th>\n",
       "      <td>1</td>\n",
       "      <td>2</td>\n",
       "      <td>0</td>\n",
       "      <td>2</td>\n",
       "      <td>0</td>\n",
       "      <td>4</td>\n",
       "      <td>0</td>\n",
       "      <td>3</td>\n",
       "      <td>4</td>\n",
       "      <td>3</td>\n",
       "      <td>...</td>\n",
       "      <td>3</td>\n",
       "      <td>3</td>\n",
       "      <td>2</td>\n",
       "      <td>0</td>\n",
       "      <td>1</td>\n",
       "      <td>4</td>\n",
       "      <td>0</td>\n",
       "      <td>0</td>\n",
       "      <td>1</td>\n",
       "      <td>1</td>\n",
       "    </tr>\n",
       "    <tr>\n",
       "      <th>4</th>\n",
       "      <td>3</td>\n",
       "      <td>0</td>\n",
       "      <td>2</td>\n",
       "      <td>4</td>\n",
       "      <td>0</td>\n",
       "      <td>3</td>\n",
       "      <td>0</td>\n",
       "      <td>4</td>\n",
       "      <td>2</td>\n",
       "      <td>4</td>\n",
       "      <td>...</td>\n",
       "      <td>4</td>\n",
       "      <td>4</td>\n",
       "      <td>3</td>\n",
       "      <td>2</td>\n",
       "      <td>1</td>\n",
       "      <td>3</td>\n",
       "      <td>4</td>\n",
       "      <td>3</td>\n",
       "      <td>1</td>\n",
       "      <td>2</td>\n",
       "    </tr>\n",
       "    <tr>\n",
       "      <th>...</th>\n",
       "      <td>...</td>\n",
       "      <td>...</td>\n",
       "      <td>...</td>\n",
       "      <td>...</td>\n",
       "      <td>...</td>\n",
       "      <td>...</td>\n",
       "      <td>...</td>\n",
       "      <td>...</td>\n",
       "      <td>...</td>\n",
       "      <td>...</td>\n",
       "      <td>...</td>\n",
       "      <td>...</td>\n",
       "      <td>...</td>\n",
       "      <td>...</td>\n",
       "      <td>...</td>\n",
       "      <td>...</td>\n",
       "      <td>...</td>\n",
       "      <td>...</td>\n",
       "      <td>...</td>\n",
       "      <td>...</td>\n",
       "      <td>...</td>\n",
       "    </tr>\n",
       "    <tr>\n",
       "      <th>2043</th>\n",
       "      <td>2</td>\n",
       "      <td>4</td>\n",
       "      <td>3</td>\n",
       "      <td>4</td>\n",
       "      <td>2</td>\n",
       "      <td>4</td>\n",
       "      <td>4</td>\n",
       "      <td>1</td>\n",
       "      <td>2</td>\n",
       "      <td>1</td>\n",
       "      <td>...</td>\n",
       "      <td>0</td>\n",
       "      <td>2</td>\n",
       "      <td>2</td>\n",
       "      <td>0</td>\n",
       "      <td>0</td>\n",
       "      <td>1</td>\n",
       "      <td>3</td>\n",
       "      <td>1</td>\n",
       "      <td>4</td>\n",
       "      <td>0</td>\n",
       "    </tr>\n",
       "    <tr>\n",
       "      <th>2044</th>\n",
       "      <td>3</td>\n",
       "      <td>2</td>\n",
       "      <td>2</td>\n",
       "      <td>1</td>\n",
       "      <td>1</td>\n",
       "      <td>4</td>\n",
       "      <td>0</td>\n",
       "      <td>1</td>\n",
       "      <td>4</td>\n",
       "      <td>2</td>\n",
       "      <td>...</td>\n",
       "      <td>2</td>\n",
       "      <td>3</td>\n",
       "      <td>4</td>\n",
       "      <td>2</td>\n",
       "      <td>1</td>\n",
       "      <td>2</td>\n",
       "      <td>3</td>\n",
       "      <td>4</td>\n",
       "      <td>1</td>\n",
       "      <td>1</td>\n",
       "    </tr>\n",
       "    <tr>\n",
       "      <th>2045</th>\n",
       "      <td>4</td>\n",
       "      <td>0</td>\n",
       "      <td>4</td>\n",
       "      <td>0</td>\n",
       "      <td>2</td>\n",
       "      <td>4</td>\n",
       "      <td>4</td>\n",
       "      <td>4</td>\n",
       "      <td>3</td>\n",
       "      <td>4</td>\n",
       "      <td>...</td>\n",
       "      <td>2</td>\n",
       "      <td>3</td>\n",
       "      <td>1</td>\n",
       "      <td>1</td>\n",
       "      <td>3</td>\n",
       "      <td>4</td>\n",
       "      <td>2</td>\n",
       "      <td>2</td>\n",
       "      <td>0</td>\n",
       "      <td>0</td>\n",
       "    </tr>\n",
       "    <tr>\n",
       "      <th>2046</th>\n",
       "      <td>2</td>\n",
       "      <td>3</td>\n",
       "      <td>3</td>\n",
       "      <td>0</td>\n",
       "      <td>3</td>\n",
       "      <td>0</td>\n",
       "      <td>4</td>\n",
       "      <td>3</td>\n",
       "      <td>0</td>\n",
       "      <td>1</td>\n",
       "      <td>...</td>\n",
       "      <td>2</td>\n",
       "      <td>3</td>\n",
       "      <td>1</td>\n",
       "      <td>1</td>\n",
       "      <td>0</td>\n",
       "      <td>4</td>\n",
       "      <td>1</td>\n",
       "      <td>4</td>\n",
       "      <td>3</td>\n",
       "      <td>1</td>\n",
       "    </tr>\n",
       "    <tr>\n",
       "      <th>2047</th>\n",
       "      <td>4</td>\n",
       "      <td>2</td>\n",
       "      <td>2</td>\n",
       "      <td>1</td>\n",
       "      <td>3</td>\n",
       "      <td>0</td>\n",
       "      <td>0</td>\n",
       "      <td>0</td>\n",
       "      <td>3</td>\n",
       "      <td>2</td>\n",
       "      <td>...</td>\n",
       "      <td>4</td>\n",
       "      <td>2</td>\n",
       "      <td>4</td>\n",
       "      <td>0</td>\n",
       "      <td>4</td>\n",
       "      <td>3</td>\n",
       "      <td>2</td>\n",
       "      <td>4</td>\n",
       "      <td>3</td>\n",
       "      <td>4</td>\n",
       "    </tr>\n",
       "  </tbody>\n",
       "</table>\n",
       "<p>2048 rows × 784 columns</p>\n",
       "</div>"
      ],
      "text/plain": [
       "      0  1  2  3  4  5  6  7  8  9  ...  774  775  776  777  778  779  780  \\\n",
       "0     1  1  1  4  3  0  0  4  4  3  ...    2    1    0    1    2    4    4   \n",
       "1     0  4  0  0  4  1  1  1  4  2  ...    0    3    0    1    4    1    4   \n",
       "2     1  1  2  2  1  1  1  0  2  1  ...    3    3    3    0    2    0    3   \n",
       "3     1  2  0  2  0  4  0  3  4  3  ...    3    3    2    0    1    4    0   \n",
       "4     3  0  2  4  0  3  0  4  2  4  ...    4    4    3    2    1    3    4   \n",
       "...  .. .. .. .. .. .. .. .. .. ..  ...  ...  ...  ...  ...  ...  ...  ...   \n",
       "2043  2  4  3  4  2  4  4  1  2  1  ...    0    2    2    0    0    1    3   \n",
       "2044  3  2  2  1  1  4  0  1  4  2  ...    2    3    4    2    1    2    3   \n",
       "2045  4  0  4  0  2  4  4  4  3  4  ...    2    3    1    1    3    4    2   \n",
       "2046  2  3  3  0  3  0  4  3  0  1  ...    2    3    1    1    0    4    1   \n",
       "2047  4  2  2  1  3  0  0  0  3  2  ...    4    2    4    0    4    3    2   \n",
       "\n",
       "      781  782  783  \n",
       "0       4    3    4  \n",
       "1       2    1    2  \n",
       "2       0    2    2  \n",
       "3       0    1    1  \n",
       "4       3    1    2  \n",
       "...   ...  ...  ...  \n",
       "2043    1    4    0  \n",
       "2044    4    1    1  \n",
       "2045    2    0    0  \n",
       "2046    4    3    1  \n",
       "2047    4    3    4  \n",
       "\n",
       "[2048 rows x 784 columns]"
      ]
     },
     "execution_count": 10,
     "metadata": {},
     "output_type": "execute_result"
    }
   ],
   "source": [
    "X_train_pixel"
   ]
  },
  {
   "cell_type": "code",
   "execution_count": 11,
   "metadata": {},
   "outputs": [],
   "source": [
    "X_train_pixel_numpy = X_train_pixel.values"
   ]
  },
  {
   "cell_type": "code",
   "execution_count": 12,
   "metadata": {},
   "outputs": [
    {
     "data": {
      "text/plain": [
       "(2048, 784)"
      ]
     },
     "execution_count": 12,
     "metadata": {},
     "output_type": "execute_result"
    }
   ],
   "source": [
    "X_train_pixel_numpy.shape"
   ]
  },
  {
   "cell_type": "code",
   "execution_count": 16,
   "metadata": {},
   "outputs": [],
   "source": [
    "X_train_pixel_image_numpy = X_train_pixel_numpy.reshape(-1,28,28)"
   ]
  },
  {
   "cell_type": "code",
   "execution_count": 39,
   "metadata": {},
   "outputs": [
    {
     "name": "stdout",
     "output_type": "stream",
     "text": [
      "5\n",
      "L\n"
     ]
    },
    {
     "data": {
      "image/png": "[encoded data removed]",
      "text/plain": [
       "<Figure size 432x288 with 1 Axes>"
      ]
     },
     "metadata": {
      "needs_background": "light"
     },
     "output_type": "display_data"
    }
   ],
   "source": [
    "plt.imshow(X_train_pixel_image_numpy[0],cmap='gray')\n",
    "print(y_train[0])\n",
    "print(X_train_letter[0])\n",
    "plt.show()"
   ]
  },
  {
   "cell_type": "code",
   "execution_count": 20,
   "metadata": {},
   "outputs": [
    {
     "name": "stdout",
     "output_type": "stream",
     "text": [
      "0\n",
      "B\n"
     ]
    },
    {
     "data": {
      "image/png": "[encoded data removed]",
      "text/plain": [
       "<Figure size 432x288 with 1 Axes>"
      ]
     },
     "metadata": {
      "needs_background": "light"
     },
     "output_type": "display_data"
    }
   ],
   "source": [
    "plt.imshow(X_train_pixel_image_numpy[1])\n",
    "print(y_train[1])\n",
    "print(X_train_letter[1])\n",
    "plt.show()"
   ]
  },
  {
   "cell_type": "code",
   "execution_count": 21,
   "metadata": {},
   "outputs": [
    {
     "name": "stdout",
     "output_type": "stream",
     "text": [
      "4\n",
      "L\n"
     ]
    },
    {
     "data": {
      "image/png": "[encoded data removed]",
      "text/plain": [
       "<Figure size 432x288 with 1 Axes>"
      ]
     },
     "metadata": {
      "needs_background": "light"
     },
     "output_type": "display_data"
    }
   ],
   "source": [
    "plt.imshow(X_train_pixel_image_numpy[2])\n",
    "print(y_train[2])\n",
    "print(X_train_letter[2])\n",
    "plt.show()"
   ]
  },
  {
   "cell_type": "code",
   "execution_count": 23,
   "metadata": {},
   "outputs": [
    {
     "name": "stdout",
     "output_type": "stream",
     "text": [
      "9\n",
      "D\n"
     ]
    },
    {
     "data": {
      "image/png": "[encoded data removed]",
      "text/plain": [
       "<Figure size 432x288 with 1 Axes>"
      ]
     },
     "metadata": {
      "needs_background": "light"
     },
     "output_type": "display_data"
    }
   ],
   "source": [
    "plt.imshow(X_train_pixel_image_numpy[3])\n",
    "print(y_train[3])\n",
    "print(X_train_letter[3])\n",
    "plt.show()"
   ]
  },
  {
   "cell_type": "code",
   "execution_count": 24,
   "metadata": {},
   "outputs": [
    {
     "name": "stdout",
     "output_type": "stream",
     "text": [
      "6\n",
      "A\n"
     ]
    },
    {
     "data": {
      "image/png": "[encoded data removed]",
      "text/plain": [
       "<Figure size 432x288 with 1 Axes>"
      ]
     },
     "metadata": {
      "needs_background": "light"
     },
     "output_type": "display_data"
    }
   ],
   "source": [
    "plt.imshow(X_train_pixel_image_numpy[4])\n",
    "print(y_train[4])\n",
    "print(X_train_letter[4])\n",
    "plt.show()"
   ]
  },
  {
   "cell_type": "code",
   "execution_count": 25,
   "metadata": {},
   "outputs": [
    {
     "name": "stderr",
     "output_type": "stream",
     "text": [
      "/Users/h/opt/anaconda3/lib/python3.7/importlib/_bootstrap.py:219: RuntimeWarning: numpy.ufunc size changed, may indicate binary incompatibility. Expected 216, got 192\n",
      "  return f(*args, **kwds)\n"
     ]
    }
   ],
   "source": [
    "import tensorflow as tf"
   ]
  },
  {
   "cell_type": "code",
   "execution_count": 269,
   "metadata": {},
   "outputs": [],
   "source": [
    "from sklearn.preprocessing import MinMaxScaler\n",
    "min_max_scaler = MinMaxScaler()\n",
    "X_train_scaled = min_max_scaler.fit_transform(X_train_pixel_numpy)"
   ]
  },
  {
   "cell_type": "code",
   "execution_count": 272,
   "metadata": {},
   "outputs": [
    {
     "data": {
      "text/plain": [
       "(2048, 28, 28, 1)"
      ]
     },
     "execution_count": 272,
     "metadata": {},
     "output_type": "execute_result"
    },
    {
     "data": {
      "image/png": "[encoded data removed]",
      "text/plain": [
       "<Figure size 432x288 with 1 Axes>"
      ]
     },
     "metadata": {
      "needs_background": "light"
     },
     "output_type": "display_data"
    }
   ],
   "source": [
    "plt.imshow(X_train_scaled[4].reshape(28,28),cmap='gray')\n",
    "X_train_scaled_reshaped = X_train_scaled.reshape(-1, 28, 28,1)\n",
    "X_train_scaled_reshaped.shape"
   ]
  },
  {
   "cell_type": "code",
   "execution_count": 57,
   "metadata": {},
   "outputs": [],
   "source": [
    "X_train_scaled_reshaped = X_train_scaled.reshape(-1, 28, 28,1)\n",
    "model = tf.keras.Sequential([\n",
    "    tf.keras.layers.Conv2D(64, 7, activation='relu', padding='same', input_shape=[28, 28, 1]),\n",
    "    tf.keras.layers.MaxPool2D(2),\n",
    "    tf.keras.layers.Conv2D(128, 3, activation='relu', padding='same'),\n",
    "    tf.keras.layers.Conv2D(128, 3, activation='relu', padding='same'),\n",
    "    tf.keras.layers.MaxPool2D(2),\n",
    "    tf.keras.layers.Conv2D(256, 3, activation='relu', padding='same'),\n",
    "    tf.keras.layers.Conv2D(256, 3, activation='relu', padding='same'),\n",
    "    tf.keras.layers.MaxPool2D(2),\n",
    "    tf.keras.layers.Flatten(),\n",
    "    tf.keras.layers.Dense(128, activation='relu'),\n",
    "    tf.keras.layers.Dropout(.5),\n",
    "    tf.keras.layers.Dense(64, activation='relu'),\n",
    "    tf.keras.layers.Dropout(.5),\n",
    "    tf.keras.layers.Dense(10, activation='softmax')\n",
    "])"
   ]
  },
  {
   "cell_type": "code",
   "execution_count": 58,
   "metadata": {},
   "outputs": [],
   "source": [
    "model.compile(loss='sparse_categorical_crossentropy',\n",
    "             optimizer='nadam',\n",
    "             metrics=['accuracy'])"
   ]
  },
  {
   "cell_type": "code",
   "execution_count": 63,
   "metadata": {},
   "outputs": [],
   "source": [
    "checkpoint_cb = tf.keras.callbacks.ModelCheckpoint('emnist_cnn_checkpoint.h5', save_best_only=True)\n",
    "earlystopping_cb = tf.keras.callbacks.EarlyStopping(patience=10, restore_best_weights=True)"
   ]
  },
  {
   "cell_type": "code",
   "execution_count": 64,
   "metadata": {},
   "outputs": [],
   "source": [
    "import os\n",
    "root_logdir = os.path.join(os.curdir, 'my_logs')\n",
    "if not os.path.exists(root_logdir):\n",
    "    os.mkdir(root_logdir)"
   ]
  },
  {
   "cell_type": "code",
   "execution_count": 65,
   "metadata": {},
   "outputs": [],
   "source": [
    "def get_run_logdir(file_name):\n",
    "    import time\n",
    "    run_id = time.strftime('run_%Y_%m_%d_%H_%M_%S_{}'.format(file_name))\n",
    "    return os.path.join(root_logdir, run_id)\n",
    "\n",
    "run_log_dir = get_run_logdir('cnn_emnist')"
   ]
  },
  {
   "cell_type": "code",
   "execution_count": 68,
   "metadata": {},
   "outputs": [
    {
     "name": "stdout",
     "output_type": "stream",
     "text": [
      "Train on 1638 samples, validate on 410 samples\n",
      "Epoch 1/100\n",
      "1638/1638 [==============================] - 7s 5ms/sample - loss: 2.3042 - accuracy: 0.1136 - val_loss: 2.3047 - val_accuracy: 0.0756\n",
      "Epoch 2/100\n",
      "1638/1638 [==============================] - 6s 3ms/sample - loss: 2.3017 - accuracy: 0.1142 - val_loss: 2.3051 - val_accuracy: 0.0756\n",
      "Epoch 3/100\n",
      "1638/1638 [==============================] - 6s 3ms/sample - loss: 2.3037 - accuracy: 0.1160 - val_loss: 2.3074 - val_accuracy: 0.0756\n",
      "Epoch 4/100\n",
      "1638/1638 [==============================] - 6s 3ms/sample - loss: 2.2990 - accuracy: 0.1264 - val_loss: 2.3061 - val_accuracy: 0.0902\n",
      "Epoch 5/100\n",
      "1638/1638 [==============================] - 6s 4ms/sample - loss: 2.3016 - accuracy: 0.1190 - val_loss: 2.3090 - val_accuracy: 0.0756\n",
      "Epoch 6/100\n",
      "1638/1638 [==============================] - 6s 4ms/sample - loss: 2.2998 - accuracy: 0.1227 - val_loss: 2.3099 - val_accuracy: 0.0756\n",
      "Epoch 7/100\n",
      "1638/1638 [==============================] - 6s 4ms/sample - loss: 2.2988 - accuracy: 0.1148 - val_loss: 2.3110 - val_accuracy: 0.0756\n",
      "Epoch 8/100\n",
      "1638/1638 [==============================] - 6s 4ms/sample - loss: 2.2979 - accuracy: 0.1227 - val_loss: 2.3123 - val_accuracy: 0.0756\n",
      "Epoch 9/100\n",
      "1638/1638 [==============================] - 6s 4ms/sample - loss: 2.2986 - accuracy: 0.1215 - val_loss: 2.3130 - val_accuracy: 0.0756\n",
      "Epoch 10/100\n",
      "1638/1638 [==============================] - 6s 4ms/sample - loss: 2.2993 - accuracy: 0.1221 - val_loss: 2.3135 - val_accuracy: 0.0756\n",
      "Epoch 11/100\n",
      "1638/1638 [==============================] - 6s 4ms/sample - loss: 2.2972 - accuracy: 0.1239 - val_loss: 2.3144 - val_accuracy: 0.0756\n"
     ]
    }
   ],
   "source": [
    "tensorboard_cb = tf.keras.callbacks.TensorBoard(run_log_dir)\n",
    "history = model.fit(X_train_scaled_reshaped, y_train.values, epochs=100, \n",
    "                   validation_split=.2,\n",
    "                   callbacks=[checkpoint_cb, earlystopping_cb, tensorboard_cb])"
   ]
  },
  {
   "cell_type": "code",
   "execution_count": 70,
   "metadata": {
    "scrolled": true
   },
   "outputs": [
    {
     "name": "stdout",
     "output_type": "stream",
     "text": [
      "2048/1 [================================================================================================================================================================================================================================================================================================================================================================================================================================================================================================================================================================================================================================================================================================================================================================================================================================================================================================================================================================================================================================================================================================================================================================================================================================================================================================================================================================================================================================================================================================================================================================================================================================================================================================================================================================================================================================================================================================================================================================================================================================================================================================================================================================================================================================================================================================================================================================================================================================================================================================================================================================================================================================================================================================================================================================================================================================================================================================================================================================================================================================================================================================================================================================================================================================================================================================================================================================================================================================================================================================================================================================================================================================================================================================================================================================================================================================================================================================================================================================================================================================================================================================================================================================================================================================================================================================================================================================================================================================================================================================================================================================================================================================================================================================================================================================================================================================================================================================================================================================================================================================================================================================================================================================================================================================================================================================================================================================================================================================================================================================================================================================================================================================================================================================================================================================================================================================================================================================================================================================================================================================================================================================================================================================================================================================================================================================================================================================================================================================================================================================================================================================================================================================================================================================================================================================================================================================================================================================================================================================================================================================================================================================================================================================================================================================================================================================================================================================================================================================================================================================================================================================================================================================================================================================================================================================================================================================================================================================================================================================================================================================================================================================================================================================================================================================================================================================================================================================================================================================================================================================================================================================================================================================================================================================================================================================================================================================================================================================================================================================================================================================================================================================================================================================================================================================================================================================================================================================================================================================================================================================================================================================================================================================================================================================================================================================================================================================================================================================================================================================================================================================================================================================================================================================================================================================================================================================================================================================================================================================================================================================================================================================================================================================================================================================================================================================================================================================================================================================================================================================================================================================================================================================================================================================================================================================================================================================================================================================================================================================================================================================================================================================================================================================================================================================================================================================================================================================================================================================================================================================================================================================================================================================================================================================================================================================================================================================================================================================================================================================================================================================================================================================================================================================================================================================================================================================================================================================================================================================================================================================================================================================================================================================================================================================================================================================================================================================================================================================================================================================================================================================================================================================================================================================================================================================================================================================================================================================================================================================================================================================================================================================================================================================================================================================================================================================================================================================================================================================================================================================================================================================================================================================================================================================================================================================================================================================================================================================================================================================================================================================================================================================================================================================================================================================================================================================================================================================================================================================================================================================================================================================================================================================================================================================================================================================================================================================================================================================================================================================================================================================================================================================================================================================================================================================================================================================================================================================================================================================================================================================================================================================================================================================================================================================================================================================================================================================================================================================================================================================================================================================================================================================================================================================================================================================================================================================================================================================================================================================================================================================================================================================================================================================================================================================================================================================================================================================================================================================================================================================================================================================================================================================================================================================================================================================================================================================================================================================================================================================================================================================================================================================================================================================================================================================================================================================================================================================================================================================================================================================================================================================================================================================================================================================================================================================================================================================================================================================================================================================================================================================================================================================================================================================================================================================================================================================================================================================================================================================================================================================================================================================================================================================================================================================================================================================================================================================================================================================================================================================================================================================================================================================================================================================================================================================================================================================================================================================================================================================================================================================================================================================================================================================================================================================================================================================================================================================================================================================================================================================================================================================================================================================================================================================================================================================================================================================================================================================================================================================================================================================================================================================================================================================================================================================================================================================================================================================================================================================================================================================================================================================================================================================================================================================================================================================================================================================================================================================================================================================================================================================================================================================================================================================================================================================================================================================================================================================================================================================================================================================================================================================================================================================================================================================================================================================================================================================================================================================================================================================================================================================================================================================================================================================================================================================================================================================================================================================================================================================================================================================================================================================================================================================================================================================================================================================================================================================================================================================================================================================================================================================================================================================================================================================================================================================================================================================================================================================================================================================================================================================================================================================================================================================================================================================================================================================================================================================================================================================================================================================================================================================================================================================================================================================================================================================================================================================================================================================================================================================================================================================================================================================================================================================================================================================================================================================================================================================================================================================================================================================================================================================================================================================================================================================================================================================================================================================================================================================================================================================================================================================================================================================================================================================================================================================================================================================================================================================================================================================================================================================================================================================================================================================================================================================================================================================================================================================================================================================================================================================================================================================================================================================================================================================================================================================================================================================================================================================================================================================================================================================================================================================================================================================================================================================================================================================================================================================================================================================================================================================================================================================================================================================================================================================================================================================================================================================================================================================================================================================================================================================================================================================================================================================================================================================================================================================================================================================================================================================================================================================================================================================================================================================================================================================================================================================================================================================================================================================================================================================================================================================================================================================================================================================================================================================================================================================================================================================================================================================================================================================================================================================================================================================================================================================================================================================================================================================================================================================================================================================================================================================================================================================================================================================================================================================================================================================================================================================================================================================================================================================================================================================================================================================================================================================================================================================================================================================================================================================================================================================================================================================================================================================================================================================================================================================================================================================================================================================================================================================================================================================================================================================================================================================================================================================================================================================================================================================================================================================================================================================================================================================================================================================================================================================================================================================================================================================================================================================================================================================================================================================================================================================================================================================================================================================================================================================================================================================================================================================================================================================================================================================================================================================================================================================================================================================================================================================================================================================================================================================================================================================================================================================================================================================================================================================================================================================================================================================================================================================================================================================================================================================================================================================================================================================================================================================================================================================================================================================================================================================================================================================================================================================================================================================================================================================================================================================================================================================================================================================================================================================================================================================================================================================================================================================================================================================================================================================================================================================================================================================================================================================================================================================================================================================================================================================================================================================================================================================================================================================================================================================================================================================================================================================================================================================================================================================================================================================================================================================================================================================================================================================================================================================================================================================================================================================================================================================================================================================================================================================================================================================================================================================================================================================================================================================================================================================================================================================================================================================================================================================================================================================================================================================================================================================================================================================================================================================================================================================================================================================================================================================================================================================================================================================================================================================================================================================================================================================================================================================================================================================================================================================================================================================================================================================================================================================================================================================================================================================================================================================================================================================================================================================================================================================================================================================================================================================================================================================================================================================================================================================================================================================================================================================================================================================================================================================================================================================================================================================================================================================================================================================================================================================================================================================================================================================================================================================================================================================================================================================================================================================================================================================================================================================================================================================================================================================================================================================================================================================================================================================================================================================================================================================================================================================================================================================================================================================================================================================================================================================================================================================================================================================================================================================================================================================================================================================================================================================================================================================================================================================================================================================================================================================================================================================================================================================================================================================================================================================================================================================================================================================================================================================================================================================================================================================================================================================================================================================================================================================================================================================================================================================================================================================================================================================================================================================================================================================================================================================================================================================================================================================================================================================================================================================================================================================================================================================================================================================================================================================================================================================================================================================================================================================================================================================================================================================================================================================================================================================================================================================================================================================================================================================================================================================================================================================================================================================================================================================================================================================================================================================================================================================================================================================================================================================================================================================================================================================================================================================================================================================================================================================================================================================================================================================================================================================================================================================================================================================================================================================================================================================================================================================================================================================================================================================================================================================================================================================================================================================================================================================================================================================================================================================================================================================================================================================================================================================================================================================================================================================================================================================================================================================================================================================================================================================================================================================================================================================================================================================================================================================================================================================================================================================================================================================================================================================================================================================================================================================================================================================================================================================================================================================================================================================================================================================================================================================================================================================================================================================================================================================================================================================================================================================================================================================================================================================================================================================================================================================================================================================================================================================================================================================================================================================================================================================================================================================================================================================================================================================================================================================================================================================================================================================================================================================================================================================================================================================================================================================================================================================================================================================================================================================================================================================================================================================================================================================================================================================================================================================================================================================================================================================================================================================================================================================================================================================================================================================================================================================================================================================================================================================================================================================================================================================================================================================================================================================================================================================================================================================================================================================================================================================================================================================================================================================================================================================================================================================================================================================================================================================================================================================================================================================================================================================================================================================================================================================================================================================================================================================================================================================================================================================================================================================================================================================================================================================================================================================================================================================================================================================================================================================================================================================================================================================================================================================================================================================================================================================================================================================================================================================================================================================================================================================================================================================================================================================================================================================================================================================================================================================================================================================================================================================================================================================================================================================================================================================================================================================================================================================================================================================================================================================================================================================================================================================================================================================================================================================================================================================================================================================================================================================================================================================================================================================================================================================================================================================================================================================================================================================================================================================================================================================================================================================================================================================================================================================================================================================================================================================================================================================================================================================================================================================================================================================================================================================================================================================================================================================================================================================================================================================================================================================================================================================================================================================================================================================================================================================================================================================================================================================================================================================================================================================================================================================================================================================================================================================================================================================================================================================================================================================================================================================================================================================================================================================================================================================================================================================================================================================================================================================================================================================================================================================================================================================================================================================================================================================================================================================================================================================================================================================================================================================================================================================================================================================================================================================================================================================================================================================================================================================================================================================================================================================================================================================================================================================================================================================================================================================================================================================================================================================================================================================================================================================================================================================================================================================================================================================================================================================================================================================================================================================================================================================================================================================================================================================================================================================================================================================================================================================================================================================================================================================================================================================================================================================================================================================================================================================================================================================================================================================================================================================================================================================================================================================================================================================================================================================================================================================================================================================================================================================================================================================================================================================================================================================================================================================================================================================================================================================================================================================================================================================================================================================================================================================================================================================================================================================================================] - 2s 793us/sample - loss: 2.3012 - accuracy: 0.1138\n"
     ]
    },
    {
     "data": {
      "text/plain": [
       "[2.3009960390627384, 0.11376953]"
      ]
     },
     "execution_count": 70,
     "metadata": {},
     "output_type": "execute_result"
    }
   ],
   "source": [
    "model.evaluate(X_train_scaled_reshaped, y_train.values)"
   ]
  },
  {
   "cell_type": "code",
   "execution_count": 71,
   "metadata": {},
   "outputs": [
    {
     "data": {
      "text/plain": [
       "0       L\n",
       "1       B\n",
       "2       L\n",
       "3       D\n",
       "4       A\n",
       "       ..\n",
       "2043    V\n",
       "2044    L\n",
       "2045    A\n",
       "2046    Z\n",
       "2047    Z\n",
       "Name: letter, Length: 2048, dtype: object"
      ]
     },
     "execution_count": 71,
     "metadata": {},
     "output_type": "execute_result"
    }
   ],
   "source": [
    "X_train_letter"
   ]
  },
  {
   "cell_type": "code",
   "execution_count": 74,
   "metadata": {},
   "outputs": [],
   "source": [
    "from sklearn.preprocessing import OneHotEncoder\n",
    "one_hot = OneHotEncoder()\n",
    "X_train_letter_one_hot = one_hot.fit_transform(X_train_letter.values.reshape(-1,1))"
   ]
  },
  {
   "cell_type": "code",
   "execution_count": 77,
   "metadata": {},
   "outputs": [],
   "source": [
    "X_train_letter_one_hot = X_train_letter_one_hot.toarray()"
   ]
  },
  {
   "cell_type": "code",
   "execution_count": 115,
   "metadata": {},
   "outputs": [],
   "source": [
    "input_image = tf.keras.layers.Input(shape=[28, 28, 1], name = 'image_input')\n",
    "input_letter = tf.keras.layers.Input(shape=[26], name = 'letter_input')\n",
    "convolution_conv2d_1 = tf.keras.layers.Conv2D(64, 7, activation='relu', padding='same')(input_image)\n",
    "convolution_max_pool_2d_1 = tf.keras.layers.MaxPool2D(2)(input_image)\n",
    "convolution_conv2d_2 = tf.keras.layers.Conv2D(128, 3, activation='relu', padding='same')(convolution_max_pool_2d_1)\n",
    "convolution_conv2d_3 = tf.keras.layers.Conv2D(128, 3, activation='relu', padding='same')(convolution_conv2d_2)\n",
    "convolution_max_pool_2d_2 = tf.keras.layers.MaxPool2D(2)(convolution_conv2d_3)\n",
    "convolution_conv2d_4 = tf.keras.layers.Conv2D(256, 3, activation='relu', padding='same')(convolution_max_pool_2d_2)\n",
    "convolution_conv2d_5 = tf.keras.layers.Conv2D(256, 3, activation='relu', padding='same')(convolution_conv2d_4)\n",
    "convolution_max_pool_2d_3 = tf.keras.layers.MaxPool2D(2)(convolution_conv2d_5)\n",
    "image_after_convolution = tf.keras.layers.Flatten()(convolution_max_pool_2d_3)\n",
    "concat_layer = tf.keras.layers.Concatenate()([image_after_convolution, input_letter])\n",
    "hidden_layer1 = tf.keras.layers.Dense(128, activation='relu')(concat_layer)\n",
    "dropout_1 = tf.keras.layers.Dropout(.3)(hidden_layer1)\n",
    "hidden_layer2 = tf.keras.layers.Dense(64, activation='relu')(dropout_1)\n",
    "dropout_2 = tf.keras.layers.Dropout(.3)(hidden_layer2)\n",
    "output = tf.keras.layers.Dense(10, activation='softmax')(dropout_2)"
   ]
  },
  {
   "cell_type": "code",
   "execution_count": 116,
   "metadata": {},
   "outputs": [],
   "source": [
    "model = tf.keras.Model(inputs=[input_image, input_letter], outputs=[output])"
   ]
  },
  {
   "cell_type": "code",
   "execution_count": 117,
   "metadata": {},
   "outputs": [
    {
     "data": {
      "image/png": "[encoded data removed]",
      "text/plain": [
       "<IPython.core.display.Image object>"
      ]
     },
     "execution_count": 117,
     "metadata": {},
     "output_type": "execute_result"
    }
   ],
   "source": [
    "tf.keras.utils.plot_model(model, show_shapes=True)"
   ]
  },
  {
   "cell_type": "code",
   "execution_count": 118,
   "metadata": {},
   "outputs": [],
   "source": [
    "model.compile(loss='sparse_categorical_crossentropy',\n",
    "             optimizer='nadam',\n",
    "             metrics=['accuracy'])"
   ]
  },
  {
   "cell_type": "code",
   "execution_count": 119,
   "metadata": {},
   "outputs": [],
   "source": [
    "checkpoint_cb = tf.keras.callbacks.ModelCheckpoint('emnist_cnn_input2_checkpoint_std_scaler_dropout_3.h5', save_best_only=True)\n",
    "earlystopping_cb = tf.keras.callbacks.EarlyStopping(patience=10, restore_best_weights=True)"
   ]
  },
  {
   "cell_type": "code",
   "execution_count": 120,
   "metadata": {},
   "outputs": [],
   "source": [
    "run_log_dir = get_run_logdir('cnn_input2_emnist_std_scaler)dropout_3')"
   ]
  },
  {
   "cell_type": "code",
   "execution_count": 121,
   "metadata": {
    "scrolled": true
   },
   "outputs": [
    {
     "name": "stdout",
     "output_type": "stream",
     "text": [
      "Train on 1638 samples, validate on 410 samples\n",
      "Epoch 1/100\n",
      "1638/1638 [==============================] - 6s 3ms/sample - loss: 2.3042 - accuracy: 0.1026 - val_loss: 2.3088 - val_accuracy: 0.0756\n",
      "Epoch 2/100\n",
      "1638/1638 [==============================] - 5s 3ms/sample - loss: 2.2950 - accuracy: 0.1325 - val_loss: 2.2457 - val_accuracy: 0.1634\n",
      "Epoch 3/100\n",
      "1638/1638 [==============================] - 5s 3ms/sample - loss: 2.1240 - accuracy: 0.2332 - val_loss: 1.9305 - val_accuracy: 0.3341\n",
      "Epoch 4/100\n",
      "1638/1638 [==============================] - 5s 3ms/sample - loss: 1.8376 - accuracy: 0.3394 - val_loss: 1.7565 - val_accuracy: 0.3659\n",
      "Epoch 5/100\n",
      "1638/1638 [==============================] - 5s 3ms/sample - loss: 1.6203 - accuracy: 0.4371 - val_loss: 1.7130 - val_accuracy: 0.3512\n",
      "Epoch 6/100\n",
      "1638/1638 [==============================] - 5s 3ms/sample - loss: 1.3842 - accuracy: 0.5183 - val_loss: 1.6063 - val_accuracy: 0.4537\n",
      "Epoch 7/100\n",
      "1638/1638 [==============================] - 4s 3ms/sample - loss: 1.1860 - accuracy: 0.6020 - val_loss: 2.2926 - val_accuracy: 0.3634\n",
      "Epoch 8/100\n",
      "1638/1638 [==============================] - 5s 3ms/sample - loss: 1.0950 - accuracy: 0.6245 - val_loss: 1.3696 - val_accuracy: 0.5756\n",
      "Epoch 9/100\n",
      "1638/1638 [==============================] - 5s 3ms/sample - loss: 0.9388 - accuracy: 0.6807 - val_loss: 1.6346 - val_accuracy: 0.4927\n",
      "Epoch 10/100\n",
      "1638/1638 [==============================] - 5s 3ms/sample - loss: 0.7982 - accuracy: 0.7247 - val_loss: 1.1645 - val_accuracy: 0.6268\n",
      "Epoch 11/100\n",
      "1638/1638 [==============================] - 5s 3ms/sample - loss: 0.6551 - accuracy: 0.7808 - val_loss: 1.2824 - val_accuracy: 0.6000\n",
      "Epoch 12/100\n",
      "1638/1638 [==============================] - 5s 3ms/sample - loss: 0.5319 - accuracy: 0.8217 - val_loss: 1.2573 - val_accuracy: 0.6171\n",
      "Epoch 13/100\n",
      "1638/1638 [==============================] - 5s 3ms/sample - loss: 0.4371 - accuracy: 0.8590 - val_loss: 1.4744 - val_accuracy: 0.5927\n",
      "Epoch 14/100\n",
      "1638/1638 [==============================] - 5s 3ms/sample - loss: 0.3305 - accuracy: 0.8993 - val_loss: 2.2870 - val_accuracy: 0.5366\n",
      "Epoch 15/100\n",
      "1638/1638 [==============================] - 5s 3ms/sample - loss: 0.3298 - accuracy: 0.8913 - val_loss: 1.5615 - val_accuracy: 0.6244\n",
      "Epoch 16/100\n",
      "1638/1638 [==============================] - 5s 3ms/sample - loss: 0.2591 - accuracy: 0.9084 - val_loss: 1.4706 - val_accuracy: 0.6585\n",
      "Epoch 17/100\n",
      "1638/1638 [==============================] - 5s 3ms/sample - loss: 0.1889 - accuracy: 0.9396 - val_loss: 2.3229 - val_accuracy: 0.5268\n",
      "Epoch 18/100\n",
      "1638/1638 [==============================] - 5s 3ms/sample - loss: 0.1930 - accuracy: 0.9408 - val_loss: 1.6844 - val_accuracy: 0.6415\n",
      "Epoch 19/100\n",
      "1638/1638 [==============================] - 5s 3ms/sample - loss: 0.1263 - accuracy: 0.9591 - val_loss: 1.8065 - val_accuracy: 0.6439\n",
      "Epoch 20/100\n",
      "1638/1638 [==============================] - 5s 3ms/sample - loss: 0.1128 - accuracy: 0.9646 - val_loss: 1.9753 - val_accuracy: 0.6220\n"
     ]
    }
   ],
   "source": [
    "tensorboard_cb = tf.keras.callbacks.TensorBoard(run_log_dir)\n",
    "history = model.fit([X_train_scaled_reshaped, X_train_letter_one_hot], y_train.values, epochs=100, \n",
    "                   validation_split=.2,\n",
    "                   callbacks=[checkpoint_cb, earlystopping_cb, tensorboard_cb])"
   ]
  },
  {
   "cell_type": "code",
   "execution_count": 122,
   "metadata": {},
   "outputs": [],
   "source": [
    "test_set = pd.read_csv('dacon computer vision digit/test.csv')"
   ]
  },
  {
   "cell_type": "code",
   "execution_count": 123,
   "metadata": {},
   "outputs": [
    {
     "data": {
      "text/html": [
       "<div>\n",
       "<style scoped>\n",
       "    .dataframe tbody tr th:only-of-type {\n",
       "        vertical-align: middle;\n",
       "    }\n",
       "\n",
       "    .dataframe tbody tr th {\n",
       "        vertical-align: top;\n",
       "    }\n",
       "\n",
       "    .dataframe thead th {\n",
       "        text-align: right;\n",
       "    }\n",
       "</style>\n",
       "<table border=\"1\" class=\"dataframe\">\n",
       "  <thead>\n",
       "    <tr style=\"text-align: right;\">\n",
       "      <th></th>\n",
       "      <th>id</th>\n",
       "      <th>letter</th>\n",
       "      <th>0</th>\n",
       "      <th>1</th>\n",
       "      <th>2</th>\n",
       "      <th>3</th>\n",
       "      <th>4</th>\n",
       "      <th>5</th>\n",
       "      <th>6</th>\n",
       "      <th>7</th>\n",
       "      <th>...</th>\n",
       "      <th>774</th>\n",
       "      <th>775</th>\n",
       "      <th>776</th>\n",
       "      <th>777</th>\n",
       "      <th>778</th>\n",
       "      <th>779</th>\n",
       "      <th>780</th>\n",
       "      <th>781</th>\n",
       "      <th>782</th>\n",
       "      <th>783</th>\n",
       "    </tr>\n",
       "  </thead>\n",
       "  <tbody>\n",
       "    <tr>\n",
       "      <th>0</th>\n",
       "      <td>2049</td>\n",
       "      <td>L</td>\n",
       "      <td>0</td>\n",
       "      <td>4</td>\n",
       "      <td>0</td>\n",
       "      <td>2</td>\n",
       "      <td>4</td>\n",
       "      <td>2</td>\n",
       "      <td>3</td>\n",
       "      <td>1</td>\n",
       "      <td>...</td>\n",
       "      <td>2</td>\n",
       "      <td>0</td>\n",
       "      <td>4</td>\n",
       "      <td>2</td>\n",
       "      <td>2</td>\n",
       "      <td>4</td>\n",
       "      <td>3</td>\n",
       "      <td>4</td>\n",
       "      <td>1</td>\n",
       "      <td>4</td>\n",
       "    </tr>\n",
       "    <tr>\n",
       "      <th>1</th>\n",
       "      <td>2050</td>\n",
       "      <td>C</td>\n",
       "      <td>4</td>\n",
       "      <td>1</td>\n",
       "      <td>4</td>\n",
       "      <td>0</td>\n",
       "      <td>1</td>\n",
       "      <td>1</td>\n",
       "      <td>0</td>\n",
       "      <td>2</td>\n",
       "      <td>...</td>\n",
       "      <td>0</td>\n",
       "      <td>3</td>\n",
       "      <td>2</td>\n",
       "      <td>4</td>\n",
       "      <td>2</td>\n",
       "      <td>4</td>\n",
       "      <td>2</td>\n",
       "      <td>2</td>\n",
       "      <td>1</td>\n",
       "      <td>2</td>\n",
       "    </tr>\n",
       "    <tr>\n",
       "      <th>2</th>\n",
       "      <td>2051</td>\n",
       "      <td>S</td>\n",
       "      <td>0</td>\n",
       "      <td>4</td>\n",
       "      <td>0</td>\n",
       "      <td>1</td>\n",
       "      <td>3</td>\n",
       "      <td>2</td>\n",
       "      <td>3</td>\n",
       "      <td>0</td>\n",
       "      <td>...</td>\n",
       "      <td>1</td>\n",
       "      <td>3</td>\n",
       "      <td>2</td>\n",
       "      <td>0</td>\n",
       "      <td>3</td>\n",
       "      <td>2</td>\n",
       "      <td>3</td>\n",
       "      <td>0</td>\n",
       "      <td>1</td>\n",
       "      <td>4</td>\n",
       "    </tr>\n",
       "    <tr>\n",
       "      <th>3</th>\n",
       "      <td>2052</td>\n",
       "      <td>K</td>\n",
       "      <td>2</td>\n",
       "      <td>1</td>\n",
       "      <td>3</td>\n",
       "      <td>3</td>\n",
       "      <td>3</td>\n",
       "      <td>4</td>\n",
       "      <td>3</td>\n",
       "      <td>0</td>\n",
       "      <td>...</td>\n",
       "      <td>3</td>\n",
       "      <td>0</td>\n",
       "      <td>3</td>\n",
       "      <td>2</td>\n",
       "      <td>4</td>\n",
       "      <td>1</td>\n",
       "      <td>0</td>\n",
       "      <td>4</td>\n",
       "      <td>4</td>\n",
       "      <td>4</td>\n",
       "    </tr>\n",
       "    <tr>\n",
       "      <th>4</th>\n",
       "      <td>2053</td>\n",
       "      <td>W</td>\n",
       "      <td>1</td>\n",
       "      <td>0</td>\n",
       "      <td>1</td>\n",
       "      <td>1</td>\n",
       "      <td>2</td>\n",
       "      <td>2</td>\n",
       "      <td>1</td>\n",
       "      <td>4</td>\n",
       "      <td>...</td>\n",
       "      <td>4</td>\n",
       "      <td>3</td>\n",
       "      <td>1</td>\n",
       "      <td>4</td>\n",
       "      <td>0</td>\n",
       "      <td>2</td>\n",
       "      <td>1</td>\n",
       "      <td>2</td>\n",
       "      <td>3</td>\n",
       "      <td>4</td>\n",
       "    </tr>\n",
       "    <tr>\n",
       "      <th>...</th>\n",
       "      <td>...</td>\n",
       "      <td>...</td>\n",
       "      <td>...</td>\n",
       "      <td>...</td>\n",
       "      <td>...</td>\n",
       "      <td>...</td>\n",
       "      <td>...</td>\n",
       "      <td>...</td>\n",
       "      <td>...</td>\n",
       "      <td>...</td>\n",
       "      <td>...</td>\n",
       "      <td>...</td>\n",
       "      <td>...</td>\n",
       "      <td>...</td>\n",
       "      <td>...</td>\n",
       "      <td>...</td>\n",
       "      <td>...</td>\n",
       "      <td>...</td>\n",
       "      <td>...</td>\n",
       "      <td>...</td>\n",
       "      <td>...</td>\n",
       "    </tr>\n",
       "    <tr>\n",
       "      <th>20475</th>\n",
       "      <td>22524</td>\n",
       "      <td>P</td>\n",
       "      <td>1</td>\n",
       "      <td>2</td>\n",
       "      <td>1</td>\n",
       "      <td>1</td>\n",
       "      <td>0</td>\n",
       "      <td>0</td>\n",
       "      <td>0</td>\n",
       "      <td>2</td>\n",
       "      <td>...</td>\n",
       "      <td>0</td>\n",
       "      <td>1</td>\n",
       "      <td>3</td>\n",
       "      <td>0</td>\n",
       "      <td>3</td>\n",
       "      <td>0</td>\n",
       "      <td>4</td>\n",
       "      <td>3</td>\n",
       "      <td>1</td>\n",
       "      <td>4</td>\n",
       "    </tr>\n",
       "    <tr>\n",
       "      <th>20476</th>\n",
       "      <td>22525</td>\n",
       "      <td>S</td>\n",
       "      <td>4</td>\n",
       "      <td>1</td>\n",
       "      <td>1</td>\n",
       "      <td>4</td>\n",
       "      <td>0</td>\n",
       "      <td>0</td>\n",
       "      <td>1</td>\n",
       "      <td>1</td>\n",
       "      <td>...</td>\n",
       "      <td>1</td>\n",
       "      <td>3</td>\n",
       "      <td>1</td>\n",
       "      <td>0</td>\n",
       "      <td>0</td>\n",
       "      <td>1</td>\n",
       "      <td>3</td>\n",
       "      <td>1</td>\n",
       "      <td>2</td>\n",
       "      <td>0</td>\n",
       "    </tr>\n",
       "    <tr>\n",
       "      <th>20477</th>\n",
       "      <td>22526</td>\n",
       "      <td>B</td>\n",
       "      <td>4</td>\n",
       "      <td>2</td>\n",
       "      <td>1</td>\n",
       "      <td>3</td>\n",
       "      <td>2</td>\n",
       "      <td>1</td>\n",
       "      <td>3</td>\n",
       "      <td>0</td>\n",
       "      <td>...</td>\n",
       "      <td>3</td>\n",
       "      <td>2</td>\n",
       "      <td>3</td>\n",
       "      <td>4</td>\n",
       "      <td>1</td>\n",
       "      <td>0</td>\n",
       "      <td>3</td>\n",
       "      <td>3</td>\n",
       "      <td>1</td>\n",
       "      <td>1</td>\n",
       "    </tr>\n",
       "    <tr>\n",
       "      <th>20478</th>\n",
       "      <td>22527</td>\n",
       "      <td>K</td>\n",
       "      <td>1</td>\n",
       "      <td>1</td>\n",
       "      <td>2</td>\n",
       "      <td>3</td>\n",
       "      <td>4</td>\n",
       "      <td>0</td>\n",
       "      <td>4</td>\n",
       "      <td>3</td>\n",
       "      <td>...</td>\n",
       "      <td>2</td>\n",
       "      <td>0</td>\n",
       "      <td>0</td>\n",
       "      <td>4</td>\n",
       "      <td>3</td>\n",
       "      <td>3</td>\n",
       "      <td>3</td>\n",
       "      <td>4</td>\n",
       "      <td>4</td>\n",
       "      <td>2</td>\n",
       "    </tr>\n",
       "    <tr>\n",
       "      <th>20479</th>\n",
       "      <td>22528</td>\n",
       "      <td>S</td>\n",
       "      <td>2</td>\n",
       "      <td>1</td>\n",
       "      <td>0</td>\n",
       "      <td>3</td>\n",
       "      <td>0</td>\n",
       "      <td>3</td>\n",
       "      <td>3</td>\n",
       "      <td>1</td>\n",
       "      <td>...</td>\n",
       "      <td>0</td>\n",
       "      <td>3</td>\n",
       "      <td>0</td>\n",
       "      <td>1</td>\n",
       "      <td>4</td>\n",
       "      <td>2</td>\n",
       "      <td>0</td>\n",
       "      <td>2</td>\n",
       "      <td>2</td>\n",
       "      <td>0</td>\n",
       "    </tr>\n",
       "  </tbody>\n",
       "</table>\n",
       "<p>20480 rows × 786 columns</p>\n",
       "</div>"
      ],
      "text/plain": [
       "          id letter  0  1  2  3  4  5  6  7  ...  774  775  776  777  778  \\\n",
       "0       2049      L  0  4  0  2  4  2  3  1  ...    2    0    4    2    2   \n",
       "1       2050      C  4  1  4  0  1  1  0  2  ...    0    3    2    4    2   \n",
       "2       2051      S  0  4  0  1  3  2  3  0  ...    1    3    2    0    3   \n",
       "3       2052      K  2  1  3  3  3  4  3  0  ...    3    0    3    2    4   \n",
       "4       2053      W  1  0  1  1  2  2  1  4  ...    4    3    1    4    0   \n",
       "...      ...    ... .. .. .. .. .. .. .. ..  ...  ...  ...  ...  ...  ...   \n",
       "20475  22524      P  1  2  1  1  0  0  0  2  ...    0    1    3    0    3   \n",
       "20476  22525      S  4  1  1  4  0  0  1  1  ...    1    3    1    0    0   \n",
       "20477  22526      B  4  2  1  3  2  1  3  0  ...    3    2    3    4    1   \n",
       "20478  22527      K  1  1  2  3  4  0  4  3  ...    2    0    0    4    3   \n",
       "20479  22528      S  2  1  0  3  0  3  3  1  ...    0    3    0    1    4   \n",
       "\n",
       "       779  780  781  782  783  \n",
       "0        4    3    4    1    4  \n",
       "1        4    2    2    1    2  \n",
       "2        2    3    0    1    4  \n",
       "3        1    0    4    4    4  \n",
       "4        2    1    2    3    4  \n",
       "...    ...  ...  ...  ...  ...  \n",
       "20475    0    4    3    1    4  \n",
       "20476    1    3    1    2    0  \n",
       "20477    0    3    3    1    1  \n",
       "20478    3    3    4    4    2  \n",
       "20479    2    0    2    2    0  \n",
       "\n",
       "[20480 rows x 786 columns]"
      ]
     },
     "execution_count": 123,
     "metadata": {},
     "output_type": "execute_result"
    }
   ],
   "source": [
    "test_set"
   ]
  },
  {
   "cell_type": "code",
   "execution_count": 127,
   "metadata": {},
   "outputs": [],
   "source": [
    "X_test_letter = test_set[test_set.columns[1]]\n",
    "X_test_pixel = test_set[test_set.columns[2:]]\n"
   ]
  },
  {
   "cell_type": "code",
   "execution_count": 130,
   "metadata": {},
   "outputs": [],
   "source": [
    "X_test_std = std_scaler.transform(X_test_pixel.values)\n",
    "X_test_letter_one_hot = one_hot.transform(X_test_letter.values.reshape(-1,1))"
   ]
  },
  {
   "cell_type": "code",
   "execution_count": 134,
   "metadata": {},
   "outputs": [
    {
     "data": {
      "text/plain": [
       "(20480, 28, 28, 1)"
      ]
     },
     "execution_count": 134,
     "metadata": {},
     "output_type": "execute_result"
    }
   ],
   "source": [
    "X_test_std_reshape = X_test_std.reshape(-1,28,28,1)\n",
    "X_test_std_reshape.shape"
   ]
  },
  {
   "cell_type": "code",
   "execution_count": 135,
   "metadata": {},
   "outputs": [
    {
     "data": {
      "text/plain": [
       "(20480, 26)"
      ]
     },
     "execution_count": 135,
     "metadata": {},
     "output_type": "execute_result"
    }
   ],
   "source": [
    "X_test_letter_one_hot.shape"
   ]
  },
  {
   "cell_type": "code",
   "execution_count": 136,
   "metadata": {},
   "outputs": [
    {
     "name": "stdout",
     "output_type": "stream",
     "text": [
      "WARNING:tensorflow:Falling back from v2 loop because of error: Failed to find data adapter that can handle input: (<class 'list'> containing values of types {\"<class 'numpy.ndarray'>\", \"<class 'scipy.sparse.csr.csr_matrix'>\"}), <class 'NoneType'>\n"
     ]
    }
   ],
   "source": [
    "y_pred = model.predict([X_test_std_reshape,X_test_letter_one_hot])"
   ]
  },
  {
   "cell_type": "code",
   "execution_count": 138,
   "metadata": {},
   "outputs": [],
   "source": [
    "y_pred_class = y_pred.argmax(axis=1)"
   ]
  },
  {
   "cell_type": "code",
   "execution_count": 139,
   "metadata": {},
   "outputs": [
    {
     "data": {
      "text/plain": [
       "array([8, 8, 8, ..., 8, 3, 8])"
      ]
     },
     "execution_count": 139,
     "metadata": {},
     "output_type": "execute_result"
    }
   ],
   "source": [
    "y_pred_class"
   ]
  },
  {
   "cell_type": "code",
   "execution_count": 125,
   "metadata": {},
   "outputs": [],
   "source": [
    "sample_submission = pd.read_csv('dacon computer vision digit/submission.csv')"
   ]
  },
  {
   "cell_type": "code",
   "execution_count": 140,
   "metadata": {},
   "outputs": [],
   "source": [
    "sample_submission['digit'] = y_pred_class"
   ]
  },
  {
   "cell_type": "code",
   "execution_count": 141,
   "metadata": {},
   "outputs": [
    {
     "data": {
      "text/html": [
       "<div>\n",
       "<style scoped>\n",
       "    .dataframe tbody tr th:only-of-type {\n",
       "        vertical-align: middle;\n",
       "    }\n",
       "\n",
       "    .dataframe tbody tr th {\n",
       "        vertical-align: top;\n",
       "    }\n",
       "\n",
       "    .dataframe thead th {\n",
       "        text-align: right;\n",
       "    }\n",
       "</style>\n",
       "<table border=\"1\" class=\"dataframe\">\n",
       "  <thead>\n",
       "    <tr style=\"text-align: right;\">\n",
       "      <th></th>\n",
       "      <th>id</th>\n",
       "      <th>digit</th>\n",
       "    </tr>\n",
       "  </thead>\n",
       "  <tbody>\n",
       "    <tr>\n",
       "      <th>0</th>\n",
       "      <td>2049</td>\n",
       "      <td>8</td>\n",
       "    </tr>\n",
       "    <tr>\n",
       "      <th>1</th>\n",
       "      <td>2050</td>\n",
       "      <td>8</td>\n",
       "    </tr>\n",
       "    <tr>\n",
       "      <th>2</th>\n",
       "      <td>2051</td>\n",
       "      <td>8</td>\n",
       "    </tr>\n",
       "    <tr>\n",
       "      <th>3</th>\n",
       "      <td>2052</td>\n",
       "      <td>2</td>\n",
       "    </tr>\n",
       "    <tr>\n",
       "      <th>4</th>\n",
       "      <td>2053</td>\n",
       "      <td>3</td>\n",
       "    </tr>\n",
       "    <tr>\n",
       "      <th>...</th>\n",
       "      <td>...</td>\n",
       "      <td>...</td>\n",
       "    </tr>\n",
       "    <tr>\n",
       "      <th>20475</th>\n",
       "      <td>22524</td>\n",
       "      <td>8</td>\n",
       "    </tr>\n",
       "    <tr>\n",
       "      <th>20476</th>\n",
       "      <td>22525</td>\n",
       "      <td>8</td>\n",
       "    </tr>\n",
       "    <tr>\n",
       "      <th>20477</th>\n",
       "      <td>22526</td>\n",
       "      <td>8</td>\n",
       "    </tr>\n",
       "    <tr>\n",
       "      <th>20478</th>\n",
       "      <td>22527</td>\n",
       "      <td>3</td>\n",
       "    </tr>\n",
       "    <tr>\n",
       "      <th>20479</th>\n",
       "      <td>22528</td>\n",
       "      <td>8</td>\n",
       "    </tr>\n",
       "  </tbody>\n",
       "</table>\n",
       "<p>20480 rows × 2 columns</p>\n",
       "</div>"
      ],
      "text/plain": [
       "          id  digit\n",
       "0       2049      8\n",
       "1       2050      8\n",
       "2       2051      8\n",
       "3       2052      2\n",
       "4       2053      3\n",
       "...      ...    ...\n",
       "20475  22524      8\n",
       "20476  22525      8\n",
       "20477  22526      8\n",
       "20478  22527      3\n",
       "20479  22528      8\n",
       "\n",
       "[20480 rows x 2 columns]"
      ]
     },
     "execution_count": 141,
     "metadata": {},
     "output_type": "execute_result"
    }
   ],
   "source": [
    "sample_submission"
   ]
  },
  {
   "cell_type": "code",
   "execution_count": 145,
   "metadata": {},
   "outputs": [],
   "source": [
    "sample_submission.to_csv('test_2_input_layers.csv', index=False)"
   ]
  },
  {
   "cell_type": "code",
   "execution_count": 147,
   "metadata": {},
   "outputs": [
    {
     "data": {
      "text/plain": [
       "<matplotlib.image.AxesImage at 0x7fa22ed940d0>"
      ]
     },
     "execution_count": 147,
     "metadata": {},
     "output_type": "execute_result"
    },
    {
     "data": {
      "image/png": "[encoded data removed]",
      "text/plain": [
       "<Figure size 432x288 with 1 Axes>"
      ]
     },
     "metadata": {
      "needs_background": "light"
     },
     "output_type": "display_data"
    }
   ],
   "source": [
    "plt.imshow(X_test_std_reshape[0,:,:,0])"
   ]
  },
  {
   "cell_type": "code",
   "execution_count": 233,
   "metadata": {},
   "outputs": [],
   "source": [
    "X_train_pixel_numpy_reshape = X_train_pixel.values.reshape(-1,28,28)"
   ]
  },
  {
   "cell_type": "code",
   "execution_count": 234,
   "metadata": {},
   "outputs": [
    {
     "data": {
      "text/plain": [
       "(2048, 28, 28)"
      ]
     },
     "execution_count": 234,
     "metadata": {},
     "output_type": "execute_result"
    }
   ],
   "source": [
    "X_train_pixel_numpy_reshape.shape"
   ]
  },
  {
   "cell_type": "code",
   "execution_count": 235,
   "metadata": {},
   "outputs": [],
   "source": [
    "X_mean = X_train_pixel_numpy_reshape.mean(axis=0, keepdims=True)\n",
    "X_std = X_train_pixel_numpy_reshape.std(axis=0, keepdims=True) + 1e-7\n",
    "X_train_pixel_numpy_reshape = (X_train_pixel_numpy_reshape - X_mean) / X_std"
   ]
  },
  {
   "cell_type": "code",
   "execution_count": 236,
   "metadata": {},
   "outputs": [
    {
     "data": {
      "text/plain": [
       "(2048, 28, 28, 1)"
      ]
     },
     "execution_count": 236,
     "metadata": {},
     "output_type": "execute_result"
    }
   ],
   "source": [
    "X_train_pixel_numpy_reshape = X_train_pixel_numpy_reshape[..., np.newaxis]\n",
    "X_train_pixel_numpy_reshape.shape"
   ]
  },
  {
   "cell_type": "code",
   "execution_count": 273,
   "metadata": {},
   "outputs": [],
   "source": [
    "input_image = tf.keras.layers.Input(shape=[28, 28, 1], name = 'image_input')\n",
    "input_letter = tf.keras.layers.Input(shape=[26], name = 'letter_input')\n",
    "convolution_conv2d_1 = tf.keras.layers.Conv2D(64, 7, activation='relu', padding='same')(input_image)\n",
    "convolution_max_pool_2d_1 = tf.keras.layers.MaxPool2D(2)(input_image)\n",
    "convolution_conv2d_2 = tf.keras.layers.Conv2D(128, 3, activation='relu', padding='same')(convolution_max_pool_2d_1)\n",
    "convolution_conv2d_3 = tf.keras.layers.Conv2D(128, 3, activation='relu', padding='same')(convolution_conv2d_2)\n",
    "convolution_max_pool_2d_2 = tf.keras.layers.MaxPool2D(2)(convolution_conv2d_3)\n",
    "convolution_conv2d_4 = tf.keras.layers.Conv2D(256, 3, activation='relu', padding='same')(convolution_max_pool_2d_2)\n",
    "convolution_conv2d_5 = tf.keras.layers.Conv2D(256, 3, activation='relu', padding='same')(convolution_conv2d_4)\n",
    "convolution_max_pool_2d_3 = tf.keras.layers.MaxPool2D(2)(convolution_conv2d_5)\n",
    "image_after_convolution = tf.keras.layers.Flatten()(convolution_max_pool_2d_3)\n",
    "concat_layer = tf.keras.layers.Concatenate()([image_after_convolution, input_letter])\n",
    "hidden_layer1 = tf.keras.layers.Dense(128, activation='relu')(concat_layer)\n",
    "dropout_1 = tf.keras.layers.Dropout(.3)(hidden_layer1)\n",
    "hidden_layer2 = tf.keras.layers.Dense(64, activation='relu')(dropout_1)\n",
    "dropout_2 = tf.keras.layers.Dropout(.3)(hidden_layer2)\n",
    "output = tf.keras.layers.Dense(10, activation='softmax', name='digit_output')(dropout_2)\n",
    "hidden_layer_sub_output_1 = tf.keras.layers.Dense(128, activation='relu')(image_after_convolution)\n",
    "dropout_sub_output_1 = tf.keras.layers.Dropout(.4)(hidden_layer_sub_output_1)\n",
    "hidden_layer_sub_output_2 = tf.keras.layers.Dense(64, activation='relu')(dropout_sub_output_1)\n",
    "dropout_sub_output_2 = tf.keras.layers.Dropout(.4)(hidden_layer_sub_output_2)\n",
    "sub_output = tf.keras.layers.Dense(26, name='letter_output', activation='softmax')(dropout_sub_output_2)"
   ]
  },
  {
   "cell_type": "code",
   "execution_count": 274,
   "metadata": {},
   "outputs": [],
   "source": [
    "model = tf.keras.Model(inputs=[input_image, input_letter], outputs=[output,sub_output])"
   ]
  },
  {
   "cell_type": "code",
   "execution_count": 275,
   "metadata": {},
   "outputs": [
    {
     "data": {
      "image/png": "[encoded data removed]",
      "text/plain": [
       "<IPython.core.display.Image object>"
      ]
     },
     "execution_count": 275,
     "metadata": {},
     "output_type": "execute_result"
    }
   ],
   "source": [
    "tf.keras.utils.plot_model(model, show_shapes=True)"
   ]
  },
  {
   "cell_type": "code",
   "execution_count": 276,
   "metadata": {},
   "outputs": [],
   "source": [
    "model.compile(loss=['sparse_categorical_crossentropy','categorical_crossentropy'],\n",
    "             optimizer='adam',\n",
    "              loss_weights=[.85, .15],\n",
    "             metrics=['accuracy'])"
   ]
  },
  {
   "cell_type": "code",
   "execution_count": 277,
   "metadata": {},
   "outputs": [],
   "source": [
    "checkpoint_cb = tf.keras.callbacks.ModelCheckpoint('emnist_cnn_input2_output2__minmax_checkpoint__dropout_4.h5', save_best_only=True)\n",
    "earlystopping_cb = tf.keras.callbacks.EarlyStopping(patience=10, restore_best_weights=True)"
   ]
  },
  {
   "cell_type": "code",
   "execution_count": 278,
   "metadata": {},
   "outputs": [],
   "source": [
    "run_log_dir = get_run_logdir('cnn_input2_output2_mminmax_emnist__dropout_4')"
   ]
  },
  {
   "cell_type": "code",
   "execution_count": 279,
   "metadata": {
    "scrolled": true
   },
   "outputs": [
    {
     "name": "stdout",
     "output_type": "stream",
     "text": [
      "Train on 1638 samples, validate on 410 samples\n",
      "Epoch 1/100\n",
      "1638/1638 [==============================] - 5s 3ms/sample - loss: 2.4488 - digit_output_loss: 2.3055 - letter_output_loss: 3.2609 - digit_output_accuracy: 0.1129 - letter_output_accuracy: 0.0360 - val_loss: 2.4502 - val_digit_output_loss: 2.3076 - val_letter_output_loss: 3.2575 - val_digit_output_accuracy: 0.0756 - val_letter_output_accuracy: 0.0439\n",
      "Epoch 2/100\n",
      "1638/1638 [==============================] - 4s 3ms/sample - loss: 2.4416 - digit_output_loss: 2.2970 - letter_output_loss: 3.2570 - digit_output_accuracy: 0.1300 - letter_output_accuracy: 0.0421 - val_loss: 2.4498 - val_digit_output_loss: 2.3072 - val_letter_output_loss: 3.2578 - val_digit_output_accuracy: 0.0756 - val_letter_output_accuracy: 0.0439\n",
      "Epoch 3/100\n",
      "1638/1638 [==============================] - 4s 3ms/sample - loss: 2.4298 - digit_output_loss: 2.2856 - letter_output_loss: 3.2527 - digit_output_accuracy: 0.1270 - letter_output_accuracy: 0.0470 - val_loss: 2.4111 - val_digit_output_loss: 2.2634 - val_letter_output_loss: 3.2462 - val_digit_output_accuracy: 0.1195 - val_letter_output_accuracy: 0.0439\n",
      "Epoch 4/100\n",
      "1638/1638 [==============================] - 4s 3ms/sample - loss: 2.2948 - digit_output_loss: 2.1357 - letter_output_loss: 3.2328 - digit_output_accuracy: 0.2143 - letter_output_accuracy: 0.0611 - val_loss: 2.1749 - val_digit_output_loss: 1.9904 - val_letter_output_loss: 3.2075 - val_digit_output_accuracy: 0.2659 - val_letter_output_accuracy: 0.0634\n",
      "Epoch 5/100\n",
      "1638/1638 [==============================] - 4s 3ms/sample - loss: 2.1185 - digit_output_loss: 1.9450 - letter_output_loss: 3.2068 - digit_output_accuracy: 0.3126 - letter_output_accuracy: 0.0757 - val_loss: 1.9613 - val_digit_output_loss: 1.7591 - val_letter_output_loss: 3.0963 - val_digit_output_accuracy: 0.3634 - val_letter_output_accuracy: 0.0951\n",
      "Epoch 6/100\n",
      "1638/1638 [==============================] - 4s 3ms/sample - loss: 1.9463 - digit_output_loss: 1.7273 - letter_output_loss: 3.1594 - digit_output_accuracy: 0.3938 - letter_output_accuracy: 0.0879 - val_loss: 1.8074 - val_digit_output_loss: 1.5868 - val_letter_output_loss: 3.0524 - val_digit_output_accuracy: 0.4366 - val_letter_output_accuracy: 0.0976\n",
      "Epoch 7/100\n",
      "1638/1638 [==============================] - 4s 3ms/sample - loss: 1.7918 - digit_output_loss: 1.5487 - letter_output_loss: 3.1397 - digit_output_accuracy: 0.4573 - letter_output_accuracy: 0.1044 - val_loss: 1.7343 - val_digit_output_loss: 1.4820 - val_letter_output_loss: 3.1505 - val_digit_output_accuracy: 0.4683 - val_letter_output_accuracy: 0.0707\n",
      "Epoch 8/100\n",
      "1638/1638 [==============================] - 4s 3ms/sample - loss: 1.6882 - digit_output_loss: 1.4304 - letter_output_loss: 3.0892 - digit_output_accuracy: 0.5012 - letter_output_accuracy: 0.1087 - val_loss: 1.5853 - val_digit_output_loss: 1.3172 - val_letter_output_loss: 3.0881 - val_digit_output_accuracy: 0.5610 - val_letter_output_accuracy: 0.0927\n",
      "Epoch 9/100\n",
      "1638/1638 [==============================] - 4s 3ms/sample - loss: 1.5411 - digit_output_loss: 1.2740 - letter_output_loss: 3.0727 - digit_output_accuracy: 0.5629 - letter_output_accuracy: 0.1032 - val_loss: 1.5694 - val_digit_output_loss: 1.3076 - val_letter_output_loss: 3.0484 - val_digit_output_accuracy: 0.5805 - val_letter_output_accuracy: 0.1512\n",
      "Epoch 10/100\n",
      "1638/1638 [==============================] - 4s 3ms/sample - loss: 1.4864 - digit_output_loss: 1.2170 - letter_output_loss: 3.0312 - digit_output_accuracy: 0.5910 - letter_output_accuracy: 0.1148 - val_loss: 1.4874 - val_digit_output_loss: 1.2274 - val_letter_output_loss: 2.9455 - val_digit_output_accuracy: 0.5927 - val_letter_output_accuracy: 0.1829\n",
      "Epoch 11/100\n",
      "1638/1638 [==============================] - 4s 3ms/sample - loss: 1.3201 - digit_output_loss: 1.0299 - letter_output_loss: 2.9513 - digit_output_accuracy: 0.6569 - letter_output_accuracy: 0.1404 - val_loss: 1.4385 - val_digit_output_loss: 1.1843 - val_letter_output_loss: 2.8669 - val_digit_output_accuracy: 0.6146 - val_letter_output_accuracy: 0.1902\n",
      "Epoch 12/100\n",
      "1638/1638 [==============================] - 4s 3ms/sample - loss: 1.2156 - digit_output_loss: 0.9338 - letter_output_loss: 2.8375 - digit_output_accuracy: 0.6838 - letter_output_accuracy: 0.1593 - val_loss: 1.3625 - val_digit_output_loss: 1.1210 - val_letter_output_loss: 2.7328 - val_digit_output_accuracy: 0.6220 - val_letter_output_accuracy: 0.1951\n",
      "Epoch 13/100\n",
      "1638/1638 [==============================] - 4s 3ms/sample - loss: 1.1199 - digit_output_loss: 0.8199 - letter_output_loss: 2.7929 - digit_output_accuracy: 0.7198 - letter_output_accuracy: 0.1593 - val_loss: 1.4098 - val_digit_output_loss: 1.1830 - val_letter_output_loss: 2.6771 - val_digit_output_accuracy: 0.6171 - val_letter_output_accuracy: 0.2317\n",
      "Epoch 14/100\n",
      "1638/1638 [==============================] - 4s 3ms/sample - loss: 1.0146 - digit_output_loss: 0.7202 - letter_output_loss: 2.6980 - digit_output_accuracy: 0.7521 - letter_output_accuracy: 0.1691 - val_loss: 1.3438 - val_digit_output_loss: 1.1201 - val_letter_output_loss: 2.6068 - val_digit_output_accuracy: 0.6293 - val_letter_output_accuracy: 0.2390\n",
      "Epoch 15/100\n",
      "1638/1638 [==============================] - 4s 3ms/sample - loss: 0.9206 - digit_output_loss: 0.6204 - letter_output_loss: 2.5983 - digit_output_accuracy: 0.7778 - letter_output_accuracy: 0.2143 - val_loss: 1.3571 - val_digit_output_loss: 1.1410 - val_letter_output_loss: 2.5882 - val_digit_output_accuracy: 0.6317 - val_letter_output_accuracy: 0.2439\n",
      "Epoch 16/100\n",
      "1638/1638 [==============================] - 4s 3ms/sample - loss: 0.8504 - digit_output_loss: 0.5580 - letter_output_loss: 2.4930 - digit_output_accuracy: 0.8095 - letter_output_accuracy: 0.2411 - val_loss: 1.4781 - val_digit_output_loss: 1.3195 - val_letter_output_loss: 2.3590 - val_digit_output_accuracy: 0.6220 - val_letter_output_accuracy: 0.2707\n",
      "Epoch 17/100\n",
      "1638/1638 [==============================] - 4s 3ms/sample - loss: 0.7635 - digit_output_loss: 0.4824 - letter_output_loss: 2.3864 - digit_output_accuracy: 0.8352 - letter_output_accuracy: 0.2674 - val_loss: 1.4743 - val_digit_output_loss: 1.3090 - val_letter_output_loss: 2.3991 - val_digit_output_accuracy: 0.6293 - val_letter_output_accuracy: 0.2805\n",
      "Epoch 18/100\n",
      "1638/1638 [==============================] - 4s 3ms/sample - loss: 0.6884 - digit_output_loss: 0.4057 - letter_output_loss: 2.3097 - digit_output_accuracy: 0.8578 - letter_output_accuracy: 0.2759 - val_loss: 1.5111 - val_digit_output_loss: 1.3740 - val_letter_output_loss: 2.2860 - val_digit_output_accuracy: 0.6341 - val_letter_output_accuracy: 0.3073\n",
      "Epoch 19/100\n",
      "1638/1638 [==============================] - 4s 3ms/sample - loss: 0.6192 - digit_output_loss: 0.3400 - letter_output_loss: 2.2091 - digit_output_accuracy: 0.8779 - letter_output_accuracy: 0.3156 - val_loss: 1.6163 - val_digit_output_loss: 1.5001 - val_letter_output_loss: 2.2475 - val_digit_output_accuracy: 0.6268 - val_letter_output_accuracy: 0.3293\n",
      "Epoch 20/100\n",
      "1638/1638 [==============================] - 4s 3ms/sample - loss: 0.6229 - digit_output_loss: 0.3540 - letter_output_loss: 2.1350 - digit_output_accuracy: 0.8700 - letter_output_accuracy: 0.3242 - val_loss: 1.5765 - val_digit_output_loss: 1.4708 - val_letter_output_loss: 2.1557 - val_digit_output_accuracy: 0.6195 - val_letter_output_accuracy: 0.3610\n",
      "Epoch 21/100\n",
      "1638/1638 [==============================] - 4s 3ms/sample - loss: 0.5184 - digit_output_loss: 0.2457 - letter_output_loss: 2.0508 - digit_output_accuracy: 0.9176 - letter_output_accuracy: 0.3645 - val_loss: 1.6713 - val_digit_output_loss: 1.5862 - val_letter_output_loss: 2.1468 - val_digit_output_accuracy: 0.6073 - val_letter_output_accuracy: 0.3537\n",
      "Epoch 22/100\n",
      "1638/1638 [==============================] - 4s 3ms/sample - loss: 0.4798 - digit_output_loss: 0.2126 - letter_output_loss: 1.9995 - digit_output_accuracy: 0.9298 - letter_output_accuracy: 0.3755 - val_loss: 1.6886 - val_digit_output_loss: 1.6147 - val_letter_output_loss: 2.1018 - val_digit_output_accuracy: 0.6293 - val_letter_output_accuracy: 0.3585\n",
      "Epoch 23/100\n",
      "1638/1638 [==============================] - 4s 3ms/sample - loss: 0.4452 - digit_output_loss: 0.2005 - letter_output_loss: 1.8924 - digit_output_accuracy: 0.9389 - letter_output_accuracy: 0.4096 - val_loss: 1.6388 - val_digit_output_loss: 1.5612 - val_letter_output_loss: 2.0722 - val_digit_output_accuracy: 0.6024 - val_letter_output_accuracy: 0.3659\n",
      "Epoch 24/100\n",
      "1638/1638 [==============================] - 4s 3ms/sample - loss: 0.4925 - digit_output_loss: 0.2407 - letter_output_loss: 1.8967 - digit_output_accuracy: 0.9194 - letter_output_accuracy: 0.3999 - val_loss: 1.6876 - val_digit_output_loss: 1.6307 - val_letter_output_loss: 2.0039 - val_digit_output_accuracy: 0.6220 - val_letter_output_accuracy: 0.4220\n"
     ]
    }
   ],
   "source": [
    "tensorboard_cb = tf.keras.callbacks.TensorBoard(run_log_dir)\n",
    "history = model.fit([X_train_scaled_reshaped, X_train_letter_one_hot], [y_train.values, X_train_letter_one_hot], epochs=100, \n",
    "                   validation_split=.2,\n",
    "                   callbacks=[checkpoint_cb, earlystopping_cb, tensorboard_cb])"
   ]
  },
  {
   "cell_type": "code",
   "execution_count": 280,
   "metadata": {},
   "outputs": [
    {
     "data": {
      "image/png": "[encoded data removed]",
      "text/plain": [
       "<Figure size 576x360 with 1 Axes>"
      ]
     },
     "metadata": {
      "needs_background": "light"
     },
     "output_type": "display_data"
    }
   ],
   "source": [
    "import pandas as pd\n",
    "\n",
    "pd.DataFrame(history.history['val_digit_output_accuracy']).plot(figsize=(8, 5))\n",
    "plt.grid(True)\n",
    "plt.gca().set_ylim(0, 1)\n",
    "plt.legend(loc='best')\n",
    "plt.show()\n"
   ]
  },
  {
   "cell_type": "code",
   "execution_count": 240,
   "metadata": {},
   "outputs": [],
   "source": [
    "X_test_pixel_numpy_reshape = X_test_pixel.values.reshape(-1,28,28)"
   ]
  },
  {
   "cell_type": "code",
   "execution_count": 241,
   "metadata": {},
   "outputs": [],
   "source": [
    "X_test_pixel_numpy_reshape = (X_test_pixel_numpy_reshape - X_mean) / X_std"
   ]
  },
  {
   "cell_type": "code",
   "execution_count": 242,
   "metadata": {},
   "outputs": [
    {
     "data": {
      "text/plain": [
       "(20480, 28, 28, 1)"
      ]
     },
     "execution_count": 242,
     "metadata": {},
     "output_type": "execute_result"
    }
   ],
   "source": [
    "X_test_pixel_numpy_reshape = X_test_pixel_numpy_reshape[..., np.newaxis]\n",
    "X_test_pixel_numpy_reshape.shape"
   ]
  },
  {
   "cell_type": "code",
   "execution_count": 281,
   "metadata": {},
   "outputs": [
    {
     "data": {
      "text/plain": [
       "(20480, 784)"
      ]
     },
     "execution_count": 281,
     "metadata": {},
     "output_type": "execute_result"
    }
   ],
   "source": [
    "X_test_pixel.shape"
   ]
  },
  {
   "cell_type": "code",
   "execution_count": 282,
   "metadata": {},
   "outputs": [],
   "source": [
    "X_test_pixel_scaled = min_max_scaler.transform(X_test_pixel)"
   ]
  },
  {
   "cell_type": "code",
   "execution_count": 283,
   "metadata": {},
   "outputs": [
    {
     "data": {
      "text/plain": [
       "(20480, 784)"
      ]
     },
     "execution_count": 283,
     "metadata": {},
     "output_type": "execute_result"
    }
   ],
   "source": [
    "X_test_pixel_scaled.shape"
   ]
  },
  {
   "cell_type": "code",
   "execution_count": 284,
   "metadata": {},
   "outputs": [],
   "source": [
    "X_test_pixel_scaled_reshape = X_test_pixel_scaled.reshape(-1,28,28,1)"
   ]
  },
  {
   "cell_type": "code",
   "execution_count": 286,
   "metadata": {},
   "outputs": [
    {
     "data": {
      "text/plain": [
       "(20480, 28, 28, 1)"
      ]
     },
     "execution_count": 286,
     "metadata": {},
     "output_type": "execute_result"
    }
   ],
   "source": [
    "X_test_pixel_scaled_reshape.shape"
   ]
  },
  {
   "cell_type": "code",
   "execution_count": null,
   "metadata": {},
   "outputs": [],
   "source": []
  },
  {
   "cell_type": "code",
   "execution_count": 287,
   "metadata": {},
   "outputs": [],
   "source": [
    "y_pred = model.predict([X_test_pixel_scaled_reshape,X_test_letter_one_hot.toarray()])"
   ]
  },
  {
   "cell_type": "code",
   "execution_count": 288,
   "metadata": {},
   "outputs": [],
   "source": [
    "y_pred_digit = y_pred[0]"
   ]
  },
  {
   "cell_type": "code",
   "execution_count": 289,
   "metadata": {},
   "outputs": [],
   "source": [
    "y_pred_letter = y_pred[1]"
   ]
  },
  {
   "cell_type": "code",
   "execution_count": 290,
   "metadata": {},
   "outputs": [],
   "source": [
    "y_pred_class = y_pred_digit.argmax(axis=1)"
   ]
  },
  {
   "cell_type": "code",
   "execution_count": 291,
   "metadata": {},
   "outputs": [
    {
     "data": {
      "text/plain": [
       "array([6, 8, 1, 0, 3])"
      ]
     },
     "execution_count": 291,
     "metadata": {},
     "output_type": "execute_result"
    }
   ],
   "source": [
    "y_pred_class[:5]"
   ]
  },
  {
   "cell_type": "code",
   "execution_count": 304,
   "metadata": {},
   "outputs": [
    {
     "data": {
      "text/plain": [
       "<matplotlib.image.AxesImage at 0x7fa1ae02f9d0>"
      ]
     },
     "execution_count": 304,
     "metadata": {},
     "output_type": "execute_result"
    },
    {
     "data": {
      "image/png": "[encoded data removed]",
      "text/plain": [
       "<Figure size 432x288 with 1 Axes>"
      ]
     },
     "metadata": {
      "needs_background": "light"
     },
     "output_type": "display_data"
    }
   ],
   "source": [
    "plt.imshow(X_test_pixel_scaled_reshape[3,:,:,0],cmap='gray')"
   ]
  },
  {
   "cell_type": "code",
   "execution_count": null,
   "metadata": {},
   "outputs": [],
   "source": []
  },
  {
   "cell_type": "code",
   "execution_count": null,
   "metadata": {},
   "outputs": [],
   "source": []
  },
  {
   "cell_type": "code",
   "execution_count": 294,
   "metadata": {},
   "outputs": [],
   "source": [
    "y_pred_letter = y_pred_letter.argmax(axis=1)"
   ]
  },
  {
   "cell_type": "code",
   "execution_count": 295,
   "metadata": {},
   "outputs": [
    {
     "data": {
      "text/plain": [
       "array([11,  2, 18, 17, 20])"
      ]
     },
     "execution_count": 295,
     "metadata": {},
     "output_type": "execute_result"
    }
   ],
   "source": [
    "y_pred_letter[:5]"
   ]
  },
  {
   "cell_type": "code",
   "execution_count": 296,
   "metadata": {},
   "outputs": [],
   "source": [
    "y_test_letter = X_test_letter_one_hot.toarray().argmax(axis=1)"
   ]
  },
  {
   "cell_type": "code",
   "execution_count": 297,
   "metadata": {},
   "outputs": [],
   "source": [
    "from sklearn.metrics import accuracy_score"
   ]
  },
  {
   "cell_type": "code",
   "execution_count": 298,
   "metadata": {},
   "outputs": [
    {
     "data": {
      "text/plain": [
       "0.228857421875"
      ]
     },
     "execution_count": 298,
     "metadata": {},
     "output_type": "execute_result"
    }
   ],
   "source": [
    "accuracy_score(y_test_letter, y_pred_letter)"
   ]
  },
  {
   "cell_type": "code",
   "execution_count": 305,
   "metadata": {},
   "outputs": [
    {
     "data": {
      "text/plain": [
       "array([[ 65,   7,  23,   1,   4,   3,   1,  59,   0,   6,   7,   5, 137,\n",
       "         82, 129,   0,  28,  29,  46,   0,  44,   0,  92,   3,   7,   2],\n",
       "       [ 19,  60,  15,  39,   6,   7,   0,  88,   0,  68,  20,  42,   3,\n",
       "         36,  88,   2,  28,   9, 146,   2,  34,   0,  76,   1,  12,   5],\n",
       "       [  3,  22, 300,   0,  11,   1,   0,   8,   1,   8,  23,   4,  19,\n",
       "         28, 143,   1,  16,  72,  52,   5,  14,   0,  16,   0,   7,   0],\n",
       "       [ 19,  20,  44,  66,   7,   0,   0,  95,   1,  91,  10,  64,   7,\n",
       "         24,  62,   0,   6,  18,  58,   4,  47,   0, 110,   1,  11,   2],\n",
       "       [ 28,  29, 123,   0,  26,   2,   1,  12,   0,   2,  38,   4,  46,\n",
       "         47, 158,   7,  35,  36, 111,   3,  29,   0,  15,   4,  14,   3],\n",
       "       [ 24,   1,  11,   2,   0,  85,   2,  26,   2,  10,  10, 131,  65,\n",
       "          4,  12, 147,  29, 169,   7,  46,   8,   1,  12,   5,  39,   2],\n",
       "       [ 35,  14,  35,   7,   4,  21,   3,  32,   5,  20,   6,  21,  38,\n",
       "         30, 149,   5,  74,  28,  96,  20,  29,   0,  30,   1,  61,   9],\n",
       "       [ 30,  43,   8,  30,   1,   8,   0, 111,   0,  66,  23,  93,  42,\n",
       "         49,  24,   2,   7,  16,  53,   0,  49,   0, 152,  12,  11,   1],\n",
       "       [  1,   2,   6,   2,   1,   5,   0,   4,  16,  40,   0, 494,   3,\n",
       "          2,   6,   1,   4,   7,  10,  36,   1,   0,   4,   2,  52,   2],\n",
       "       [  2,   4,  24,  37,   0,   6,   1,  20,  11, 208,   2, 122,  19,\n",
       "          2,  30,   3,  22,  25,  61,   8,  28,   0,  20,   2,  76,   1],\n",
       "       [ 20,  21,  26,   4,   6,   9,   1,  29,   0,  10,  71,  31, 104,\n",
       "        109,  36,  10,  11, 108,  35,   4,  12,   1, 100,  11,  37,   1],\n",
       "       [  1,  18,  18,   8,   4,   6,   0,   9,   8,  37,  11, 544,   2,\n",
       "          4,  28,   1,   5,  10,  32,  22,  15,   0,  12,   2,  23,   1],\n",
       "       [  7,   0,   5,   0,   0,   0,   0,   4,   0,   0,   5,   1, 594,\n",
       "         58,   8,   2,   1,  25,   2,   0,   8,   0, 100,   2,   3,   0],\n",
       "       [ 14,   6,  32,   2,   2,   1,   0,  11,   0,   2,  12,   9, 197,\n",
       "        141,  55,   3,   8,  90,  11,   0,  31,   0, 160,   1,   1,   2],\n",
       "       [ 24,  18, 149,   3,   7,   1,   0,  18,   0,   8,  12,   2,  25,\n",
       "         46, 267,   0,  12,  14,  42,   1,  43,   0,  37,   0,   3,   1],\n",
       "       [ 23,   1,   7,   0,   0,  52,   1,  10,   0,   0,   7,  35,  58,\n",
       "         12,  13, 211,  24, 271,   5,  41,   8,   0,  13,   2,  52,   0],\n",
       "       [ 39,   4,  51,   1,   7,  11,   2,   6,   3,   5,   4,  27,  57,\n",
       "         37, 136,  27,  79,  34,  41,  36,  30,   0,  17,   4,  80,  21],\n",
       "       [ 19,   5,   8,   1,   5,   5,   0,  14,   0,   3,  14,   8, 111,\n",
       "         39,  27,  11,  16, 413,   9,   9,   7,   0,  17,   1,  19,   1],\n",
       "       [  4,  17,  37,   8,   9,   5,   0,  51,   1,  67,   6,  23,   8,\n",
       "         15, 151,   7,  46,  14, 236,   4,  24,   0,  20,   3,  27,   5],\n",
       "       [ 10,   5,  10,   3,   0,  22,   1,  29,   5,  16,   7, 127,  48,\n",
       "         13,  10,  30,  14, 210,   8, 100,   2,   0,  11,   3, 119,   6],\n",
       "       [ 31,  18,  18,  28,   3,   0,   1,  37,   0,   4,  17,   8,  38,\n",
       "         58,  83,   1,   2,  14,  39,   0, 202,   0, 197,   2,   6,   1],\n",
       "       [ 20,  19,   2,  13,   1,   6,   5,  20,   0,  11,  31,  39, 107,\n",
       "         54,   9,  15,   3, 141,  17,   6,  67,   6, 143,   6,  32,   2],\n",
       "       [  3,   2,   2,  11,   0,   1,   0,   2,   0,   0,   1,   1,  60,\n",
       "         29,  11,   1,   1,   4,  12,   0,  36,   0, 567,   2,   0,   0],\n",
       "       [ 60,  20,  10,   4,   4,   9,   0,  65,   0,  19,  34,  46,  82,\n",
       "         79,  31,   4,  10,  70,  35,   8,  24,   0,  76,  35,  92,   3],\n",
       "       [ 10,   0,   2,   2,   0,  14,   1,  11,   0,   8,   5, 123,  65,\n",
       "         18,   6,  29,   9, 163,   4,  67,  10,   2,  19,  10, 268,   5],\n",
       "       [ 15,  32,  46,   7,  11,   3,   0,  41,   1,  47,  12,  23,  68,\n",
       "         48, 119,   1,  32,  19, 139,   0,  14,   0,  41,   8,  30,  13]])"
      ]
     },
     "execution_count": 305,
     "metadata": {},
     "output_type": "execute_result"
    }
   ],
   "source": [
    "from sklearn.metrics import confusion_matrix\n",
    "confusion_matrix(y_test_letter, y_pred_letter)"
   ]
  },
  {
   "cell_type": "code",
   "execution_count": 306,
   "metadata": {},
   "outputs": [],
   "source": [
    "sample_submission['digit'] = y_pred_class"
   ]
  },
  {
   "cell_type": "code",
   "execution_count": 307,
   "metadata": {},
   "outputs": [
    {
     "data": {
      "text/html": [
       "<div>\n",
       "<style scoped>\n",
       "    .dataframe tbody tr th:only-of-type {\n",
       "        vertical-align: middle;\n",
       "    }\n",
       "\n",
       "    .dataframe tbody tr th {\n",
       "        vertical-align: top;\n",
       "    }\n",
       "\n",
       "    .dataframe thead th {\n",
       "        text-align: right;\n",
       "    }\n",
       "</style>\n",
       "<table border=\"1\" class=\"dataframe\">\n",
       "  <thead>\n",
       "    <tr style=\"text-align: right;\">\n",
       "      <th></th>\n",
       "      <th>id</th>\n",
       "      <th>digit</th>\n",
       "    </tr>\n",
       "  </thead>\n",
       "  <tbody>\n",
       "    <tr>\n",
       "      <th>0</th>\n",
       "      <td>2049</td>\n",
       "      <td>6</td>\n",
       "    </tr>\n",
       "    <tr>\n",
       "      <th>1</th>\n",
       "      <td>2050</td>\n",
       "      <td>8</td>\n",
       "    </tr>\n",
       "    <tr>\n",
       "      <th>2</th>\n",
       "      <td>2051</td>\n",
       "      <td>1</td>\n",
       "    </tr>\n",
       "    <tr>\n",
       "      <th>3</th>\n",
       "      <td>2052</td>\n",
       "      <td>0</td>\n",
       "    </tr>\n",
       "    <tr>\n",
       "      <th>4</th>\n",
       "      <td>2053</td>\n",
       "      <td>3</td>\n",
       "    </tr>\n",
       "    <tr>\n",
       "      <th>...</th>\n",
       "      <td>...</td>\n",
       "      <td>...</td>\n",
       "    </tr>\n",
       "    <tr>\n",
       "      <th>20475</th>\n",
       "      <td>22524</td>\n",
       "      <td>4</td>\n",
       "    </tr>\n",
       "    <tr>\n",
       "      <th>20476</th>\n",
       "      <td>22525</td>\n",
       "      <td>1</td>\n",
       "    </tr>\n",
       "    <tr>\n",
       "      <th>20477</th>\n",
       "      <td>22526</td>\n",
       "      <td>6</td>\n",
       "    </tr>\n",
       "    <tr>\n",
       "      <th>20478</th>\n",
       "      <td>22527</td>\n",
       "      <td>1</td>\n",
       "    </tr>\n",
       "    <tr>\n",
       "      <th>20479</th>\n",
       "      <td>22528</td>\n",
       "      <td>6</td>\n",
       "    </tr>\n",
       "  </tbody>\n",
       "</table>\n",
       "<p>20480 rows × 2 columns</p>\n",
       "</div>"
      ],
      "text/plain": [
       "          id  digit\n",
       "0       2049      6\n",
       "1       2050      8\n",
       "2       2051      1\n",
       "3       2052      0\n",
       "4       2053      3\n",
       "...      ...    ...\n",
       "20475  22524      4\n",
       "20476  22525      1\n",
       "20477  22526      6\n",
       "20478  22527      1\n",
       "20479  22528      6\n",
       "\n",
       "[20480 rows x 2 columns]"
      ]
     },
     "execution_count": 307,
     "metadata": {},
     "output_type": "execute_result"
    }
   ],
   "source": [
    "sample_submission"
   ]
  },
  {
   "cell_type": "code",
   "execution_count": 308,
   "metadata": {},
   "outputs": [],
   "source": [
    "sample_submission.to_csv('test_2_input_output2_layers_with_min_max_scaler.csv', index=False)"
   ]
  },
  {
   "cell_type": "code",
   "execution_count": 258,
   "metadata": {},
   "outputs": [],
   "source": [
    "a_data = train_data[train_data['letter']=='A']"
   ]
  },
  {
   "cell_type": "code",
   "execution_count": 259,
   "metadata": {},
   "outputs": [
    {
     "data": {
      "text/html": [
       "<div>\n",
       "<style scoped>\n",
       "    .dataframe tbody tr th:only-of-type {\n",
       "        vertical-align: middle;\n",
       "    }\n",
       "\n",
       "    .dataframe tbody tr th {\n",
       "        vertical-align: top;\n",
       "    }\n",
       "\n",
       "    .dataframe thead th {\n",
       "        text-align: right;\n",
       "    }\n",
       "</style>\n",
       "<table border=\"1\" class=\"dataframe\">\n",
       "  <thead>\n",
       "    <tr style=\"text-align: right;\">\n",
       "      <th></th>\n",
       "      <th>id</th>\n",
       "      <th>digit</th>\n",
       "      <th>letter</th>\n",
       "      <th>0</th>\n",
       "      <th>1</th>\n",
       "      <th>2</th>\n",
       "      <th>3</th>\n",
       "      <th>4</th>\n",
       "      <th>5</th>\n",
       "      <th>6</th>\n",
       "      <th>...</th>\n",
       "      <th>774</th>\n",
       "      <th>775</th>\n",
       "      <th>776</th>\n",
       "      <th>777</th>\n",
       "      <th>778</th>\n",
       "      <th>779</th>\n",
       "      <th>780</th>\n",
       "      <th>781</th>\n",
       "      <th>782</th>\n",
       "      <th>783</th>\n",
       "    </tr>\n",
       "  </thead>\n",
       "  <tbody>\n",
       "    <tr>\n",
       "      <th>4</th>\n",
       "      <td>5</td>\n",
       "      <td>6</td>\n",
       "      <td>A</td>\n",
       "      <td>3</td>\n",
       "      <td>0</td>\n",
       "      <td>2</td>\n",
       "      <td>4</td>\n",
       "      <td>0</td>\n",
       "      <td>3</td>\n",
       "      <td>0</td>\n",
       "      <td>...</td>\n",
       "      <td>4</td>\n",
       "      <td>4</td>\n",
       "      <td>3</td>\n",
       "      <td>2</td>\n",
       "      <td>1</td>\n",
       "      <td>3</td>\n",
       "      <td>4</td>\n",
       "      <td>3</td>\n",
       "      <td>1</td>\n",
       "      <td>2</td>\n",
       "    </tr>\n",
       "    <tr>\n",
       "      <th>17</th>\n",
       "      <td>18</td>\n",
       "      <td>7</td>\n",
       "      <td>A</td>\n",
       "      <td>2</td>\n",
       "      <td>3</td>\n",
       "      <td>0</td>\n",
       "      <td>4</td>\n",
       "      <td>0</td>\n",
       "      <td>0</td>\n",
       "      <td>1</td>\n",
       "      <td>...</td>\n",
       "      <td>1</td>\n",
       "      <td>2</td>\n",
       "      <td>0</td>\n",
       "      <td>0</td>\n",
       "      <td>1</td>\n",
       "      <td>0</td>\n",
       "      <td>2</td>\n",
       "      <td>2</td>\n",
       "      <td>1</td>\n",
       "      <td>4</td>\n",
       "    </tr>\n",
       "    <tr>\n",
       "      <th>44</th>\n",
       "      <td>45</td>\n",
       "      <td>5</td>\n",
       "      <td>A</td>\n",
       "      <td>2</td>\n",
       "      <td>0</td>\n",
       "      <td>4</td>\n",
       "      <td>2</td>\n",
       "      <td>3</td>\n",
       "      <td>1</td>\n",
       "      <td>3</td>\n",
       "      <td>...</td>\n",
       "      <td>3</td>\n",
       "      <td>1</td>\n",
       "      <td>2</td>\n",
       "      <td>0</td>\n",
       "      <td>4</td>\n",
       "      <td>2</td>\n",
       "      <td>3</td>\n",
       "      <td>4</td>\n",
       "      <td>1</td>\n",
       "      <td>1</td>\n",
       "    </tr>\n",
       "    <tr>\n",
       "      <th>75</th>\n",
       "      <td>76</td>\n",
       "      <td>7</td>\n",
       "      <td>A</td>\n",
       "      <td>1</td>\n",
       "      <td>0</td>\n",
       "      <td>4</td>\n",
       "      <td>1</td>\n",
       "      <td>4</td>\n",
       "      <td>1</td>\n",
       "      <td>1</td>\n",
       "      <td>...</td>\n",
       "      <td>0</td>\n",
       "      <td>4</td>\n",
       "      <td>0</td>\n",
       "      <td>4</td>\n",
       "      <td>3</td>\n",
       "      <td>2</td>\n",
       "      <td>4</td>\n",
       "      <td>1</td>\n",
       "      <td>2</td>\n",
       "      <td>2</td>\n",
       "    </tr>\n",
       "    <tr>\n",
       "      <th>105</th>\n",
       "      <td>106</td>\n",
       "      <td>2</td>\n",
       "      <td>A</td>\n",
       "      <td>4</td>\n",
       "      <td>2</td>\n",
       "      <td>4</td>\n",
       "      <td>1</td>\n",
       "      <td>0</td>\n",
       "      <td>4</td>\n",
       "      <td>3</td>\n",
       "      <td>...</td>\n",
       "      <td>0</td>\n",
       "      <td>2</td>\n",
       "      <td>0</td>\n",
       "      <td>2</td>\n",
       "      <td>4</td>\n",
       "      <td>3</td>\n",
       "      <td>2</td>\n",
       "      <td>3</td>\n",
       "      <td>0</td>\n",
       "      <td>1</td>\n",
       "    </tr>\n",
       "    <tr>\n",
       "      <th>...</th>\n",
       "      <td>...</td>\n",
       "      <td>...</td>\n",
       "      <td>...</td>\n",
       "      <td>...</td>\n",
       "      <td>...</td>\n",
       "      <td>...</td>\n",
       "      <td>...</td>\n",
       "      <td>...</td>\n",
       "      <td>...</td>\n",
       "      <td>...</td>\n",
       "      <td>...</td>\n",
       "      <td>...</td>\n",
       "      <td>...</td>\n",
       "      <td>...</td>\n",
       "      <td>...</td>\n",
       "      <td>...</td>\n",
       "      <td>...</td>\n",
       "      <td>...</td>\n",
       "      <td>...</td>\n",
       "      <td>...</td>\n",
       "      <td>...</td>\n",
       "    </tr>\n",
       "    <tr>\n",
       "      <th>1964</th>\n",
       "      <td>1965</td>\n",
       "      <td>1</td>\n",
       "      <td>A</td>\n",
       "      <td>3</td>\n",
       "      <td>2</td>\n",
       "      <td>0</td>\n",
       "      <td>3</td>\n",
       "      <td>0</td>\n",
       "      <td>2</td>\n",
       "      <td>1</td>\n",
       "      <td>...</td>\n",
       "      <td>3</td>\n",
       "      <td>4</td>\n",
       "      <td>3</td>\n",
       "      <td>1</td>\n",
       "      <td>4</td>\n",
       "      <td>4</td>\n",
       "      <td>1</td>\n",
       "      <td>2</td>\n",
       "      <td>3</td>\n",
       "      <td>2</td>\n",
       "    </tr>\n",
       "    <tr>\n",
       "      <th>1967</th>\n",
       "      <td>1968</td>\n",
       "      <td>5</td>\n",
       "      <td>A</td>\n",
       "      <td>0</td>\n",
       "      <td>2</td>\n",
       "      <td>0</td>\n",
       "      <td>0</td>\n",
       "      <td>3</td>\n",
       "      <td>1</td>\n",
       "      <td>3</td>\n",
       "      <td>...</td>\n",
       "      <td>1</td>\n",
       "      <td>1</td>\n",
       "      <td>2</td>\n",
       "      <td>2</td>\n",
       "      <td>3</td>\n",
       "      <td>0</td>\n",
       "      <td>3</td>\n",
       "      <td>1</td>\n",
       "      <td>4</td>\n",
       "      <td>2</td>\n",
       "    </tr>\n",
       "    <tr>\n",
       "      <th>2010</th>\n",
       "      <td>2011</td>\n",
       "      <td>9</td>\n",
       "      <td>A</td>\n",
       "      <td>3</td>\n",
       "      <td>1</td>\n",
       "      <td>1</td>\n",
       "      <td>1</td>\n",
       "      <td>0</td>\n",
       "      <td>1</td>\n",
       "      <td>4</td>\n",
       "      <td>...</td>\n",
       "      <td>1</td>\n",
       "      <td>0</td>\n",
       "      <td>3</td>\n",
       "      <td>0</td>\n",
       "      <td>4</td>\n",
       "      <td>3</td>\n",
       "      <td>1</td>\n",
       "      <td>0</td>\n",
       "      <td>2</td>\n",
       "      <td>3</td>\n",
       "    </tr>\n",
       "    <tr>\n",
       "      <th>2011</th>\n",
       "      <td>2012</td>\n",
       "      <td>9</td>\n",
       "      <td>A</td>\n",
       "      <td>4</td>\n",
       "      <td>3</td>\n",
       "      <td>3</td>\n",
       "      <td>0</td>\n",
       "      <td>3</td>\n",
       "      <td>0</td>\n",
       "      <td>2</td>\n",
       "      <td>...</td>\n",
       "      <td>4</td>\n",
       "      <td>2</td>\n",
       "      <td>0</td>\n",
       "      <td>1</td>\n",
       "      <td>3</td>\n",
       "      <td>3</td>\n",
       "      <td>4</td>\n",
       "      <td>0</td>\n",
       "      <td>1</td>\n",
       "      <td>3</td>\n",
       "    </tr>\n",
       "    <tr>\n",
       "      <th>2045</th>\n",
       "      <td>2046</td>\n",
       "      <td>9</td>\n",
       "      <td>A</td>\n",
       "      <td>4</td>\n",
       "      <td>0</td>\n",
       "      <td>4</td>\n",
       "      <td>0</td>\n",
       "      <td>2</td>\n",
       "      <td>4</td>\n",
       "      <td>4</td>\n",
       "      <td>...</td>\n",
       "      <td>2</td>\n",
       "      <td>3</td>\n",
       "      <td>1</td>\n",
       "      <td>1</td>\n",
       "      <td>3</td>\n",
       "      <td>4</td>\n",
       "      <td>2</td>\n",
       "      <td>2</td>\n",
       "      <td>0</td>\n",
       "      <td>0</td>\n",
       "    </tr>\n",
       "  </tbody>\n",
       "</table>\n",
       "<p>72 rows × 787 columns</p>\n",
       "</div>"
      ],
      "text/plain": [
       "        id  digit letter  0  1  2  3  4  5  6  ...  774  775  776  777  778  \\\n",
       "4        5      6      A  3  0  2  4  0  3  0  ...    4    4    3    2    1   \n",
       "17      18      7      A  2  3  0  4  0  0  1  ...    1    2    0    0    1   \n",
       "44      45      5      A  2  0  4  2  3  1  3  ...    3    1    2    0    4   \n",
       "75      76      7      A  1  0  4  1  4  1  1  ...    0    4    0    4    3   \n",
       "105    106      2      A  4  2  4  1  0  4  3  ...    0    2    0    2    4   \n",
       "...    ...    ...    ... .. .. .. .. .. .. ..  ...  ...  ...  ...  ...  ...   \n",
       "1964  1965      1      A  3  2  0  3  0  2  1  ...    3    4    3    1    4   \n",
       "1967  1968      5      A  0  2  0  0  3  1  3  ...    1    1    2    2    3   \n",
       "2010  2011      9      A  3  1  1  1  0  1  4  ...    1    0    3    0    4   \n",
       "2011  2012      9      A  4  3  3  0  3  0  2  ...    4    2    0    1    3   \n",
       "2045  2046      9      A  4  0  4  0  2  4  4  ...    2    3    1    1    3   \n",
       "\n",
       "      779  780  781  782  783  \n",
       "4       3    4    3    1    2  \n",
       "17      0    2    2    1    4  \n",
       "44      2    3    4    1    1  \n",
       "75      2    4    1    2    2  \n",
       "105     3    2    3    0    1  \n",
       "...   ...  ...  ...  ...  ...  \n",
       "1964    4    1    2    3    2  \n",
       "1967    0    3    1    4    2  \n",
       "2010    3    1    0    2    3  \n",
       "2011    3    4    0    1    3  \n",
       "2045    4    2    2    0    0  \n",
       "\n",
       "[72 rows x 787 columns]"
      ]
     },
     "execution_count": 259,
     "metadata": {},
     "output_type": "execute_result"
    }
   ],
   "source": [
    "a_data"
   ]
  },
  {
   "cell_type": "code",
   "execution_count": 262,
   "metadata": {},
   "outputs": [],
   "source": [
    "a_data_pixel = a_data[a_data.columns[3:]].values.reshape(-1,28,28)"
   ]
  },
  {
   "cell_type": "code",
   "execution_count": 263,
   "metadata": {},
   "outputs": [
    {
     "data": {
      "text/plain": [
       "<matplotlib.image.AxesImage at 0x7fa22cbbcbd0>"
      ]
     },
     "execution_count": 263,
     "metadata": {},
     "output_type": "execute_result"
    },
    {
     "data": {
      "image/png": "[encoded data removed]",
      "text/plain": [
       "<Figure size 432x288 with 1 Axes>"
      ]
     },
     "metadata": {
      "needs_background": "light"
     },
     "output_type": "display_data"
    }
   ],
   "source": [
    "plt.imshow(a_data_pixel[0])"
   ]
  },
  {
   "cell_type": "code",
   "execution_count": 264,
   "metadata": {},
   "outputs": [
    {
     "data": {
      "text/plain": [
       "<matplotlib.image.AxesImage at 0x7fa226eb9290>"
      ]
     },
     "execution_count": 264,
     "metadata": {},
     "output_type": "execute_result"
    },
    {
     "data": {
      "image/png": "[encoded data removed]",
      "text/plain": [
       "<Figure size 432x288 with 1 Axes>"
      ]
     },
     "metadata": {
      "needs_background": "light"
     },
     "output_type": "display_data"
    }
   ],
   "source": [
    "plt.imshow(a_data_pixel[1])"
   ]
  },
  {
   "cell_type": "code",
   "execution_count": 265,
   "metadata": {},
   "outputs": [
    {
     "data": {
      "text/plain": [
       "<matplotlib.image.AxesImage at 0x7fa2265bc710>"
      ]
     },
     "execution_count": 265,
     "metadata": {},
     "output_type": "execute_result"
    },
    {
     "data": {
      "image/png": "[encoded data removed]",
      "text/plain": [
       "<Figure size 432x288 with 1 Axes>"
      ]
     },
     "metadata": {
      "needs_background": "light"
     },
     "output_type": "display_data"
    }
   ],
   "source": [
    "plt.imshow(a_data_pixel[2])"
   ]
  },
  {
   "cell_type": "code",
   "execution_count": 266,
   "metadata": {},
   "outputs": [
    {
     "data": {
      "text/plain": [
       "<matplotlib.image.AxesImage at 0x7fa231fac990>"
      ]
     },
     "execution_count": 266,
     "metadata": {},
     "output_type": "execute_result"
    },
    {
     "data": {
      "image/png": "[encoded data removed]",
      "text/plain": [
       "<Figure size 432x288 with 1 Axes>"
      ]
     },
     "metadata": {
      "needs_background": "light"
     },
     "output_type": "display_data"
    }
   ],
   "source": [
    "plt.imshow(a_data_pixel[3])"
   ]
  },
  {
   "cell_type": "code",
   "execution_count": 268,
   "metadata": {},
   "outputs": [
    {
     "data": {
      "text/html": [
       "<div>\n",
       "<style scoped>\n",
       "    .dataframe tbody tr th:only-of-type {\n",
       "        vertical-align: middle;\n",
       "    }\n",
       "\n",
       "    .dataframe tbody tr th {\n",
       "        vertical-align: top;\n",
       "    }\n",
       "\n",
       "    .dataframe thead th {\n",
       "        text-align: right;\n",
       "    }\n",
       "</style>\n",
       "<table border=\"1\" class=\"dataframe\">\n",
       "  <thead>\n",
       "    <tr style=\"text-align: right;\">\n",
       "      <th></th>\n",
       "      <th>id</th>\n",
       "      <th>digit</th>\n",
       "      <th>0</th>\n",
       "      <th>1</th>\n",
       "      <th>2</th>\n",
       "      <th>3</th>\n",
       "      <th>4</th>\n",
       "      <th>5</th>\n",
       "      <th>6</th>\n",
       "      <th>7</th>\n",
       "      <th>...</th>\n",
       "      <th>774</th>\n",
       "      <th>775</th>\n",
       "      <th>776</th>\n",
       "      <th>777</th>\n",
       "      <th>778</th>\n",
       "      <th>779</th>\n",
       "      <th>780</th>\n",
       "      <th>781</th>\n",
       "      <th>782</th>\n",
       "      <th>783</th>\n",
       "    </tr>\n",
       "  </thead>\n",
       "  <tbody>\n",
       "    <tr>\n",
       "      <th>count</th>\n",
       "      <td>2048.000000</td>\n",
       "      <td>2048.000000</td>\n",
       "      <td>2048.000000</td>\n",
       "      <td>2048.000000</td>\n",
       "      <td>2048.000000</td>\n",
       "      <td>2048.000000</td>\n",
       "      <td>2048.000000</td>\n",
       "      <td>2048.000000</td>\n",
       "      <td>2048.000000</td>\n",
       "      <td>2048.000000</td>\n",
       "      <td>...</td>\n",
       "      <td>2048.000000</td>\n",
       "      <td>2048.000000</td>\n",
       "      <td>2048.000000</td>\n",
       "      <td>2048.000000</td>\n",
       "      <td>2048.000000</td>\n",
       "      <td>2048.000000</td>\n",
       "      <td>2048.000000</td>\n",
       "      <td>2048.000000</td>\n",
       "      <td>2048.000000</td>\n",
       "      <td>2048.000000</td>\n",
       "    </tr>\n",
       "    <tr>\n",
       "      <th>mean</th>\n",
       "      <td>1024.500000</td>\n",
       "      <td>4.440918</td>\n",
       "      <td>2.031250</td>\n",
       "      <td>1.959961</td>\n",
       "      <td>1.971680</td>\n",
       "      <td>2.018066</td>\n",
       "      <td>1.988770</td>\n",
       "      <td>1.959473</td>\n",
       "      <td>2.041504</td>\n",
       "      <td>1.994629</td>\n",
       "      <td>...</td>\n",
       "      <td>2.034180</td>\n",
       "      <td>1.978516</td>\n",
       "      <td>1.972656</td>\n",
       "      <td>2.010742</td>\n",
       "      <td>1.958008</td>\n",
       "      <td>2.043457</td>\n",
       "      <td>2.035156</td>\n",
       "      <td>1.981445</td>\n",
       "      <td>1.993164</td>\n",
       "      <td>1.975586</td>\n",
       "    </tr>\n",
       "    <tr>\n",
       "      <th>std</th>\n",
       "      <td>591.350996</td>\n",
       "      <td>2.819159</td>\n",
       "      <td>1.420762</td>\n",
       "      <td>1.399057</td>\n",
       "      <td>1.415311</td>\n",
       "      <td>1.415307</td>\n",
       "      <td>1.419169</td>\n",
       "      <td>1.421730</td>\n",
       "      <td>1.420671</td>\n",
       "      <td>1.419548</td>\n",
       "      <td>...</td>\n",
       "      <td>1.420694</td>\n",
       "      <td>1.390359</td>\n",
       "      <td>1.407022</td>\n",
       "      <td>1.443575</td>\n",
       "      <td>1.415662</td>\n",
       "      <td>1.407484</td>\n",
       "      <td>1.399886</td>\n",
       "      <td>1.409247</td>\n",
       "      <td>1.392264</td>\n",
       "      <td>1.398719</td>\n",
       "    </tr>\n",
       "    <tr>\n",
       "      <th>min</th>\n",
       "      <td>1.000000</td>\n",
       "      <td>0.000000</td>\n",
       "      <td>0.000000</td>\n",
       "      <td>0.000000</td>\n",
       "      <td>0.000000</td>\n",
       "      <td>0.000000</td>\n",
       "      <td>0.000000</td>\n",
       "      <td>0.000000</td>\n",
       "      <td>0.000000</td>\n",
       "      <td>0.000000</td>\n",
       "      <td>...</td>\n",
       "      <td>0.000000</td>\n",
       "      <td>0.000000</td>\n",
       "      <td>0.000000</td>\n",
       "      <td>0.000000</td>\n",
       "      <td>0.000000</td>\n",
       "      <td>0.000000</td>\n",
       "      <td>0.000000</td>\n",
       "      <td>0.000000</td>\n",
       "      <td>0.000000</td>\n",
       "      <td>0.000000</td>\n",
       "    </tr>\n",
       "    <tr>\n",
       "      <th>25%</th>\n",
       "      <td>512.750000</td>\n",
       "      <td>2.000000</td>\n",
       "      <td>1.000000</td>\n",
       "      <td>1.000000</td>\n",
       "      <td>1.000000</td>\n",
       "      <td>1.000000</td>\n",
       "      <td>1.000000</td>\n",
       "      <td>1.000000</td>\n",
       "      <td>1.000000</td>\n",
       "      <td>1.000000</td>\n",
       "      <td>...</td>\n",
       "      <td>1.000000</td>\n",
       "      <td>1.000000</td>\n",
       "      <td>1.000000</td>\n",
       "      <td>1.000000</td>\n",
       "      <td>1.000000</td>\n",
       "      <td>1.000000</td>\n",
       "      <td>1.000000</td>\n",
       "      <td>1.000000</td>\n",
       "      <td>1.000000</td>\n",
       "      <td>1.000000</td>\n",
       "    </tr>\n",
       "    <tr>\n",
       "      <th>50%</th>\n",
       "      <td>1024.500000</td>\n",
       "      <td>4.000000</td>\n",
       "      <td>2.000000</td>\n",
       "      <td>2.000000</td>\n",
       "      <td>2.000000</td>\n",
       "      <td>2.000000</td>\n",
       "      <td>2.000000</td>\n",
       "      <td>2.000000</td>\n",
       "      <td>2.000000</td>\n",
       "      <td>2.000000</td>\n",
       "      <td>...</td>\n",
       "      <td>2.000000</td>\n",
       "      <td>2.000000</td>\n",
       "      <td>2.000000</td>\n",
       "      <td>2.000000</td>\n",
       "      <td>2.000000</td>\n",
       "      <td>2.000000</td>\n",
       "      <td>2.000000</td>\n",
       "      <td>2.000000</td>\n",
       "      <td>2.000000</td>\n",
       "      <td>2.000000</td>\n",
       "    </tr>\n",
       "    <tr>\n",
       "      <th>75%</th>\n",
       "      <td>1536.250000</td>\n",
       "      <td>7.000000</td>\n",
       "      <td>3.000000</td>\n",
       "      <td>3.000000</td>\n",
       "      <td>3.000000</td>\n",
       "      <td>3.000000</td>\n",
       "      <td>3.000000</td>\n",
       "      <td>3.000000</td>\n",
       "      <td>3.000000</td>\n",
       "      <td>3.000000</td>\n",
       "      <td>...</td>\n",
       "      <td>3.000000</td>\n",
       "      <td>3.000000</td>\n",
       "      <td>3.000000</td>\n",
       "      <td>3.000000</td>\n",
       "      <td>3.000000</td>\n",
       "      <td>3.000000</td>\n",
       "      <td>3.000000</td>\n",
       "      <td>3.000000</td>\n",
       "      <td>3.000000</td>\n",
       "      <td>3.000000</td>\n",
       "    </tr>\n",
       "    <tr>\n",
       "      <th>max</th>\n",
       "      <td>2048.000000</td>\n",
       "      <td>9.000000</td>\n",
       "      <td>4.000000</td>\n",
       "      <td>4.000000</td>\n",
       "      <td>4.000000</td>\n",
       "      <td>4.000000</td>\n",
       "      <td>4.000000</td>\n",
       "      <td>4.000000</td>\n",
       "      <td>4.000000</td>\n",
       "      <td>4.000000</td>\n",
       "      <td>...</td>\n",
       "      <td>4.000000</td>\n",
       "      <td>4.000000</td>\n",
       "      <td>4.000000</td>\n",
       "      <td>4.000000</td>\n",
       "      <td>4.000000</td>\n",
       "      <td>4.000000</td>\n",
       "      <td>4.000000</td>\n",
       "      <td>4.000000</td>\n",
       "      <td>4.000000</td>\n",
       "      <td>4.000000</td>\n",
       "    </tr>\n",
       "  </tbody>\n",
       "</table>\n",
       "<p>8 rows × 786 columns</p>\n",
       "</div>"
      ],
      "text/plain": [
       "                id        digit            0            1            2  \\\n",
       "count  2048.000000  2048.000000  2048.000000  2048.000000  2048.000000   \n",
       "mean   1024.500000     4.440918     2.031250     1.959961     1.971680   \n",
       "std     591.350996     2.819159     1.420762     1.399057     1.415311   \n",
       "min       1.000000     0.000000     0.000000     0.000000     0.000000   \n",
       "25%     512.750000     2.000000     1.000000     1.000000     1.000000   \n",
       "50%    1024.500000     4.000000     2.000000     2.000000     2.000000   \n",
       "75%    1536.250000     7.000000     3.000000     3.000000     3.000000   \n",
       "max    2048.000000     9.000000     4.000000     4.000000     4.000000   \n",
       "\n",
       "                 3            4            5            6            7  ...  \\\n",
       "count  2048.000000  2048.000000  2048.000000  2048.000000  2048.000000  ...   \n",
       "mean      2.018066     1.988770     1.959473     2.041504     1.994629  ...   \n",
       "std       1.415307     1.419169     1.421730     1.420671     1.419548  ...   \n",
       "min       0.000000     0.000000     0.000000     0.000000     0.000000  ...   \n",
       "25%       1.000000     1.000000     1.000000     1.000000     1.000000  ...   \n",
       "50%       2.000000     2.000000     2.000000     2.000000     2.000000  ...   \n",
       "75%       3.000000     3.000000     3.000000     3.000000     3.000000  ...   \n",
       "max       4.000000     4.000000     4.000000     4.000000     4.000000  ...   \n",
       "\n",
       "               774          775          776          777          778  \\\n",
       "count  2048.000000  2048.000000  2048.000000  2048.000000  2048.000000   \n",
       "mean      2.034180     1.978516     1.972656     2.010742     1.958008   \n",
       "std       1.420694     1.390359     1.407022     1.443575     1.415662   \n",
       "min       0.000000     0.000000     0.000000     0.000000     0.000000   \n",
       "25%       1.000000     1.000000     1.000000     1.000000     1.000000   \n",
       "50%       2.000000     2.000000     2.000000     2.000000     2.000000   \n",
       "75%       3.000000     3.000000     3.000000     3.000000     3.000000   \n",
       "max       4.000000     4.000000     4.000000     4.000000     4.000000   \n",
       "\n",
       "               779          780          781          782          783  \n",
       "count  2048.000000  2048.000000  2048.000000  2048.000000  2048.000000  \n",
       "mean      2.043457     2.035156     1.981445     1.993164     1.975586  \n",
       "std       1.407484     1.399886     1.409247     1.392264     1.398719  \n",
       "min       0.000000     0.000000     0.000000     0.000000     0.000000  \n",
       "25%       1.000000     1.000000     1.000000     1.000000     1.000000  \n",
       "50%       2.000000     2.000000     2.000000     2.000000     2.000000  \n",
       "75%       3.000000     3.000000     3.000000     3.000000     3.000000  \n",
       "max       4.000000     4.000000     4.000000     4.000000     4.000000  \n",
       "\n",
       "[8 rows x 786 columns]"
      ]
     },
     "execution_count": 268,
     "metadata": {},
     "output_type": "execute_result"
    }
   ],
   "source": [
    "train_data.describe()"
   ]
  },
  {
   "cell_type": "code",
   "execution_count": null,
   "metadata": {},
   "outputs": [],
   "source": []
  }
 ],
 "metadata": {
  "kernelspec": {
   "display_name": "Python 3",
   "language": "python",
   "name": "python3"
  },
  "language_info": {
   "codemirror_mode": {
    "name": "ipython",
    "version": 3
   },
   "file_extension": ".py",
   "mimetype": "text/x-python",
   "name": "python",
   "nbconvert_exporter": "python",
   "pygments_lexer": "ipython3",
   "version": "3.7.4"
  }
 },
 "nbformat": 4,
 "nbformat_minor": 4
}
