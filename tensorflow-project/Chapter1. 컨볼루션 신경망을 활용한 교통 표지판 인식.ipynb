{
 "cells": [
  {
   "cell_type": "code",
   "execution_count": 1,
   "metadata": {},
   "outputs": [],
   "source": [
    "N_CLASSES = 43\n",
    "RESIZED_IMAGE=(32, 32)"
   ]
  },
  {
   "cell_type": "code",
   "execution_count": 2,
   "metadata": {},
   "outputs": [
    {
     "name": "stdout",
     "output_type": "stream",
     "text": [
      "(39209, 32, 32, 1)\n",
      "(39209, 43)\n"
     ]
    }
   ],
   "source": [
    "import matplotlib.pyplot as plt\n",
    "import glob\n",
    "from skimage.color import rgb2lab\n",
    "from skimage.transform import resize\n",
    "from collections import namedtuple\n",
    "import numpy as np\n",
    "import os\n",
    "np.random.seed(101)\n",
    "%matplotlib inline\n",
    "\n",
    "Dataset = namedtuple('Dataset', ['X','y'])\n",
    "\n",
    "def to_tf_format(imgs):\n",
    "    return np.stack([img[:, :, np.newaxis] for img in imgs], axis=0).astype(np.float32)\n",
    "\n",
    "def read_dataset_ppm(rootpath, n_labels, resize_to):\n",
    "    images = []\n",
    "    labels = []\n",
    "    for c in range(n_labels):\n",
    "        full_path = rootpath + os.path.sep + format(c, '05d') + os.path.sep\n",
    "        for img_name in glob.glob(full_path + '*.ppm'):\n",
    "            img = plt.imread(img_name).astype(np.float32)\n",
    "            img = rgb2lab(img / 255.0)[:, :, 0]\n",
    "            if resize_to:\n",
    "                img = resize(img, resize_to, mode = 'reflect')\n",
    "            label = np.zeros((n_labels, ), dtype=np.float32)\n",
    "            label[c] = 1.0\n",
    "            \n",
    "            images.append(img.astype(np.float32))\n",
    "            labels.append(label)\n",
    "    return Dataset(X = to_tf_format(images).astype(np.float32),\n",
    "                  y = np.matrix(labels).astype(np.float32))\n",
    "\n",
    "dataset = read_dataset_ppm('GTSRB/Final_Training/Images', N_CLASSES, RESIZED_IMAGE)\n",
    "print(dataset.X.shape)\n",
    "print(dataset.y.shape)"
   ]
  },
  {
   "cell_type": "code",
   "execution_count": 31,
   "metadata": {},
   "outputs": [
    {
     "name": "stdout",
     "output_type": "stream",
     "text": [
      "[[1. 0. 0. 0. 0. 0. 0. 0. 0. 0. 0. 0. 0. 0. 0. 0. 0. 0. 0. 0. 0. 0. 0. 0.\n",
      "  0. 0. 0. 0. 0. 0. 0. 0. 0. 0. 0. 0. 0. 0. 0. 0. 0. 0. 0.]]\n"
     ]
    },
    {
     "data": {
      "image/png": "[encoded data removed]",
      "text/plain": [
       "<Figure size 432x288 with 1 Axes>"
      ]
     },
     "metadata": {
      "needs_background": "light"
     },
     "output_type": "display_data"
    }
   ],
   "source": [
    "plt.imshow(dataset.X[0,:,:,:].reshape(RESIZED_IMAGE))\n",
    "print(dataset.y[0,:])"
   ]
  },
  {
   "cell_type": "code",
   "execution_count": null,
   "metadata": {},
   "outputs": [],
   "source": []
  },
  {
   "cell_type": "code",
   "execution_count": 4,
   "metadata": {},
   "outputs": [
    {
     "name": "stdout",
     "output_type": "stream",
     "text": [
      "[[0. 0. 0. 0. 0. 0. 0. 0. 0. 0. 0. 0. 0. 0. 0. 0. 0. 0. 0. 0. 0. 0. 0. 0.\n",
      "  0. 0. 0. 0. 0. 0. 0. 0. 0. 0. 0. 0. 0. 0. 0. 0. 0. 0. 1.]]\n"
     ]
    },
    {
     "data": {
      "image/png": "[encoded data removed]",
      "text/plain": [
       "<Figure size 432x288 with 1 Axes>"
      ]
     },
     "metadata": {
      "needs_background": "light"
     },
     "output_type": "display_data"
    }
   ],
   "source": [
    "plt.imshow(dataset.X[-1,:,:,:].reshape(RESIZED_IMAGE))\n",
    "print(dataset.y[-1,:])"
   ]
  },
  {
   "cell_type": "code",
   "execution_count": 24,
   "metadata": {},
   "outputs": [
    {
     "name": "stdout",
     "output_type": "stream",
     "text": [
      "(29406, 32, 32, 1)\n",
      "(29406, 43)\n"
     ]
    }
   ],
   "source": [
    "from sklearn.model_selection import train_test_split\n",
    "\n",
    "idx_train, idx_test = train_test_split(range(dataset.X.shape[0]), test_size=.25, random_state=101)\n",
    "X_train = dataset.X[idx_train,:,:,:]\n",
    "X_test = dataset.X[idx_test,:,:,:]\n",
    "y_train = dataset.y[idx_train,:]\n",
    "y_test = dataset.y[idx_test,:]\n",
    "\n",
    "print(X_train.shape)\n",
    "print(y_train.shape)"
   ]
  },
  {
   "cell_type": "code",
   "execution_count": 6,
   "metadata": {},
   "outputs": [],
   "source": [
    "import tensorflow as tf\n",
    "from tensorflow import keras"
   ]
  },
  {
   "cell_type": "code",
   "execution_count": 7,
   "metadata": {},
   "outputs": [
    {
     "name": "stdout",
     "output_type": "stream",
     "text": [
      "(9803, 32, 32, 1)\n",
      "(9803, 43)\n"
     ]
    }
   ],
   "source": [
    "print(X_test.shape)\n",
    "print(y_test.shape)"
   ]
  },
  {
   "cell_type": "code",
   "execution_count": 51,
   "metadata": {},
   "outputs": [],
   "source": [
    "image_generator = keras.preprocessing.image.ImageDataGenerator(\n",
    "    rotation_range=20,\n",
    "    width_shift_range=0.2,\n",
    "    height_shift_range=0.2,\n",
    "    rescale= 1./255,\n",
    "    validation_split=.25,\n",
    "    tes\n",
    ")"
   ]
  },
  {
   "cell_type": "code",
   "execution_count": 52,
   "metadata": {},
   "outputs": [
    {
     "name": "stdout",
     "output_type": "stream",
     "text": [
      "Found 29416 images belonging to 43 classes.\n"
     ]
    }
   ],
   "source": [
    "training_data = image_generator.flow_from_directory('./GTSRB/Final_Training/Images/',\n",
    "                                                        color_mode=\"grayscale\",\n",
    "                                                        batch_size=64,\n",
    "                                                        target_size=(32, 32),\n",
    "                                                        shuffle=True,\n",
    "                                                        seed=1132,\n",
    "                                                   subset='training')"
   ]
  },
  {
   "cell_type": "code",
   "execution_count": null,
   "metadata": {},
   "outputs": [],
   "source": [
    "test_data = image_generator.flow_from_directory('./GTSRB/Final_Training/Images/',\n",
    "                                                        color_mode=\"grayscale\",\n",
    "                                                        batch_size=64,\n",
    "                                                        target_size=(32, 32),\n",
    "                                                        shuffle=True,\n",
    "                                                        seed=1132,\n",
    "                                                   subset='validation')"
   ]
  },
  {
   "cell_type": "code",
   "execution_count": 53,
   "metadata": {},
   "outputs": [
    {
     "name": "stdout",
     "output_type": "stream",
     "text": [
      "Found 9793 images belonging to 43 classes.\n"
     ]
    }
   ],
   "source": [
    "validation_data = image_generator.flow_from_directory('./GTSRB/Final_Training/Images/',\n",
    "                                                        color_mode=\"grayscale\",\n",
    "                                                        batch_size=64,\n",
    "                                                        target_size=(32, 32),\n",
    "                                                        shuffle=True,\n",
    "                                                        seed=1132,\n",
    "                                                   subset='validation')"
   ]
  },
  {
   "cell_type": "code",
   "execution_count": 47,
   "metadata": {},
   "outputs": [
    {
     "data": {
      "text/plain": [
       "<tensorflow.python.keras.preprocessing.image.ImageDataGenerator at 0x7fb6be473f70>"
      ]
     },
     "execution_count": 47,
     "metadata": {},
     "output_type": "execute_result"
    }
   ],
   "source": [
    "image_generator."
   ]
  },
  {
   "cell_type": "markdown",
   "metadata": {},
   "source": [
    "# Auto Encoder\n",
    "- 결론 : 좋지 않은 성능을 보임\n"
   ]
  },
  {
   "cell_type": "code",
   "execution_count": 13,
   "metadata": {},
   "outputs": [],
   "source": [
    "# auto encoder\n",
    "_, image_height, image_width, channel = X_train.shape"
   ]
  },
  {
   "cell_type": "code",
   "execution_count": 42,
   "metadata": {},
   "outputs": [],
   "source": [
    "\n",
    "conv_encoder = keras.models.Sequential([\n",
    "    keras.layers.Input(shape=(image_height, image_width, channel)),\n",
    "    keras.layers.GaussianNoise(0.1),\n",
    "    keras.layers.Conv2D(16, kernel_size=3, padding='same', activation='selu'),\n",
    "    keras.layers.MaxPool2D(2),\n",
    "    keras.layers.BatchNormalization(),\n",
    "    keras.layers.Conv2D(32, kernel_size=3, padding='same', activation='selu'),\n",
    "    keras.layers.MaxPool2D(2),\n",
    "    keras.layers.BatchNormalization(),\n",
    "    keras.layers.Conv2D(64, kernel_size=3, padding='same', activation='selu'),\n",
    "    keras.layers.MaxPool2D(2),\n",
    "    keras.layers.Flatten(),\n",
    "    keras.layers.Dropout(0.2),\n",
    "    keras.layers.Dense(500, activation='sigmoid'),\n",
    "    keras.layers.Dense(43, activation='softmax'),\n",
    "])\n",
    "\n",
    "conv_decoder = keras.models.Sequential([\n",
    "    keras.layers.Dense(500, activation='sigmoid', input_shape=(43,)),\n",
    "    keras.layers.Dropout(0.2),\n",
    "    keras.layers.Dense(4*4*64, activation='sigmoid'),\n",
    "    keras.layers.Reshape([4,4,64]),\n",
    "    keras.layers.Conv2DTranspose(32, kernel_size=3, strides=2, padding='same', activation='selu'),\n",
    "    keras.layers.Conv2DTranspose(16, kernel_size=3, strides=2, padding='same', activation='selu'),\n",
    "    keras.layers.BatchNormalization(),\n",
    "    keras.layers.Conv2DTranspose(channel, kernel_size=3, strides=2, padding='same', activation='selu'),\n",
    "    keras.layers.Reshape([image_height, image_width, channel])\n",
    "])"
   ]
  },
  {
   "cell_type": "code",
   "execution_count": 43,
   "metadata": {},
   "outputs": [
    {
     "name": "stdout",
     "output_type": "stream",
     "text": [
      "Model: \"sequential_16\"\n",
      "_________________________________________________________________\n",
      "Layer (type)                 Output Shape              Param #   \n",
      "=================================================================\n",
      "gaussian_noise_9 (GaussianNo (None, 32, 32, 1)         0         \n",
      "_________________________________________________________________\n",
      "conv2d_27 (Conv2D)           (None, 32, 32, 16)        160       \n",
      "_________________________________________________________________\n",
      "max_pooling2d_27 (MaxPooling (None, 16, 16, 16)        0         \n",
      "_________________________________________________________________\n",
      "batch_normalization_19 (Batc (None, 16, 16, 16)        64        \n",
      "_________________________________________________________________\n",
      "conv2d_28 (Conv2D)           (None, 16, 16, 32)        4640      \n",
      "_________________________________________________________________\n",
      "max_pooling2d_28 (MaxPooling (None, 8, 8, 32)          0         \n",
      "_________________________________________________________________\n",
      "batch_normalization_20 (Batc (None, 8, 8, 32)          128       \n",
      "_________________________________________________________________\n",
      "conv2d_29 (Conv2D)           (None, 8, 8, 64)          18496     \n",
      "_________________________________________________________________\n",
      "max_pooling2d_29 (MaxPooling (None, 4, 4, 64)          0         \n",
      "_________________________________________________________________\n",
      "flatten_4 (Flatten)          (None, 1024)              0         \n",
      "_________________________________________________________________\n",
      "dropout_6 (Dropout)          (None, 1024)              0         \n",
      "_________________________________________________________________\n",
      "dense_10 (Dense)             (None, 500)               512500    \n",
      "_________________________________________________________________\n",
      "dense_11 (Dense)             (None, 43)                21543     \n",
      "=================================================================\n",
      "Total params: 557,531\n",
      "Trainable params: 557,435\n",
      "Non-trainable params: 96\n",
      "_________________________________________________________________\n"
     ]
    }
   ],
   "source": [
    "conv_encoder.summary()"
   ]
  },
  {
   "cell_type": "code",
   "execution_count": 44,
   "metadata": {},
   "outputs": [
    {
     "name": "stdout",
     "output_type": "stream",
     "text": [
      "Model: \"sequential_17\"\n",
      "_________________________________________________________________\n",
      "Layer (type)                 Output Shape              Param #   \n",
      "=================================================================\n",
      "dense_12 (Dense)             (None, 500)               22000     \n",
      "_________________________________________________________________\n",
      "dropout_7 (Dropout)          (None, 500)               0         \n",
      "_________________________________________________________________\n",
      "dense_13 (Dense)             (None, 1024)              513024    \n",
      "_________________________________________________________________\n",
      "reshape_5 (Reshape)          (None, 4, 4, 64)          0         \n",
      "_________________________________________________________________\n",
      "conv2d_transpose_21 (Conv2DT (None, 8, 8, 32)          18464     \n",
      "_________________________________________________________________\n",
      "conv2d_transpose_22 (Conv2DT (None, 16, 16, 16)        4624      \n",
      "_________________________________________________________________\n",
      "batch_normalization_21 (Batc (None, 16, 16, 16)        64        \n",
      "_________________________________________________________________\n",
      "conv2d_transpose_23 (Conv2DT (None, 32, 32, 1)         145       \n",
      "_________________________________________________________________\n",
      "reshape_6 (Reshape)          (None, 32, 32, 1)         0         \n",
      "=================================================================\n",
      "Total params: 558,321\n",
      "Trainable params: 558,289\n",
      "Non-trainable params: 32\n",
      "_________________________________________________________________\n"
     ]
    }
   ],
   "source": [
    "conv_decoder.summary()"
   ]
  },
  {
   "cell_type": "code",
   "execution_count": 45,
   "metadata": {},
   "outputs": [],
   "source": [
    "conv_auto_encoder = keras.models.Sequential([conv_encoder, conv_decoder])"
   ]
  },
  {
   "cell_type": "code",
   "execution_count": 46,
   "metadata": {},
   "outputs": [],
   "source": [
    "conv_auto_encoder.compile(optimizer='adam', loss='binary_crossentropy')"
   ]
  },
  {
   "cell_type": "code",
   "execution_count": 47,
   "metadata": {
    "scrolled": true
   },
   "outputs": [
    {
     "name": "stdout",
     "output_type": "stream",
     "text": [
      "Epoch 1/100\n",
      "828/828 [==============================] - 26s 31ms/step - loss: 0.8010 - val_loss: 0.6762\n",
      "Epoch 2/100\n",
      "828/828 [==============================] - 26s 31ms/step - loss: 0.6519 - val_loss: 0.6407\n",
      "Epoch 3/100\n",
      "828/828 [==============================] - 26s 31ms/step - loss: 0.6165 - val_loss: 0.4364\n",
      "Epoch 4/100\n",
      "828/828 [==============================] - 26s 31ms/step - loss: 0.3697 - val_loss: 0.3585\n",
      "Epoch 5/100\n",
      "828/828 [==============================] - 26s 32ms/step - loss: 0.4048 - val_loss: 0.3583\n",
      "Epoch 6/100\n",
      "828/828 [==============================] - 26s 31ms/step - loss: 0.3588 - val_loss: 0.3572\n",
      "Epoch 7/100\n",
      "828/828 [==============================] - 26s 31ms/step - loss: 0.3581 - val_loss: 0.3556\n",
      "Epoch 8/100\n",
      "828/828 [==============================] - 26s 31ms/step - loss: 0.3738 - val_loss: 0.3684\n",
      "Epoch 9/100\n",
      "828/828 [==============================] - 26s 31ms/step - loss: 0.3620 - val_loss: 0.3547\n",
      "Epoch 10/100\n",
      "828/828 [==============================] - 26s 31ms/step - loss: 0.3563 - val_loss: 0.3543\n",
      "Epoch 11/100\n",
      "828/828 [==============================] - 26s 32ms/step - loss: 0.3563 - val_loss: 0.3552\n",
      "Epoch 12/100\n",
      "828/828 [==============================] - 26s 31ms/step - loss: 0.3563 - val_loss: 0.3568\n",
      "Epoch 13/100\n",
      "828/828 [==============================] - 26s 31ms/step - loss: 0.3556 - val_loss: 0.3537\n",
      "Epoch 14/100\n",
      "828/828 [==============================] - 26s 31ms/step - loss: 0.3557 - val_loss: 0.3532\n",
      "Epoch 15/100\n",
      "828/828 [==============================] - 26s 31ms/step - loss: 0.3544 - val_loss: 0.3532\n",
      "Epoch 16/100\n",
      "828/828 [==============================] - 26s 31ms/step - loss: 0.3542 - val_loss: 0.3526\n",
      "Epoch 17/100\n",
      "828/828 [==============================] - 26s 31ms/step - loss: 0.3545 - val_loss: 0.3523\n",
      "Epoch 18/100\n",
      "828/828 [==============================] - 26s 31ms/step - loss: 0.3540 - val_loss: 0.3525\n",
      "Epoch 19/100\n",
      "828/828 [==============================] - 26s 32ms/step - loss: 0.3542 - val_loss: 0.3546\n",
      "Epoch 20/100\n",
      "828/828 [==============================] - 26s 32ms/step - loss: 0.3539 - val_loss: 0.3521\n",
      "Epoch 21/100\n",
      "828/828 [==============================] - 26s 32ms/step - loss: 0.3535 - val_loss: 0.3527\n",
      "Epoch 22/100\n",
      "828/828 [==============================] - 26s 32ms/step - loss: 0.3536 - val_loss: 0.3560\n",
      "Epoch 23/100\n",
      "828/828 [==============================] - 26s 31ms/step - loss: 0.3538 - val_loss: 0.3519\n",
      "Epoch 24/100\n",
      "828/828 [==============================] - 26s 32ms/step - loss: 0.3541 - val_loss: 0.3521\n",
      "Epoch 25/100\n",
      "828/828 [==============================] - 26s 32ms/step - loss: 0.3534 - val_loss: 0.3516\n",
      "Epoch 26/100\n",
      "828/828 [==============================] - 26s 32ms/step - loss: 0.3544 - val_loss: 0.3526\n",
      "Epoch 27/100\n",
      "828/828 [==============================] - 26s 32ms/step - loss: 0.3534 - val_loss: 0.3518\n",
      "Epoch 28/100\n",
      "828/828 [==============================] - 27s 32ms/step - loss: 0.3531 - val_loss: 0.3515\n",
      "Epoch 29/100\n",
      "828/828 [==============================] - 26s 32ms/step - loss: 0.3531 - val_loss: 0.3515\n",
      "Epoch 30/100\n",
      "828/828 [==============================] - 25s 30ms/step - loss: 0.3530 - val_loss: 0.3522\n",
      "Epoch 31/100\n",
      "828/828 [==============================] - 26s 31ms/step - loss: 0.3529 - val_loss: 0.3513\n",
      "Epoch 32/100\n",
      "828/828 [==============================] - 26s 31ms/step - loss: 0.3524 - val_loss: 0.3514\n",
      "Epoch 33/100\n",
      "828/828 [==============================] - 26s 31ms/step - loss: 0.3523 - val_loss: 0.3509\n",
      "Epoch 34/100\n",
      "828/828 [==============================] - 26s 31ms/step - loss: 0.3522 - val_loss: 0.3515\n",
      "Epoch 35/100\n",
      "828/828 [==============================] - 26s 31ms/step - loss: 0.3520 - val_loss: 0.3505\n",
      "Epoch 36/100\n",
      "828/828 [==============================] - 26s 31ms/step - loss: 0.3520 - val_loss: 0.3515\n",
      "Epoch 37/100\n",
      "828/828 [==============================] - 26s 31ms/step - loss: 0.3522 - val_loss: 0.3546\n",
      "Epoch 38/100\n",
      "828/828 [==============================] - 26s 32ms/step - loss: 0.3518 - val_loss: 0.3507\n",
      "Epoch 39/100\n",
      "828/828 [==============================] - 26s 31ms/step - loss: 0.3519 - val_loss: 0.3518\n",
      "Epoch 40/100\n",
      "828/828 [==============================] - 26s 31ms/step - loss: 0.3517 - val_loss: 0.3509\n",
      "Epoch 41/100\n",
      "828/828 [==============================] - 26s 31ms/step - loss: 0.3517 - val_loss: 0.3502\n",
      "Epoch 42/100\n",
      "828/828 [==============================] - 26s 32ms/step - loss: 0.3516 - val_loss: 0.3505\n",
      "Epoch 43/100\n",
      "828/828 [==============================] - 26s 32ms/step - loss: 0.3517 - val_loss: 0.3514\n",
      "Epoch 44/100\n",
      "828/828 [==============================] - 26s 31ms/step - loss: 0.3516 - val_loss: 0.3504\n",
      "Epoch 45/100\n",
      "828/828 [==============================] - 26s 31ms/step - loss: 0.3516 - val_loss: 0.3500\n",
      "Epoch 46/100\n",
      "828/828 [==============================] - 26s 31ms/step - loss: 0.3516 - val_loss: 0.3499\n",
      "Epoch 47/100\n",
      "828/828 [==============================] - 26s 32ms/step - loss: 0.3516 - val_loss: 0.3502\n",
      "Epoch 48/100\n",
      "828/828 [==============================] - 26s 32ms/step - loss: 0.3514 - val_loss: 0.3502\n",
      "Epoch 49/100\n",
      "828/828 [==============================] - 26s 31ms/step - loss: 0.3515 - val_loss: 0.3503\n",
      "Epoch 50/100\n",
      "828/828 [==============================] - 26s 31ms/step - loss: 0.3514 - val_loss: 0.3502\n",
      "Epoch 51/100\n",
      "828/828 [==============================] - 26s 32ms/step - loss: 0.3516 - val_loss: 0.3498\n",
      "Epoch 52/100\n",
      "828/828 [==============================] - 26s 31ms/step - loss: 0.3513 - val_loss: 0.3506\n",
      "Epoch 53/100\n",
      "828/828 [==============================] - 26s 31ms/step - loss: 0.3515 - val_loss: 0.3499\n",
      "Epoch 54/100\n",
      "828/828 [==============================] - 26s 31ms/step - loss: 0.3514 - val_loss: 0.3505\n",
      "Epoch 55/100\n",
      "828/828 [==============================] - 26s 31ms/step - loss: 0.3514 - val_loss: 0.3506\n",
      "Epoch 56/100\n",
      "828/828 [==============================] - 26s 32ms/step - loss: 0.3512 - val_loss: 0.3501\n",
      "Epoch 57/100\n",
      "828/828 [==============================] - 26s 32ms/step - loss: 0.3513 - val_loss: 0.3514\n",
      "Epoch 58/100\n",
      "828/828 [==============================] - 26s 31ms/step - loss: 0.3512 - val_loss: 0.3498\n",
      "Epoch 59/100\n",
      "828/828 [==============================] - 26s 32ms/step - loss: 0.3513 - val_loss: 0.3499\n",
      "Epoch 60/100\n",
      "828/828 [==============================] - 26s 31ms/step - loss: 0.3513 - val_loss: 0.3505\n",
      "Epoch 61/100\n",
      "828/828 [==============================] - 26s 31ms/step - loss: 0.3512 - val_loss: 0.3516\n",
      "Epoch 62/100\n",
      "828/828 [==============================] - 26s 31ms/step - loss: 0.3514 - val_loss: 0.3497\n",
      "Epoch 63/100\n",
      "828/828 [==============================] - 26s 31ms/step - loss: 0.3510 - val_loss: 0.3500\n",
      "Epoch 64/100\n",
      "828/828 [==============================] - 26s 31ms/step - loss: 0.3512 - val_loss: 0.3504\n",
      "Epoch 65/100\n",
      "828/828 [==============================] - 26s 32ms/step - loss: 0.3512 - val_loss: 0.3503\n",
      "Epoch 66/100\n",
      "828/828 [==============================] - 26s 31ms/step - loss: 0.3511 - val_loss: 0.3499\n",
      "Epoch 67/100\n",
      "828/828 [==============================] - 26s 32ms/step - loss: 0.3513 - val_loss: 0.3503\n",
      "Epoch 68/100\n",
      "828/828 [==============================] - 26s 32ms/step - loss: 0.3512 - val_loss: 0.3503\n",
      "Epoch 69/100\n",
      "828/828 [==============================] - 26s 32ms/step - loss: 0.3511 - val_loss: 0.3496\n",
      "Epoch 70/100\n",
      "828/828 [==============================] - 26s 32ms/step - loss: 0.3512 - val_loss: 0.3501\n",
      "Epoch 71/100\n",
      "828/828 [==============================] - 26s 32ms/step - loss: 0.3511 - val_loss: 0.3499\n",
      "Epoch 72/100\n",
      "828/828 [==============================] - 26s 31ms/step - loss: 0.3512 - val_loss: 0.3505\n",
      "Epoch 73/100\n",
      "828/828 [==============================] - 26s 32ms/step - loss: 0.3511 - val_loss: 0.3498\n",
      "Epoch 74/100\n",
      "828/828 [==============================] - 27s 32ms/step - loss: 0.3510 - val_loss: 0.3498\n",
      "Epoch 75/100\n",
      "828/828 [==============================] - 26s 32ms/step - loss: 0.3510 - val_loss: 0.3500\n",
      "Epoch 76/100\n",
      "828/828 [==============================] - 26s 32ms/step - loss: 0.3511 - val_loss: 0.3496\n",
      "Epoch 77/100\n",
      "828/828 [==============================] - 26s 32ms/step - loss: 0.3511 - val_loss: 0.3508\n",
      "Epoch 78/100\n",
      "828/828 [==============================] - 26s 32ms/step - loss: 0.3510 - val_loss: 0.3498\n",
      "Epoch 79/100\n",
      "828/828 [==============================] - 26s 32ms/step - loss: 0.3511 - val_loss: 0.3498\n",
      "Epoch 80/100\n",
      "828/828 [==============================] - 26s 32ms/step - loss: 0.3510 - val_loss: 0.3503\n",
      "Epoch 81/100\n",
      "828/828 [==============================] - 26s 32ms/step - loss: 0.3510 - val_loss: 0.3507\n",
      "Epoch 82/100\n",
      "828/828 [==============================] - 27s 32ms/step - loss: 0.3510 - val_loss: 0.3496\n",
      "Epoch 83/100\n",
      "828/828 [==============================] - 26s 32ms/step - loss: 0.3510 - val_loss: 0.3497\n",
      "Epoch 84/100\n",
      "828/828 [==============================] - 26s 32ms/step - loss: 0.3510 - val_loss: 0.3504\n",
      "Epoch 85/100\n",
      "828/828 [==============================] - 26s 32ms/step - loss: 0.3511 - val_loss: 0.3497\n",
      "Epoch 86/100\n",
      "828/828 [==============================] - 26s 32ms/step - loss: 0.3509 - val_loss: 0.3495\n",
      "Epoch 87/100\n",
      "828/828 [==============================] - 26s 32ms/step - loss: 0.3510 - val_loss: 0.3496\n",
      "Epoch 88/100\n",
      "828/828 [==============================] - 27s 32ms/step - loss: 0.3510 - val_loss: 0.3504\n",
      "Epoch 89/100\n",
      "828/828 [==============================] - 26s 32ms/step - loss: 0.3510 - val_loss: 0.3495\n",
      "Epoch 90/100\n",
      "828/828 [==============================] - 26s 32ms/step - loss: 0.3509 - val_loss: 0.3500\n",
      "Epoch 91/100\n",
      "828/828 [==============================] - 26s 32ms/step - loss: 0.3508 - val_loss: 0.3496\n",
      "Epoch 92/100\n",
      "828/828 [==============================] - 26s 32ms/step - loss: 0.3509 - val_loss: 0.3503\n",
      "Epoch 93/100\n",
      "828/828 [==============================] - 26s 32ms/step - loss: 0.3509 - val_loss: 0.3496\n",
      "Epoch 94/100\n",
      "828/828 [==============================] - 26s 32ms/step - loss: 0.3514 - val_loss: 0.3500\n",
      "Epoch 95/100\n",
      "828/828 [==============================] - 26s 32ms/step - loss: 0.3508 - val_loss: 0.3494\n",
      "Epoch 96/100\n",
      "828/828 [==============================] - 26s 32ms/step - loss: 0.3508 - val_loss: 0.3501\n",
      "Epoch 97/100\n",
      "828/828 [==============================] - 27s 32ms/step - loss: 0.3508 - val_loss: 0.3493\n",
      "Epoch 98/100\n",
      "828/828 [==============================] - 26s 32ms/step - loss: 0.3509 - val_loss: 0.3498\n",
      "Epoch 99/100\n",
      "828/828 [==============================] - 26s 32ms/step - loss: 0.3509 - val_loss: 0.3504\n",
      "Epoch 100/100\n",
      "828/828 [==============================] - 26s 32ms/step - loss: 0.3508 - val_loss: 0.3494\n"
     ]
    },
    {
     "data": {
      "text/plain": [
       "<tensorflow.python.keras.callbacks.History at 0x7fa1b544fcd0>"
      ]
     },
     "execution_count": 47,
     "metadata": {},
     "output_type": "execute_result"
    }
   ],
   "source": [
    "early_stopped = keras.callbacks.EarlyStopping(patience=10, restore_best_weights=True)\n",
    "check_point = keras.callbacks.ModelCheckpoint('convolution_auto_encoder.h5', save_best_only=True)\n",
    "conv_auto_encoder.fit(\n",
    "#     image_generator.flow(X_train_norm, y_train, batch_size=64),\n",
    "    X_train_norm, X_train_norm,\n",
    "    epochs=100,\n",
    "    callbacks=[early_stopped, check_point],\n",
    "    validation_split=.1\n",
    ")"
   ]
  },
  {
   "cell_type": "code",
   "execution_count": 146,
   "metadata": {},
   "outputs": [],
   "source": [
    "for_show_output = [0]"
   ]
  },
  {
   "cell_type": "code",
   "execution_count": 147,
   "metadata": {},
   "outputs": [
    {
     "data": {
      "text/plain": [
       "(32, 32, 1)"
      ]
     },
     "execution_count": 147,
     "metadata": {},
     "output_type": "execute_result"
    }
   ],
   "source": [
    "for_show_output.shape"
   ]
  },
  {
   "cell_type": "code",
   "execution_count": 148,
   "metadata": {},
   "outputs": [
    {
     "data": {
      "text/plain": [
       "<matplotlib.image.AxesImage at 0x7fa1d1a82b50>"
      ]
     },
     "execution_count": 148,
     "metadata": {},
     "output_type": "execute_result"
    },
    {
     "data": {
      "image/png": "[encoded data removed]",
      "text/plain": [
       "<Figure size 432x288 with 1 Axes>"
      ]
     },
     "metadata": {
      "needs_background": "light"
     },
     "output_type": "display_data"
    }
   ],
   "source": [
    "plt.imshow(for_show_output[:,:,0])"
   ]
  },
  {
   "cell_type": "code",
   "execution_count": 149,
   "metadata": {},
   "outputs": [],
   "source": [
    "for_show_output_pred = conv_auto_encoder.predict(for_show_output.reshape(1,32,32,1))"
   ]
  },
  {
   "cell_type": "code",
   "execution_count": 150,
   "metadata": {},
   "outputs": [
    {
     "data": {
      "text/plain": [
       "(1, 32, 32, 1)"
      ]
     },
     "execution_count": 150,
     "metadata": {},
     "output_type": "execute_result"
    }
   ],
   "source": [
    "for_show_output_pred.shape"
   ]
  },
  {
   "cell_type": "code",
   "execution_count": 151,
   "metadata": {},
   "outputs": [
    {
     "data": {
      "text/plain": [
       "<matplotlib.image.AxesImage at 0x7fa1d42334c0>"
      ]
     },
     "execution_count": 151,
     "metadata": {},
     "output_type": "execute_result"
    },
    {
     "data": {
      "image/png": "[encoded data removed]",
      "text/plain": [
       "<Figure size 432x288 with 1 Axes>"
      ]
     },
     "metadata": {
      "needs_background": "light"
     },
     "output_type": "display_data"
    }
   ],
   "source": [
    "plt.imshow(for_show_output_pred[0][:,:,0])"
   ]
  },
  {
   "cell_type": "code",
   "execution_count": 63,
   "metadata": {},
   "outputs": [
    {
     "name": "stdout",
     "output_type": "stream",
     "text": [
      "WARNING:tensorflow:From <ipython-input-63-78aa48d70c4f>:1: Sequential.predict_classes (from tensorflow.python.keras.engine.sequential) is deprecated and will be removed after 2021-01-01.\n",
      "Instructions for updating:\n",
      "Please use instead:* `np.argmax(model.predict(x), axis=-1)`,   if your model does multi-class classification   (e.g. if it uses a `softmax` last-layer activation).* `(model.predict(x) > 0.5).astype(\"int32\")`,   if your model does binary classification   (e.g. if it uses a `sigmoid` last-layer activation).\n"
     ]
    }
   ],
   "source": [
    "test_dataset_pred = conv_encoder.predict_classes(X_test_norm)"
   ]
  },
  {
   "cell_type": "code",
   "execution_count": 86,
   "metadata": {},
   "outputs": [
    {
     "data": {
      "text/plain": [
       "(9803,)"
      ]
     },
     "execution_count": 86,
     "metadata": {},
     "output_type": "execute_result"
    }
   ],
   "source": [
    "test_dataset_pred.shape"
   ]
  },
  {
   "cell_type": "code",
   "execution_count": 121,
   "metadata": {},
   "outputs": [
    {
     "data": {
      "text/plain": [
       "(9803,)"
      ]
     },
     "execution_count": 121,
     "metadata": {},
     "output_type": "execute_result"
    }
   ],
   "source": [
    "np.array(y_test.argmax(axis=1))[:,0].shape"
   ]
  },
  {
   "cell_type": "code",
   "execution_count": 67,
   "metadata": {},
   "outputs": [],
   "source": [
    "from sklearn.metrics import confusion_matrix\n",
    "unsupervised_auto_encoder = confusion_matrix(test_dataset_pred, y_test.argmax(axis=1))"
   ]
  },
  {
   "cell_type": "code",
   "execution_count": 138,
   "metadata": {},
   "outputs": [],
   "source": [
    "import pandas as pd\n",
    "unsupervised_auto_encoder = pd.DataFrame([test_dataset_pred, np.array(y_test.argmax(axis=1))[:,0]])"
   ]
  },
  {
   "cell_type": "code",
   "execution_count": 139,
   "metadata": {},
   "outputs": [],
   "source": [
    "unsupervised_auto_encoder = unsupervised_auto_encoder.T\n",
    "unsupervised_auto_encoder.columns = ['true','auto_encoder']"
   ]
  },
  {
   "cell_type": "code",
   "execution_count": 140,
   "metadata": {},
   "outputs": [],
   "source": [
    "unsupervised_auto_encoder['cnt'] = 1"
   ]
  },
  {
   "cell_type": "code",
   "execution_count": 141,
   "metadata": {},
   "outputs": [],
   "source": [
    "unsupervised_auto_encoder_grouped = unsupervised_auto_encoder.groupby(['true','auto_encoder']).count()"
   ]
  },
  {
   "cell_type": "code",
   "execution_count": 142,
   "metadata": {},
   "outputs": [],
   "source": [
    "unsupervised_auto_encoder_grouped= unsupervised_auto_encoder_grouped.reset_index()"
   ]
  },
  {
   "cell_type": "code",
   "execution_count": 144,
   "metadata": {},
   "outputs": [],
   "source": [
    "rs = unsupervised_auto_encoder_grouped.pivot_table(index='true', columns='auto_encoder',values='cnt')"
   ]
  },
  {
   "cell_type": "code",
   "execution_count": 145,
   "metadata": {},
   "outputs": [
    {
     "data": {
      "text/plain": [
       "<matplotlib.axes._subplots.AxesSubplot at 0x7fa1d3a5ccd0>"
      ]
     },
     "execution_count": 145,
     "metadata": {},
     "output_type": "execute_result"
    },
    {
     "data": {
      "image/png": "[encoded data removed]",
      "text/plain": [
       "<Figure size 432x288 with 2 Axes>"
      ]
     },
     "metadata": {
      "needs_background": "light"
     },
     "output_type": "display_data"
    }
   ],
   "source": [
    "import seaborn as sns\n",
    "sns.heatmap(rs)"
   ]
  },
  {
   "cell_type": "markdown",
   "metadata": {},
   "source": [
    "# CNN\n"
   ]
  },
  {
   "cell_type": "code",
   "execution_count": 39,
   "metadata": {},
   "outputs": [],
   "source": [
    "convolution_model = keras.models.Sequential([\n",
    "    keras.layers.Conv2D(16, 7, padding='same', activation='relu', input_shape=(image_height, image_width, channel)),\n",
    "    keras.layers.Conv2D(32, 5, padding='same', activation='relu'),\n",
    "    keras.layers.BatchNormalization(),\n",
    "    keras.layers.MaxPool2D(2),\n",
    "    keras.layers.Conv2D(32, 5, padding='same', activation='relu'),\n",
    "    keras.layers.Conv2D(64, 3, padding='same', activation='relu'),\n",
    "    keras.layers.MaxPool2D(2),\n",
    "    keras.layers.Conv2D(64, 3, padding='same', activation='relu'),\n",
    "    keras.layers.Conv2D(128, 3, padding='same', activation='relu'),\n",
    "    keras.layers.MaxPool2D(2),\n",
    "    keras.layers.Flatten(),\n",
    "    keras.layers.Dropout(.2),\n",
    "    keras.layers.Dense(500, activation='relu'),\n",
    "    keras.layers.Dense(100, activation='relu'),\n",
    "    keras.layers.Dense(43, activation='softmax'),\n",
    "])"
   ]
  },
  {
   "cell_type": "code",
   "execution_count": 40,
   "metadata": {},
   "outputs": [
    {
     "name": "stdout",
     "output_type": "stream",
     "text": [
      "Model: \"sequential_4\"\n",
      "_________________________________________________________________\n",
      "Layer (type)                 Output Shape              Param #   \n",
      "=================================================================\n",
      "conv2d_24 (Conv2D)           (None, 32, 32, 16)        800       \n",
      "_________________________________________________________________\n",
      "conv2d_25 (Conv2D)           (None, 32, 32, 32)        12832     \n",
      "_________________________________________________________________\n",
      "batch_normalization_4 (Batch (None, 32, 32, 32)        128       \n",
      "_________________________________________________________________\n",
      "max_pooling2d_12 (MaxPooling (None, 16, 16, 32)        0         \n",
      "_________________________________________________________________\n",
      "conv2d_26 (Conv2D)           (None, 16, 16, 32)        25632     \n",
      "_________________________________________________________________\n",
      "conv2d_27 (Conv2D)           (None, 16, 16, 64)        18496     \n",
      "_________________________________________________________________\n",
      "max_pooling2d_13 (MaxPooling (None, 8, 8, 64)          0         \n",
      "_________________________________________________________________\n",
      "conv2d_28 (Conv2D)           (None, 8, 8, 64)          36928     \n",
      "_________________________________________________________________\n",
      "conv2d_29 (Conv2D)           (None, 8, 8, 128)         73856     \n",
      "_________________________________________________________________\n",
      "max_pooling2d_14 (MaxPooling (None, 4, 4, 128)         0         \n",
      "_________________________________________________________________\n",
      "flatten_4 (Flatten)          (None, 2048)              0         \n",
      "_________________________________________________________________\n",
      "dropout_4 (Dropout)          (None, 2048)              0         \n",
      "_________________________________________________________________\n",
      "dense_12 (Dense)             (None, 500)               1024500   \n",
      "_________________________________________________________________\n",
      "dense_13 (Dense)             (None, 100)               50100     \n",
      "_________________________________________________________________\n",
      "dense_14 (Dense)             (None, 43)                4343      \n",
      "=================================================================\n",
      "Total params: 1,247,615\n",
      "Trainable params: 1,247,551\n",
      "Non-trainable params: 64\n",
      "_________________________________________________________________\n"
     ]
    }
   ],
   "source": [
    "convolution_model.summary()"
   ]
  },
  {
   "cell_type": "code",
   "execution_count": 41,
   "metadata": {},
   "outputs": [],
   "source": [
    "convolution_model.compile(optimizer='adam', loss='categorical_crossentropy', metrics=['accuracy'])"
   ]
  },
  {
   "cell_type": "code",
   "execution_count": null,
   "metadata": {},
   "outputs": [],
   "source": []
  },
  {
   "cell_type": "code",
   "execution_count": 54,
   "metadata": {},
   "outputs": [
    {
     "name": "stdout",
     "output_type": "stream",
     "text": [
      "Epoch 1/200\n",
      "460/460 [==============================] - 83s 181ms/step - loss: 2.3882 - accuracy: 0.3153 - val_loss: 2.0037 - val_accuracy: 0.4995\n",
      "Epoch 2/200\n",
      "460/460 [==============================] - 83s 180ms/step - loss: 0.6253 - accuracy: 0.8019 - val_loss: 0.7208 - val_accuracy: 0.7991\n",
      "Epoch 3/200\n",
      "460/460 [==============================] - 82s 178ms/step - loss: 0.2787 - accuracy: 0.9134 - val_loss: 0.5381 - val_accuracy: 0.8584\n",
      "Epoch 4/200\n",
      "460/460 [==============================] - 82s 178ms/step - loss: 0.1943 - accuracy: 0.9411 - val_loss: 0.4256 - val_accuracy: 0.8894\n",
      "Epoch 5/200\n",
      "460/460 [==============================] - 81s 177ms/step - loss: 0.1398 - accuracy: 0.9564 - val_loss: 0.5607 - val_accuracy: 0.8703\n",
      "Epoch 6/200\n",
      "460/460 [==============================] - 82s 178ms/step - loss: 0.1249 - accuracy: 0.9629 - val_loss: 0.4752 - val_accuracy: 0.8923\n",
      "Epoch 7/200\n",
      "460/460 [==============================] - 81s 177ms/step - loss: 0.1118 - accuracy: 0.9665 - val_loss: 0.6360 - val_accuracy: 0.8564\n",
      "Epoch 8/200\n",
      "460/460 [==============================] - 82s 177ms/step - loss: 0.0998 - accuracy: 0.9703 - val_loss: 0.4049 - val_accuracy: 0.9061\n",
      "Epoch 9/200\n",
      "460/460 [==============================] - 82s 178ms/step - loss: 0.0995 - accuracy: 0.9713 - val_loss: 0.4766 - val_accuracy: 0.8829\n",
      "Epoch 10/200\n",
      "460/460 [==============================] - 81s 177ms/step - loss: 0.0916 - accuracy: 0.9745 - val_loss: 0.4109 - val_accuracy: 0.9017\n",
      "Epoch 11/200\n",
      "460/460 [==============================] - 82s 178ms/step - loss: 0.0908 - accuracy: 0.9750 - val_loss: 0.5399 - val_accuracy: 0.8770\n",
      "Epoch 12/200\n",
      "460/460 [==============================] - 82s 177ms/step - loss: 0.0899 - accuracy: 0.9744 - val_loss: 0.4592 - val_accuracy: 0.9018\n",
      "Epoch 13/200\n",
      "460/460 [==============================] - 82s 178ms/step - loss: 0.0870 - accuracy: 0.9754 - val_loss: 0.4408 - val_accuracy: 0.9016\n",
      "Epoch 14/200\n",
      "460/460 [==============================] - 82s 178ms/step - loss: 0.0799 - accuracy: 0.9784 - val_loss: 0.3209 - val_accuracy: 0.9314\n",
      "Epoch 15/200\n",
      "460/460 [==============================] - 82s 177ms/step - loss: 0.0703 - accuracy: 0.9798 - val_loss: 0.3388 - val_accuracy: 0.9235\n",
      "Epoch 16/200\n",
      "460/460 [==============================] - 81s 177ms/step - loss: 0.0674 - accuracy: 0.9811 - val_loss: 0.4460 - val_accuracy: 0.9160\n",
      "Epoch 17/200\n",
      "460/460 [==============================] - 82s 178ms/step - loss: 0.0604 - accuracy: 0.9829 - val_loss: 0.3708 - val_accuracy: 0.9159\n",
      "Epoch 18/200\n",
      "460/460 [==============================] - 82s 178ms/step - loss: 0.0688 - accuracy: 0.9813 - val_loss: 0.3598 - val_accuracy: 0.9280\n",
      "Epoch 19/200\n",
      "460/460 [==============================] - 82s 178ms/step - loss: 0.0703 - accuracy: 0.9809 - val_loss: 0.4779 - val_accuracy: 0.9130\n",
      "Epoch 20/200\n",
      "460/460 [==============================] - 82s 177ms/step - loss: 0.0796 - accuracy: 0.9787 - val_loss: 0.3455 - val_accuracy: 0.9397\n",
      "Epoch 21/200\n",
      "460/460 [==============================] - 82s 178ms/step - loss: 0.0591 - accuracy: 0.9838 - val_loss: 0.3700 - val_accuracy: 0.9391\n",
      "Epoch 22/200\n",
      "460/460 [==============================] - 82s 178ms/step - loss: 0.0494 - accuracy: 0.9859 - val_loss: 0.4127 - val_accuracy: 0.9304\n",
      "Epoch 23/200\n",
      "460/460 [==============================] - 82s 178ms/step - loss: 0.0603 - accuracy: 0.9838 - val_loss: 0.3794 - val_accuracy: 0.9326\n",
      "Epoch 24/200\n",
      "460/460 [==============================] - 82s 177ms/step - loss: 0.0581 - accuracy: 0.9854 - val_loss: 0.3932 - val_accuracy: 0.9349\n"
     ]
    },
    {
     "data": {
      "text/plain": [
       "<tensorflow.python.keras.callbacks.History at 0x7fb6bed84550>"
      ]
     },
     "execution_count": 54,
     "metadata": {},
     "output_type": "execute_result"
    }
   ],
   "source": [
    "convolution_model.fit_generator(\n",
    "    training_data, epochs=200, \n",
    "    callbacks=[keras.callbacks.EarlyStopping(patience=10, restore_best_weights=True), keras.callbacks.ModelCheckpoint('cnn_base.h5', save_best_only=True)],\n",
    "    validation_data=validation_data\n",
    ")"
   ]
  },
  {
   "cell_type": "code",
   "execution_count": null,
   "metadata": {},
   "outputs": [],
   "source": []
  }
 ],
 "metadata": {
  "kernelspec": {
   "display_name": "Python 3",
   "language": "python",
   "name": "python3"
  },
  "language_info": {
   "codemirror_mode": {
    "name": "ipython",
    "version": 3
   },
   "file_extension": ".py",
   "mimetype": "text/x-python",
   "name": "python",
   "nbconvert_exporter": "python",
   "pygments_lexer": "ipython3",
   "version": "3.8.3"
  }
 },
 "nbformat": 4,
 "nbformat_minor": 4
}
